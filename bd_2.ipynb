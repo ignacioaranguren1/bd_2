{
 "cells": [
  {
   "cell_type": "markdown",
   "metadata": {
    "colab_type": "text",
    "id": "view-in-github"
   },
   "source": [
    "<a href=\"https://colab.research.google.com/github/ignacioaranguren1/bd_2/blob/main/bd_2.ipynb\" target=\"_parent\"><img src=\"https://colab.research.google.com/assets/colab-badge.svg\" alt=\"Open In Colab\"/></a>"
   ]
  },
  {
   "cell_type": "code",
   "execution_count": 126,
   "metadata": {
    "id": "vF6fH-KFdDnq"
   },
   "outputs": [],
   "source": [
    "import pandas as pd\n",
    "import numpy as np\n",
    "import matplotlib.pyplot as plt\n",
    "import pickle\n",
    "import os\n",
    "import keras_tuner\n",
    "import datetime as dt\n",
    "\n",
    "from tqdm import tqdm\n",
    "from datetime import datetime\n",
    "from tensorflow import keras\n",
    "from tensorflow.keras import layers\n",
    "from tensorflow.keras.utils import to_categorical\n",
    "from tensorflow.keras.models import Sequential\n",
    "from keras_tuner.tuners import RandomSearch"
   ]
  },
  {
   "cell_type": "code",
   "execution_count": 50,
   "metadata": {},
   "outputs": [],
   "source": [
    "%matplotlib inline\n",
    "\n",
    "datapath = '/Users/ignacioaranguren/bd_2/data'\n",
    "os.chdir(datapath)"
   ]
  },
  {
   "cell_type": "markdown",
   "metadata": {
    "id": "mUSZgH01c0gK"
   },
   "source": [
    "1.In the data used by Gu, Kelly and Xiu (RFS 2019 – provided in class), use a similar procedure to theirs to predict stock returns with neural networks. Start by finding a suitable baseline configuration, and use a validation procedure to pick optimal hyperparameters for three neural network models: One with 2 hidden layers, one with 3 hidden layers, and one with 4 hidden layers. "
   ]
  },
  {
   "cell_type": "code",
   "execution_count": 151,
   "metadata": {
    "id": "JN8g2yI6c0gN"
   },
   "outputs": [],
   "source": [
    "data = pd.read_pickle('returns_chars_panel.pkl')\n",
    "macro = pd.read_pickle('macro_timeseries.pkl')"
   ]
  },
  {
   "cell_type": "code",
   "execution_count": 168,
   "metadata": {
    "id": "uUS00_JCrz2m"
   },
   "outputs": [],
   "source": [
    "def train_validation_test_split(data,train_end_date,validation_end_date):\n",
    "  tmp = data.reset_index()\n",
    "  train = tmp[tmp.date<=train_end_date].set_index(['date','permno'],drop=True)\n",
    "  validation = tmp[(tmp.date>train_end_date) & (tmp.date<=validation_end_date)].set_index(['date','permno'],drop=True)\n",
    "  test = tmp[tmp.date>validation_end_date].set_index(['date','permno'],drop=True)\n",
    "  return train,validation,test"
   ]
  },
  {
   "cell_type": "code",
   "execution_count": 169,
   "metadata": {
    "id": "2ZXV1zHXnrbV"
   },
   "outputs": [],
   "source": [
    "data_merged = pd.merge(data,macro,on=['date'])\n",
    "datelist = list(set(data_merged['date']))\n",
    "datelist.sort()\n",
    "data_merged.set_index(['date','permno'],drop=True,inplace=True)"
   ]
  },
  {
   "cell_type": "code",
   "execution_count": 170,
   "metadata": {
    "id": "QKYOGMqDoGqO"
   },
   "outputs": [],
   "source": [
    "train_ratio = 0.5\n",
    "validation_ratio = 0.25\n",
    "train_date = datelist[int(len(datelist)*train_ratio)]\n",
    "validation_date = datelist[int(len(datelist)*(train_ratio+validation_ratio))]\n",
    "X = data_merged.iloc[:,3:].copy()\n",
    "y = data_merged['excess_ret'].copy()"
   ]
  },
  {
   "cell_type": "code",
   "execution_count": 172,
   "metadata": {
    "id": "JiHQP_Xmrv9s"
   },
   "outputs": [],
   "source": [
    "X_train,X_validation,X_test = train_validation_test_split(X,train_date,validation_date)\n",
    "y_train,y_validation,y_test = train_validation_test_split(y,train_date,validation_date)"
   ]
  },
  {
   "cell_type": "code",
   "execution_count": 56,
   "metadata": {},
   "outputs": [],
   "source": [
    "def keras_model(n_layers, units, dropout_rate, learning_rate):\n",
    "    # Build model\n",
    "    model = Sequential()\n",
    "    model.add(layers.Input(shape=(105,)))\n",
    "    for i in range(n_layers):\n",
    "        model.add(layers.Dense(units=units[0][i], activation='relu'))\n",
    "    model.add(layers.Dropout(rate=dropout_rate[0]))\n",
    "    model.add(layers.Dense(1, activation='linear'))\n",
    "    model.compile(\n",
    "        optimizer=keras.optimizers.Adam(learning_rate=learning_rate),\n",
    "        loss='mse')\n",
    "    return model\n",
    "\n",
    "class HyperRegressor(keras_tuner.HyperModel):\n",
    "    def __init__(self, n_layers, *args, **kwargs):\n",
    "        self.n_layers = n_layers\n",
    "        super().__init__(*args, **kwargs)\n",
    "\n",
    "    def build(self, hp):\n",
    "        units=[hp.Int(f'units_{i + 1}',min_value=16,max_value=160,step=16) for i in range(self.n_layers)],\n",
    "        dropout_rate=hp.Choice('dropout_rate', values=[0.2,0.4,0.6,0.8]),\n",
    "        learning_rate = hp.Float(\"learning_rate\", min_value=1e-4, max_value=1e-2, sampling=\"log\")\n",
    "        return keras_model(self.n_layers,\n",
    "                           units, \n",
    "                           dropout_rate, \n",
    "                           learning_rate\n",
    "                          )\n",
    "\n",
    "    def fit(self, hp, model, x, y, validation_data, **kwargs):\n",
    "        model.fit(x, y, **kwargs)\n",
    "        x_val, y_val = validation_data\n",
    "        y_pred = model.predict(x_val)\n",
    "        # Return a single float to minimize.\n",
    "        return np.mean((y_pred - y_val)**2)"
   ]
  },
  {
   "cell_type": "code",
   "execution_count": 57,
   "metadata": {},
   "outputs": [],
   "source": [
    "MAX_TRIALS = 10\n",
    "EXECUTION_PER_TRIAL = 3\n",
    "EPOCHS = 10\n",
    "BATCH_SIZE = 256\n",
    "\n",
    "def tune_model(n_layers=2):\n",
    "  tuner = RandomSearch(\n",
    "        hypermodel=HyperRegressor(n_layers),\n",
    "        max_trials=MAX_TRIALS,\n",
    "        executions_per_trial=EXECUTION_PER_TRIAL,\n",
    "        overwrite=True,\n",
    "        directory='bd_2',\n",
    "        project_name=f'NN_new_{n_layers}'\n",
    "  )\n",
    "  tuner.search(\n",
    "      X_train.values, \n",
    "      y_train.values,\n",
    "      validation_data=(X_validation.values, y_validation.values),\n",
    "      batch_size=BATCH_SIZE,\n",
    "      epochs=EPOCHS\n",
    "  )\n",
    "  return tuner"
   ]
  },
  {
   "cell_type": "code",
   "execution_count": 58,
   "metadata": {},
   "outputs": [
    {
     "name": "stdout",
     "output_type": "stream",
     "text": [
      "Trial 10 Complete [00h 05m 01s]\n",
      "default_objective: 0.040514956096232325\n",
      "\n",
      "Best default_objective So Far: 0.04012584269145073\n",
      "Total elapsed time: 00h 49m 58s\n",
      "INFO:tensorflow:Oracle triggered exit\n"
     ]
    }
   ],
   "source": [
    "models=[]\n",
    "parameters=[]\n",
    "tuners=[]\n",
    "for n in range(2,5):\n",
    "    tuner = tune_model(n)\n",
    "    parameters.append(tuner.get_best_hyperparameters)\n",
    "    models.append(tuner.get_best_models(1)[0])\n",
    "    tuners.append(tuner)"
   ]
  },
  {
   "cell_type": "code",
   "execution_count": 59,
   "metadata": {},
   "outputs": [
    {
     "data": {
      "text/plain": [
       "[<keras.engine.sequential.Sequential at 0x140734ee0>,\n",
       " <keras.engine.sequential.Sequential at 0x140eb4ee0>,\n",
       " <keras.engine.sequential.Sequential at 0x1408ed8e0>]"
      ]
     },
     "execution_count": 59,
     "metadata": {},
     "output_type": "execute_result"
    }
   ],
   "source": [
    "models"
   ]
  },
  {
   "cell_type": "code",
   "execution_count": 60,
   "metadata": {
    "scrolled": true
   },
   "outputs": [
    {
     "name": "stdout",
     "output_type": "stream",
     "text": [
      "4920/4920 [==============================] - 3s 557us/step - loss: 0.0222\n",
      "4312/4312 [==============================] - 2s 566us/step - loss: 0.0255\n",
      "4920/4920 [==============================] - 4s 731us/step - loss: 0.0219\n",
      "4312/4312 [==============================] - 3s 745us/step - loss: 0.0255\n",
      "4920/4920 [==============================] - 3s 572us/step - loss: 0.0221\n",
      "4312/4312 [==============================] - 3s 582us/step - loss: 0.0255\n"
     ]
    }
   ],
   "source": [
    "results = {}\n",
    "for i in range(3):\n",
    "    train_result = models[i].evaluate(X_train.values,y_train.values,batch_size=256)\n",
    "    test_result = models[i].evaluate(X_test.values,y_test.values,batch_size=256)\n",
    "    results[f'model_{i}'] = {'train': train_result,'test': test_result}"
   ]
  },
  {
   "cell_type": "code",
   "execution_count": 74,
   "metadata": {},
   "outputs": [
    {
     "data": {
      "text/plain": [
       "{'model_0': {'train': 0.022159937769174576, 'test': 0.025516396388411522},\n",
       " 'model_1': {'train': 0.021902702748775482, 'test': 0.025462862104177475},\n",
       " 'model_2': {'train': 0.02213214337825775, 'test': 0.025467146188020706}}"
      ]
     },
     "execution_count": 74,
     "metadata": {},
     "output_type": "execute_result"
    }
   ],
   "source": [
    "results"
   ]
  },
  {
   "cell_type": "code",
   "execution_count": 73,
   "metadata": {},
   "outputs": [
    {
     "name": "stdout",
     "output_type": "stream",
     "text": [
      "{'units_1': 32, 'units_2': 32, 'dropout_rate': 0.6, 'learning_rate': 0.00012474684203056348}\n",
      "{'units_1': 96, 'units_2': 128, 'units_3': 64, 'dropout_rate': 0.8, 'learning_rate': 0.0002967584080441718}\n",
      "{'units_1': 32, 'units_2': 32, 'units_3': 32, 'units_4': 16, 'dropout_rate': 0.8, 'learning_rate': 0.0002796941031491936}\n"
     ]
    }
   ],
   "source": [
    "for i in range(3):\n",
    "  print(tuners[i].get_best_hyperparameters()[0].values)"
   ]
  },
  {
   "cell_type": "code",
   "execution_count": 69,
   "metadata": {},
   "outputs": [
    {
     "name": "stdout",
     "output_type": "stream",
     "text": [
      "INFO:tensorflow:Assets written to: ram://71713393-ea6b-4006-a0e3-c627dadb352b/assets\n",
      "INFO:tensorflow:Assets written to: ram://a47e28e8-de34-4e4e-8c53-89cf37802bd9/assets\n",
      "INFO:tensorflow:Assets written to: ram://f1cb8e24-4df9-4bf3-8ea3-b89ce9606319/assets\n"
     ]
    }
   ],
   "source": [
    "with open('parameters.pkl','wb') as f:\n",
    "  pickle.dump(parameters,f)\n",
    "with open('models.pkl','wb') as f:\n",
    "  pickle.dump(models,f)\n",
    "with open('tuners.pkl','wb') as f:\n",
    "  pickle.dump(tuners,f)"
   ]
  },
  {
   "cell_type": "markdown",
   "metadata": {
    "id": "CP73ewuxc0gT"
   },
   "source": [
    "2.Use test data to get an idea of the out of sample performance of each model. Convert the standard MSE metric for out of sample performance to the “R2 out of sample” metric that was discussed in class. Compare your results to those in Gu-Kelly-Xiu and comment on the differences. "
   ]
  },
  {
   "cell_type": "code",
   "execution_count": 75,
   "metadata": {},
   "outputs": [],
   "source": [
    "with open('models.pkl','rb') as f:\n",
    "  models = pickle.load(f)\n",
    "with open('parameters.pkl','rb') as f:\n",
    "  parameters = pickle.load(f)\n",
    "with open('tuners.pkl','rb') as f:\n",
    "  tuners = pickle.load(f)"
   ]
  },
  {
   "cell_type": "code",
   "execution_count": 175,
   "metadata": {
    "id": "vRGwEta1c0gU"
   },
   "outputs": [
    {
     "name": "stdout",
     "output_type": "stream",
     "text": [
      "4312/4312 [==============================] - 4s 884us/step\n",
      "700/700 [==============================] - 1s 851us/step\n",
      "700/700 [==============================] - 1s 802us/step\n",
      "4312/4312 [==============================] - 4s 916us/step\n",
      "700/700 [==============================] - 1s 948us/step\n",
      "700/700 [==============================] - 1s 881us/step\n",
      "4312/4312 [==============================] - 3s 794us/step\n",
      "700/700 [==============================] - 1s 733us/step\n",
      "700/700 [==============================] - 0s 678us/step\n"
     ]
    }
   ],
   "source": [
    "def r_squared(y_pred, y_test):\n",
    "    return 1 - np.sum((y_test - y_pred)**2) / np.sum(y_test**2)\n",
    "\n",
    "rankings = X_test['mvel1'].groupby(['date']).rank()\n",
    "top_X_test = X_test.loc[rankings<=1000,:].values\n",
    "top_y_test = y_test.loc[rankings<=1000,:].values\n",
    "rankings_reverse = X_test['mvel1'].groupby(['date']).rank(ascending=False)\n",
    "bottom_X_test = X_test.loc[rankings_reverse<=1000,:].values\n",
    "bottom_y_test = y_test.loc[rankings_reverse<=1000,:].values\n",
    "\n",
    "R2_oos_df = pd.DataFrame(columns = ['R2_OOS','R2_OOS_top1000','R2_OOS_low1000'],index = ['NN2','NN3','NN4'])\n",
    "for i in range(3):\n",
    "    y_pred_all = models[i].predict(X_test,batch_size=256).reshape(-1,1)\n",
    "    y_pred_top = models[i].predict(top_X_test,batch_size=256).reshape(-1,1)\n",
    "    y_pred_bottom = models[i].predict(bottom_X_test,batch_size=256).reshape(-1,1)\n",
    "    \n",
    "    row = [r_squared(y_pred_all, y_test)[0],\n",
    "           r_squared(y_pred_top, top_y_test),\n",
    "           r_squared(y_pred_bottom, bottom_y_test)]\n",
    "    \n",
    "    R2_oos_df.iloc[i]= row"
   ]
  },
  {
   "cell_type": "code",
   "execution_count": 176,
   "metadata": {},
   "outputs": [
    {
     "data": {
      "text/html": [
       "<div>\n",
       "<style scoped>\n",
       "    .dataframe tbody tr th:only-of-type {\n",
       "        vertical-align: middle;\n",
       "    }\n",
       "\n",
       "    .dataframe tbody tr th {\n",
       "        vertical-align: top;\n",
       "    }\n",
       "\n",
       "    .dataframe thead th {\n",
       "        text-align: right;\n",
       "    }\n",
       "</style>\n",
       "<table border=\"1\" class=\"dataframe\">\n",
       "  <thead>\n",
       "    <tr style=\"text-align: right;\">\n",
       "      <th></th>\n",
       "      <th>R2_OOS</th>\n",
       "      <th>R2_OOS_top1000</th>\n",
       "      <th>R2_OOS_low1000</th>\n",
       "    </tr>\n",
       "  </thead>\n",
       "  <tbody>\n",
       "    <tr>\n",
       "      <th>NN2</th>\n",
       "      <td>0.741033</td>\n",
       "      <td>0.822783</td>\n",
       "      <td>0.883065</td>\n",
       "    </tr>\n",
       "    <tr>\n",
       "      <th>NN3</th>\n",
       "      <td>0.949141</td>\n",
       "      <td>1.173593</td>\n",
       "      <td>0.534166</td>\n",
       "    </tr>\n",
       "    <tr>\n",
       "      <th>NN4</th>\n",
       "      <td>0.932509</td>\n",
       "      <td>1.037264</td>\n",
       "      <td>0.865441</td>\n",
       "    </tr>\n",
       "  </tbody>\n",
       "</table>\n",
       "</div>"
      ],
      "text/plain": [
       "       R2_OOS R2_OOS_top1000 R2_OOS_low1000\n",
       "NN2  0.741033       0.822783       0.883065\n",
       "NN3  0.949141       1.173593       0.534166\n",
       "NN4  0.932509       1.037264       0.865441"
      ]
     },
     "execution_count": 176,
     "metadata": {},
     "output_type": "execute_result"
    }
   ],
   "source": [
    "R2_oos_df * 100"
   ]
  },
  {
   "cell_type": "code",
   "execution_count": 183,
   "metadata": {},
   "outputs": [
    {
     "data": {
      "text/plain": [
       "0.009491411722372889"
      ]
     },
     "execution_count": 183,
     "metadata": {},
     "output_type": "execute_result"
    }
   ],
   "source": [
    "# X_test.groupby(pd.Grouper(freq='M'))['mvel1'].rank()\n",
    "best_r_squared = max(R2_oos_df.iloc[:,0])\n",
    "best_r_squared"
   ]
  },
  {
   "cell_type": "markdown",
   "metadata": {
    "id": "eV0nT10sc0gU"
   },
   "source": [
    "3.Pick the model that performs the best out of sample, and interpret its output by doing the following analysis of variable importance:\n",
    "a.\tFirst, for all stock characteristics, get variable importance by setting one predictor at a time to zero and finding the decrease in out of sample R2. Show a table of the 10 most important variables according to this measure, and give an economic interpretation. \n"
   ]
  },
  {
   "cell_type": "code",
   "execution_count": 186,
   "metadata": {},
   "outputs": [
    {
     "name": "stderr",
     "output_type": "stream",
     "text": [
      "\r",
      "  0%|                                                   | 0/105 [00:00<?, ?it/s]"
     ]
    },
    {
     "name": "stdout",
     "output_type": "stream",
     "text": [
      "4312/4312 [==============================] - 3s 787us/step\n"
     ]
    },
    {
     "name": "stderr",
     "output_type": "stream",
     "text": [
      "\r",
      "  1%|▍                                          | 1/105 [00:07<12:48,  7.39s/it]"
     ]
    },
    {
     "name": "stdout",
     "output_type": "stream",
     "text": [
      "4312/4312 [==============================] - 3s 652us/step\n"
     ]
    },
    {
     "name": "stderr",
     "output_type": "stream",
     "text": [
      "\r",
      "  2%|▊                                          | 2/105 [00:13<11:45,  6.85s/it]"
     ]
    },
    {
     "name": "stdout",
     "output_type": "stream",
     "text": [
      "4312/4312 [==============================] - 3s 715us/step\n"
     ]
    },
    {
     "name": "stderr",
     "output_type": "stream",
     "text": [
      "\r",
      "  3%|█▏                                         | 3/105 [00:20<11:33,  6.80s/it]"
     ]
    },
    {
     "name": "stdout",
     "output_type": "stream",
     "text": [
      "4312/4312 [==============================] - 3s 680us/step\n"
     ]
    },
    {
     "name": "stderr",
     "output_type": "stream",
     "text": [
      "\r",
      "  4%|█▋                                         | 4/105 [00:27<11:25,  6.79s/it]"
     ]
    },
    {
     "name": "stdout",
     "output_type": "stream",
     "text": [
      "4312/4312 [==============================] - 3s 709us/step\n"
     ]
    },
    {
     "name": "stderr",
     "output_type": "stream",
     "text": [
      "\r",
      "  5%|██                                         | 5/105 [00:34<11:17,  6.77s/it]"
     ]
    },
    {
     "name": "stdout",
     "output_type": "stream",
     "text": [
      "4312/4312 [==============================] - 3s 674us/step\n"
     ]
    },
    {
     "name": "stderr",
     "output_type": "stream",
     "text": [
      "\r",
      "  6%|██▍                                        | 6/105 [00:41<11:46,  7.14s/it]"
     ]
    },
    {
     "name": "stdout",
     "output_type": "stream",
     "text": [
      "4312/4312 [==============================] - 3s 665us/step\n"
     ]
    },
    {
     "name": "stderr",
     "output_type": "stream",
     "text": [
      "\r",
      "  7%|██▊                                        | 7/105 [00:47<11:02,  6.76s/it]"
     ]
    },
    {
     "name": "stdout",
     "output_type": "stream",
     "text": [
      "4312/4312 [==============================] - 3s 582us/step\n"
     ]
    },
    {
     "name": "stderr",
     "output_type": "stream",
     "text": [
      "\r",
      "  8%|███▎                                       | 8/105 [00:53<10:19,  6.39s/it]"
     ]
    },
    {
     "name": "stdout",
     "output_type": "stream",
     "text": [
      "4312/4312 [==============================] - 3s 580us/step\n"
     ]
    },
    {
     "name": "stderr",
     "output_type": "stream",
     "text": [
      "\r",
      "  9%|███▋                                       | 9/105 [00:59<09:50,  6.15s/it]"
     ]
    },
    {
     "name": "stdout",
     "output_type": "stream",
     "text": [
      "4312/4312 [==============================] - 3s 588us/step\n"
     ]
    },
    {
     "name": "stderr",
     "output_type": "stream",
     "text": [
      "\r",
      " 10%|████                                      | 10/105 [01:04<09:30,  6.01s/it]"
     ]
    },
    {
     "name": "stdout",
     "output_type": "stream",
     "text": [
      "4312/4312 [==============================] - 3s 688us/step\n"
     ]
    },
    {
     "name": "stderr",
     "output_type": "stream",
     "text": [
      "\r",
      " 10%|████▍                                     | 11/105 [01:10<09:28,  6.04s/it]"
     ]
    },
    {
     "name": "stdout",
     "output_type": "stream",
     "text": [
      "4312/4312 [==============================] - 3s 672us/step\n"
     ]
    },
    {
     "name": "stderr",
     "output_type": "stream",
     "text": [
      "\r",
      " 11%|████▊                                     | 12/105 [01:17<09:22,  6.05s/it]"
     ]
    },
    {
     "name": "stdout",
     "output_type": "stream",
     "text": [
      "4312/4312 [==============================] - 3s 645us/step\n"
     ]
    },
    {
     "name": "stderr",
     "output_type": "stream",
     "text": [
      "\r",
      " 12%|█████▏                                    | 13/105 [01:23<09:36,  6.27s/it]"
     ]
    },
    {
     "name": "stdout",
     "output_type": "stream",
     "text": [
      "4312/4312 [==============================] - 3s 712us/step\n"
     ]
    },
    {
     "name": "stderr",
     "output_type": "stream",
     "text": [
      "\r",
      " 13%|█████▌                                    | 14/105 [01:31<10:09,  6.70s/it]"
     ]
    },
    {
     "name": "stdout",
     "output_type": "stream",
     "text": [
      "4312/4312 [==============================] - 3s 691us/step\n"
     ]
    },
    {
     "name": "stderr",
     "output_type": "stream",
     "text": [
      "\r",
      " 14%|██████                                    | 15/105 [01:38<09:57,  6.64s/it]"
     ]
    },
    {
     "name": "stdout",
     "output_type": "stream",
     "text": [
      "4312/4312 [==============================] - 3s 781us/step\n"
     ]
    },
    {
     "name": "stderr",
     "output_type": "stream",
     "text": [
      "\r",
      " 15%|██████▍                                   | 16/105 [01:45<10:01,  6.76s/it]"
     ]
    },
    {
     "name": "stdout",
     "output_type": "stream",
     "text": [
      "4312/4312 [==============================] - 3s 789us/step\n"
     ]
    },
    {
     "name": "stderr",
     "output_type": "stream",
     "text": [
      "\r",
      " 16%|██████▊                                   | 17/105 [01:52<10:05,  6.88s/it]"
     ]
    },
    {
     "name": "stdout",
     "output_type": "stream",
     "text": [
      "4312/4312 [==============================] - 3s 731us/step\n"
     ]
    },
    {
     "name": "stderr",
     "output_type": "stream",
     "text": [
      "\r",
      " 17%|███████▏                                  | 18/105 [01:59<10:08,  6.99s/it]"
     ]
    },
    {
     "name": "stdout",
     "output_type": "stream",
     "text": [
      "4312/4312 [==============================] - 3s 724us/step\n"
     ]
    },
    {
     "name": "stderr",
     "output_type": "stream",
     "text": [
      "\r",
      " 18%|███████▌                                  | 19/105 [02:06<09:51,  6.88s/it]"
     ]
    },
    {
     "name": "stdout",
     "output_type": "stream",
     "text": [
      "4312/4312 [==============================] - 3s 687us/step\n"
     ]
    },
    {
     "name": "stderr",
     "output_type": "stream",
     "text": [
      "\r",
      " 19%|████████                                  | 20/105 [02:12<09:37,  6.79s/it]"
     ]
    },
    {
     "name": "stdout",
     "output_type": "stream",
     "text": [
      "4312/4312 [==============================] - 3s 650us/step\n"
     ]
    },
    {
     "name": "stderr",
     "output_type": "stream",
     "text": [
      "\r",
      " 20%|████████▍                                 | 21/105 [02:19<09:23,  6.71s/it]"
     ]
    },
    {
     "name": "stdout",
     "output_type": "stream",
     "text": [
      "4312/4312 [==============================] - 3s 645us/step\n"
     ]
    },
    {
     "name": "stderr",
     "output_type": "stream",
     "text": [
      "\r",
      " 21%|████████▊                                 | 22/105 [02:25<09:14,  6.68s/it]"
     ]
    },
    {
     "name": "stdout",
     "output_type": "stream",
     "text": [
      "4312/4312 [==============================] - 3s 773us/step\n"
     ]
    },
    {
     "name": "stderr",
     "output_type": "stream",
     "text": [
      "\r",
      " 22%|█████████▏                                | 23/105 [02:33<09:26,  6.91s/it]"
     ]
    },
    {
     "name": "stdout",
     "output_type": "stream",
     "text": [
      "4312/4312 [==============================] - 3s 653us/step\n"
     ]
    },
    {
     "name": "stderr",
     "output_type": "stream",
     "text": [
      "\r",
      " 23%|█████████▌                                | 24/105 [02:39<09:15,  6.86s/it]"
     ]
    },
    {
     "name": "stdout",
     "output_type": "stream",
     "text": [
      "4312/4312 [==============================] - 3s 696us/step\n"
     ]
    },
    {
     "name": "stderr",
     "output_type": "stream",
     "text": [
      "\r",
      " 24%|██████████                                | 25/105 [02:46<09:10,  6.88s/it]"
     ]
    },
    {
     "name": "stdout",
     "output_type": "stream",
     "text": [
      "4312/4312 [==============================] - 3s 679us/step\n"
     ]
    },
    {
     "name": "stderr",
     "output_type": "stream",
     "text": [
      "\r",
      " 25%|██████████▍                               | 26/105 [02:54<09:23,  7.13s/it]"
     ]
    },
    {
     "name": "stdout",
     "output_type": "stream",
     "text": [
      "4312/4312 [==============================] - 3s 594us/step\n"
     ]
    },
    {
     "name": "stderr",
     "output_type": "stream",
     "text": [
      "\r",
      " 26%|██████████▊                               | 27/105 [03:00<08:40,  6.68s/it]"
     ]
    },
    {
     "name": "stdout",
     "output_type": "stream",
     "text": [
      "4312/4312 [==============================] - 3s 612us/step\n"
     ]
    },
    {
     "name": "stderr",
     "output_type": "stream",
     "text": [
      "\r",
      " 27%|███████████▏                              | 28/105 [03:06<08:13,  6.40s/it]"
     ]
    },
    {
     "name": "stdout",
     "output_type": "stream",
     "text": [
      "4312/4312 [==============================] - 3s 576us/step\n"
     ]
    },
    {
     "name": "stderr",
     "output_type": "stream",
     "text": [
      "\r",
      " 28%|███████████▌                              | 29/105 [03:11<07:47,  6.15s/it]"
     ]
    },
    {
     "name": "stdout",
     "output_type": "stream",
     "text": [
      "4312/4312 [==============================] - 3s 579us/step\n"
     ]
    },
    {
     "name": "stderr",
     "output_type": "stream",
     "text": [
      "\r",
      " 29%|████████████                              | 30/105 [03:17<07:28,  5.99s/it]"
     ]
    },
    {
     "name": "stdout",
     "output_type": "stream",
     "text": [
      "4312/4312 [==============================] - 3s 625us/step\n"
     ]
    },
    {
     "name": "stderr",
     "output_type": "stream",
     "text": [
      "\r",
      " 30%|████████████▍                             | 31/105 [03:22<07:18,  5.93s/it]"
     ]
    },
    {
     "name": "stdout",
     "output_type": "stream",
     "text": [
      "4312/4312 [==============================] - 3s 704us/step\n"
     ]
    },
    {
     "name": "stderr",
     "output_type": "stream",
     "text": [
      "\r",
      " 30%|████████████▊                             | 32/105 [03:29<07:19,  6.02s/it]"
     ]
    },
    {
     "name": "stdout",
     "output_type": "stream",
     "text": [
      "4312/4312 [==============================] - 3s 682us/step\n"
     ]
    },
    {
     "name": "stderr",
     "output_type": "stream",
     "text": [
      "\r",
      " 31%|█████████████▏                            | 33/105 [03:35<07:15,  6.05s/it]"
     ]
    },
    {
     "name": "stdout",
     "output_type": "stream",
     "text": [
      "4312/4312 [==============================] - 3s 791us/step\n"
     ]
    },
    {
     "name": "stderr",
     "output_type": "stream",
     "text": [
      "\r",
      " 32%|█████████████▌                            | 34/105 [03:42<07:42,  6.51s/it]"
     ]
    },
    {
     "name": "stdout",
     "output_type": "stream",
     "text": [
      "4312/4312 [==============================] - 3s 618us/step\n"
     ]
    },
    {
     "name": "stderr",
     "output_type": "stream",
     "text": [
      "\r",
      " 33%|██████████████                            | 35/105 [03:49<07:28,  6.40s/it]"
     ]
    },
    {
     "name": "stdout",
     "output_type": "stream",
     "text": [
      "4312/4312 [==============================] - 3s 637us/step\n"
     ]
    },
    {
     "name": "stderr",
     "output_type": "stream",
     "text": [
      "\r",
      " 34%|██████████████▍                           | 36/105 [03:55<07:20,  6.38s/it]"
     ]
    },
    {
     "name": "stdout",
     "output_type": "stream",
     "text": [
      "4312/4312 [==============================] - 3s 644us/step\n"
     ]
    },
    {
     "name": "stderr",
     "output_type": "stream",
     "text": [
      "\r",
      " 35%|██████████████▊                           | 37/105 [04:01<07:14,  6.40s/it]"
     ]
    },
    {
     "name": "stdout",
     "output_type": "stream",
     "text": [
      "4312/4312 [==============================] - 3s 642us/step\n"
     ]
    },
    {
     "name": "stderr",
     "output_type": "stream",
     "text": [
      "\r",
      " 36%|███████████████▏                          | 38/105 [04:08<07:07,  6.38s/it]"
     ]
    },
    {
     "name": "stdout",
     "output_type": "stream",
     "text": [
      "4312/4312 [==============================] - 3s 684us/step\n"
     ]
    },
    {
     "name": "stderr",
     "output_type": "stream",
     "text": [
      "\r",
      " 37%|███████████████▌                          | 39/105 [04:14<07:09,  6.50s/it]"
     ]
    },
    {
     "name": "stdout",
     "output_type": "stream",
     "text": [
      "4312/4312 [==============================] - 3s 641us/step\n"
     ]
    },
    {
     "name": "stderr",
     "output_type": "stream",
     "text": [
      "\r",
      " 38%|████████████████                          | 40/105 [04:21<06:59,  6.45s/it]"
     ]
    },
    {
     "name": "stdout",
     "output_type": "stream",
     "text": [
      "4312/4312 [==============================] - 3s 658us/step\n"
     ]
    },
    {
     "name": "stderr",
     "output_type": "stream",
     "text": [
      "\r",
      " 39%|████████████████▍                         | 41/105 [04:27<06:52,  6.45s/it]"
     ]
    },
    {
     "name": "stdout",
     "output_type": "stream",
     "text": [
      "4312/4312 [==============================] - 3s 669us/step\n"
     ]
    },
    {
     "name": "stderr",
     "output_type": "stream",
     "text": [
      "\r",
      " 40%|████████████████▊                         | 42/105 [04:34<06:58,  6.65s/it]"
     ]
    },
    {
     "name": "stdout",
     "output_type": "stream",
     "text": [
      "4312/4312 [==============================] - 3s 648us/step\n"
     ]
    },
    {
     "name": "stderr",
     "output_type": "stream",
     "text": [
      "\r",
      " 41%|█████████████████▏                        | 43/105 [04:42<07:05,  6.86s/it]"
     ]
    },
    {
     "name": "stdout",
     "output_type": "stream",
     "text": [
      "4312/4312 [==============================] - 3s 596us/step\n"
     ]
    },
    {
     "name": "stderr",
     "output_type": "stream",
     "text": [
      "\r",
      " 42%|█████████████████▌                        | 44/105 [04:47<06:36,  6.50s/it]"
     ]
    },
    {
     "name": "stdout",
     "output_type": "stream",
     "text": [
      "4312/4312 [==============================] - 3s 581us/step\n"
     ]
    },
    {
     "name": "stderr",
     "output_type": "stream",
     "text": [
      "\r",
      " 43%|██████████████████                        | 45/105 [04:53<06:13,  6.23s/it]"
     ]
    },
    {
     "name": "stdout",
     "output_type": "stream",
     "text": [
      "4312/4312 [==============================] - 3s 617us/step\n"
     ]
    },
    {
     "name": "stderr",
     "output_type": "stream",
     "text": [
      "\r",
      " 44%|██████████████████▍                       | 46/105 [04:59<05:58,  6.08s/it]"
     ]
    },
    {
     "name": "stdout",
     "output_type": "stream",
     "text": [
      "4312/4312 [==============================] - 3s 577us/step\n"
     ]
    },
    {
     "name": "stderr",
     "output_type": "stream",
     "text": [
      "\r",
      " 45%|██████████████████▊                       | 47/105 [05:04<05:43,  5.93s/it]"
     ]
    },
    {
     "name": "stdout",
     "output_type": "stream",
     "text": [
      "4312/4312 [==============================] - 3s 579us/step\n"
     ]
    },
    {
     "name": "stderr",
     "output_type": "stream",
     "text": [
      "\r",
      " 46%|███████████████████▏                      | 48/105 [05:10<05:31,  5.82s/it]"
     ]
    },
    {
     "name": "stdout",
     "output_type": "stream",
     "text": [
      "4312/4312 [==============================] - 3s 625us/step\n"
     ]
    },
    {
     "name": "stderr",
     "output_type": "stream",
     "text": [
      "\r",
      " 47%|███████████████████▌                      | 49/105 [05:16<05:25,  5.81s/it]"
     ]
    },
    {
     "name": "stdout",
     "output_type": "stream",
     "text": [
      "4312/4312 [==============================] - 3s 677us/step\n"
     ]
    },
    {
     "name": "stderr",
     "output_type": "stream",
     "text": [
      "\r",
      " 48%|████████████████████                      | 50/105 [05:22<05:24,  5.91s/it]"
     ]
    },
    {
     "name": "stdout",
     "output_type": "stream",
     "text": [
      "4312/4312 [==============================] - 3s 644us/step\n"
     ]
    },
    {
     "name": "stderr",
     "output_type": "stream",
     "text": [
      "\r",
      " 49%|████████████████████▍                     | 51/105 [05:28<05:31,  6.13s/it]"
     ]
    },
    {
     "name": "stdout",
     "output_type": "stream",
     "text": [
      "4312/4312 [==============================] - 3s 639us/step\n"
     ]
    },
    {
     "name": "stderr",
     "output_type": "stream",
     "text": [
      "\r",
      " 50%|████████████████████▊                     | 52/105 [05:35<05:29,  6.22s/it]"
     ]
    },
    {
     "name": "stdout",
     "output_type": "stream",
     "text": [
      "4312/4312 [==============================] - 3s 609us/step\n"
     ]
    },
    {
     "name": "stderr",
     "output_type": "stream",
     "text": [
      "\r",
      " 50%|█████████████████████▏                    | 53/105 [05:41<05:22,  6.21s/it]"
     ]
    },
    {
     "name": "stdout",
     "output_type": "stream",
     "text": [
      "4312/4312 [==============================] - 3s 678us/step\n"
     ]
    },
    {
     "name": "stderr",
     "output_type": "stream",
     "text": [
      "\r",
      " 51%|█████████████████████▌                    | 54/105 [05:48<05:32,  6.51s/it]"
     ]
    },
    {
     "name": "stdout",
     "output_type": "stream",
     "text": [
      "4312/4312 [==============================] - 3s 630us/step\n"
     ]
    },
    {
     "name": "stderr",
     "output_type": "stream",
     "text": [
      "\r",
      " 52%|██████████████████████                    | 55/105 [05:55<05:27,  6.54s/it]"
     ]
    },
    {
     "name": "stdout",
     "output_type": "stream",
     "text": [
      "4312/4312 [==============================] - 3s 664us/step\n"
     ]
    },
    {
     "name": "stderr",
     "output_type": "stream",
     "text": [
      "\r",
      " 53%|██████████████████████▍                   | 56/105 [06:01<05:19,  6.51s/it]"
     ]
    },
    {
     "name": "stdout",
     "output_type": "stream",
     "text": [
      "4312/4312 [==============================] - 3s 617us/step\n"
     ]
    },
    {
     "name": "stderr",
     "output_type": "stream",
     "text": [
      "\r",
      " 54%|██████████████████████▊                   | 57/105 [06:08<05:13,  6.53s/it]"
     ]
    },
    {
     "name": "stdout",
     "output_type": "stream",
     "text": [
      "4312/4312 [==============================] - 3s 694us/step\n"
     ]
    },
    {
     "name": "stderr",
     "output_type": "stream",
     "text": [
      "\r",
      " 55%|███████████████████████▏                  | 58/105 [06:15<05:12,  6.66s/it]"
     ]
    },
    {
     "name": "stdout",
     "output_type": "stream",
     "text": [
      "4312/4312 [==============================] - 3s 650us/step\n"
     ]
    },
    {
     "name": "stderr",
     "output_type": "stream",
     "text": [
      "\r",
      " 56%|███████████████████████▌                  | 59/105 [06:21<05:01,  6.56s/it]"
     ]
    },
    {
     "name": "stdout",
     "output_type": "stream",
     "text": [
      "4312/4312 [==============================] - 5s 1ms/step\n"
     ]
    },
    {
     "name": "stderr",
     "output_type": "stream",
     "text": [
      "\r",
      " 57%|████████████████████████                  | 60/105 [06:30<05:24,  7.21s/it]"
     ]
    },
    {
     "name": "stdout",
     "output_type": "stream",
     "text": [
      "4312/4312 [==============================] - 3s 661us/step\n"
     ]
    },
    {
     "name": "stderr",
     "output_type": "stream",
     "text": [
      "\r",
      " 58%|████████████████████████▍                 | 61/105 [06:42<06:22,  8.70s/it]"
     ]
    },
    {
     "name": "stdout",
     "output_type": "stream",
     "text": [
      "4312/4312 [==============================] - 3s 655us/step\n"
     ]
    },
    {
     "name": "stderr",
     "output_type": "stream",
     "text": [
      "\r",
      " 59%|████████████████████████▊                 | 62/105 [06:50<06:05,  8.50s/it]"
     ]
    },
    {
     "name": "stdout",
     "output_type": "stream",
     "text": [
      "4312/4312 [==============================] - 3s 714us/step\n"
     ]
    },
    {
     "name": "stderr",
     "output_type": "stream",
     "text": [
      "\r",
      " 60%|█████████████████████████▏                | 63/105 [07:00<06:14,  8.92s/it]"
     ]
    },
    {
     "name": "stdout",
     "output_type": "stream",
     "text": [
      "4312/4312 [==============================] - 3s 606us/step\n"
     ]
    },
    {
     "name": "stderr",
     "output_type": "stream",
     "text": [
      "\r",
      " 61%|█████████████████████████▌                | 64/105 [07:06<05:30,  8.06s/it]"
     ]
    },
    {
     "name": "stdout",
     "output_type": "stream",
     "text": [
      "4312/4312 [==============================] - 3s 594us/step\n"
     ]
    },
    {
     "name": "stderr",
     "output_type": "stream",
     "text": [
      "\r",
      " 62%|██████████████████████████                | 65/105 [07:12<04:53,  7.34s/it]"
     ]
    },
    {
     "name": "stdout",
     "output_type": "stream",
     "text": [
      "4312/4312 [==============================] - 3s 586us/step\n"
     ]
    },
    {
     "name": "stderr",
     "output_type": "stream",
     "text": [
      "\r",
      " 63%|██████████████████████████▍               | 66/105 [07:17<04:26,  6.83s/it]"
     ]
    },
    {
     "name": "stdout",
     "output_type": "stream",
     "text": [
      "4312/4312 [==============================] - 3s 582us/step\n"
     ]
    },
    {
     "name": "stderr",
     "output_type": "stream",
     "text": [
      "\r",
      " 64%|██████████████████████████▊               | 67/105 [07:23<04:05,  6.46s/it]"
     ]
    },
    {
     "name": "stdout",
     "output_type": "stream",
     "text": [
      "4312/4312 [==============================] - 3s 577us/step\n"
     ]
    },
    {
     "name": "stderr",
     "output_type": "stream",
     "text": [
      "\r",
      " 65%|███████████████████████████▏              | 68/105 [07:29<03:49,  6.20s/it]"
     ]
    },
    {
     "name": "stdout",
     "output_type": "stream",
     "text": [
      "4312/4312 [==============================] - 3s 729us/step\n"
     ]
    },
    {
     "name": "stderr",
     "output_type": "stream",
     "text": [
      "\r",
      " 66%|███████████████████████████▌              | 69/105 [07:35<03:44,  6.24s/it]"
     ]
    },
    {
     "name": "stdout",
     "output_type": "stream",
     "text": [
      "4312/4312 [==============================] - 3s 622us/step\n"
     ]
    },
    {
     "name": "stderr",
     "output_type": "stream",
     "text": [
      "\r",
      " 67%|████████████████████████████              | 70/105 [07:41<03:34,  6.12s/it]"
     ]
    },
    {
     "name": "stdout",
     "output_type": "stream",
     "text": [
      "4312/4312 [==============================] - 3s 727us/step\n"
     ]
    },
    {
     "name": "stderr",
     "output_type": "stream",
     "text": [
      "\r",
      " 68%|████████████████████████████▍             | 71/105 [07:48<03:43,  6.57s/it]"
     ]
    },
    {
     "name": "stdout",
     "output_type": "stream",
     "text": [
      "4312/4312 [==============================] - 3s 643us/step\n"
     ]
    },
    {
     "name": "stderr",
     "output_type": "stream",
     "text": [
      "\r",
      " 69%|████████████████████████████▊             | 72/105 [07:55<03:37,  6.58s/it]"
     ]
    },
    {
     "name": "stdout",
     "output_type": "stream",
     "text": [
      "4312/4312 [==============================] - 3s 714us/step\n"
     ]
    },
    {
     "name": "stderr",
     "output_type": "stream",
     "text": [
      "\r",
      " 70%|█████████████████████████████▏            | 73/105 [08:02<03:32,  6.65s/it]"
     ]
    },
    {
     "name": "stdout",
     "output_type": "stream",
     "text": [
      "4312/4312 [==============================] - 3s 635us/step\n"
     ]
    },
    {
     "name": "stderr",
     "output_type": "stream",
     "text": [
      "\r",
      " 70%|█████████████████████████████▌            | 74/105 [08:08<03:23,  6.58s/it]"
     ]
    },
    {
     "name": "stdout",
     "output_type": "stream",
     "text": [
      "4312/4312 [==============================] - 3s 668us/step\n"
     ]
    },
    {
     "name": "stderr",
     "output_type": "stream",
     "text": [
      "\r",
      " 71%|██████████████████████████████            | 75/105 [08:15<03:18,  6.61s/it]"
     ]
    },
    {
     "name": "stdout",
     "output_type": "stream",
     "text": [
      "4312/4312 [==============================] - 3s 646us/step\n"
     ]
    },
    {
     "name": "stderr",
     "output_type": "stream",
     "text": [
      "\r",
      " 72%|██████████████████████████████▍           | 76/105 [08:21<03:11,  6.59s/it]"
     ]
    },
    {
     "name": "stdout",
     "output_type": "stream",
     "text": [
      "4312/4312 [==============================] - 3s 750us/step\n"
     ]
    },
    {
     "name": "stderr",
     "output_type": "stream",
     "text": [
      "\r",
      " 73%|██████████████████████████████▊           | 77/105 [08:30<03:22,  7.22s/it]"
     ]
    },
    {
     "name": "stdout",
     "output_type": "stream",
     "text": [
      "4312/4312 [==============================] - 3s 714us/step\n"
     ]
    },
    {
     "name": "stderr",
     "output_type": "stream",
     "text": [
      "\r",
      " 74%|███████████████████████████████▏          | 78/105 [08:37<03:10,  7.06s/it]"
     ]
    },
    {
     "name": "stdout",
     "output_type": "stream",
     "text": [
      "4312/4312 [==============================] - 3s 689us/step\n"
     ]
    },
    {
     "name": "stderr",
     "output_type": "stream",
     "text": [
      "\r",
      " 75%|███████████████████████████████▌          | 79/105 [08:43<02:57,  6.83s/it]"
     ]
    },
    {
     "name": "stdout",
     "output_type": "stream",
     "text": [
      "4312/4312 [==============================] - 3s 654us/step\n"
     ]
    },
    {
     "name": "stderr",
     "output_type": "stream",
     "text": [
      "\r",
      " 76%|████████████████████████████████          | 80/105 [08:51<02:56,  7.05s/it]"
     ]
    },
    {
     "name": "stdout",
     "output_type": "stream",
     "text": [
      "4312/4312 [==============================] - 3s 645us/step\n"
     ]
    },
    {
     "name": "stderr",
     "output_type": "stream",
     "text": [
      "\r",
      " 77%|████████████████████████████████▍         | 81/105 [08:56<02:40,  6.69s/it]"
     ]
    },
    {
     "name": "stdout",
     "output_type": "stream",
     "text": [
      "4312/4312 [==============================] - 3s 591us/step\n"
     ]
    },
    {
     "name": "stderr",
     "output_type": "stream",
     "text": [
      "\r",
      " 78%|████████████████████████████████▊         | 82/105 [09:02<02:26,  6.37s/it]"
     ]
    },
    {
     "name": "stdout",
     "output_type": "stream",
     "text": [
      "4312/4312 [==============================] - 3s 587us/step\n"
     ]
    },
    {
     "name": "stderr",
     "output_type": "stream",
     "text": [
      "\r",
      " 79%|█████████████████████████████████▏        | 83/105 [09:08<02:15,  6.16s/it]"
     ]
    },
    {
     "name": "stdout",
     "output_type": "stream",
     "text": [
      "4312/4312 [==============================] - 3s 585us/step\n"
     ]
    },
    {
     "name": "stderr",
     "output_type": "stream",
     "text": [
      "\r",
      " 80%|█████████████████████████████████▌        | 84/105 [09:13<02:06,  6.01s/it]"
     ]
    },
    {
     "name": "stdout",
     "output_type": "stream",
     "text": [
      "4312/4312 [==============================] - 3s 576us/step\n"
     ]
    },
    {
     "name": "stderr",
     "output_type": "stream",
     "text": [
      "\r",
      " 81%|██████████████████████████████████        | 85/105 [09:19<01:57,  5.87s/it]"
     ]
    },
    {
     "name": "stdout",
     "output_type": "stream",
     "text": [
      "4312/4312 [==============================] - 3s 577us/step\n"
     ]
    },
    {
     "name": "stderr",
     "output_type": "stream",
     "text": [
      "\r",
      " 82%|██████████████████████████████████▍       | 86/105 [09:25<01:49,  5.79s/it]"
     ]
    },
    {
     "name": "stdout",
     "output_type": "stream",
     "text": [
      "4312/4312 [==============================] - 3s 684us/step\n"
     ]
    },
    {
     "name": "stderr",
     "output_type": "stream",
     "text": [
      "\r",
      " 83%|██████████████████████████████████▊       | 87/105 [09:31<01:45,  5.87s/it]"
     ]
    },
    {
     "name": "stdout",
     "output_type": "stream",
     "text": [
      "4312/4312 [==============================] - 3s 608us/step\n"
     ]
    },
    {
     "name": "stderr",
     "output_type": "stream",
     "text": [
      "\r",
      " 84%|███████████████████████████████████▏      | 88/105 [09:38<01:49,  6.41s/it]"
     ]
    },
    {
     "name": "stdout",
     "output_type": "stream",
     "text": [
      "4312/4312 [==============================] - 3s 655us/step\n"
     ]
    },
    {
     "name": "stderr",
     "output_type": "stream",
     "text": [
      "\r",
      " 85%|███████████████████████████████████▌      | 89/105 [09:45<01:42,  6.41s/it]"
     ]
    },
    {
     "name": "stdout",
     "output_type": "stream",
     "text": [
      "4312/4312 [==============================] - 3s 617us/step\n"
     ]
    },
    {
     "name": "stderr",
     "output_type": "stream",
     "text": [
      "\r",
      " 86%|████████████████████████████████████      | 90/105 [09:51<01:35,  6.35s/it]"
     ]
    },
    {
     "name": "stdout",
     "output_type": "stream",
     "text": [
      "4312/4312 [==============================] - 3s 654us/step\n"
     ]
    },
    {
     "name": "stderr",
     "output_type": "stream",
     "text": [
      "\r",
      " 87%|████████████████████████████████████▍     | 91/105 [09:58<01:30,  6.44s/it]"
     ]
    },
    {
     "name": "stdout",
     "output_type": "stream",
     "text": [
      "4312/4312 [==============================] - 3s 643us/step\n"
     ]
    },
    {
     "name": "stderr",
     "output_type": "stream",
     "text": [
      "\r",
      " 88%|████████████████████████████████████▊     | 92/105 [10:04<01:24,  6.53s/it]"
     ]
    },
    {
     "name": "stdout",
     "output_type": "stream",
     "text": [
      "4312/4312 [==============================] - 3s 658us/step\n"
     ]
    },
    {
     "name": "stderr",
     "output_type": "stream",
     "text": [
      "\r",
      " 89%|█████████████████████████████████████▏    | 93/105 [10:11<01:17,  6.48s/it]"
     ]
    },
    {
     "name": "stdout",
     "output_type": "stream",
     "text": [
      "4312/4312 [==============================] - 3s 682us/step\n"
     ]
    },
    {
     "name": "stderr",
     "output_type": "stream",
     "text": [
      "\r",
      " 90%|█████████████████████████████████████▌    | 94/105 [10:17<01:12,  6.57s/it]"
     ]
    },
    {
     "name": "stdout",
     "output_type": "stream",
     "text": [
      "4312/4312 [==============================] - 3s 663us/step\n"
     ]
    },
    {
     "name": "stderr",
     "output_type": "stream",
     "text": [
      "\r",
      " 90%|██████████████████████████████████████    | 95/105 [10:25<01:09,  6.97s/it]"
     ]
    },
    {
     "name": "stdout",
     "output_type": "stream",
     "text": [
      "4312/4312 [==============================] - 3s 688us/step\n"
     ]
    },
    {
     "name": "stderr",
     "output_type": "stream",
     "text": [
      "\r",
      " 91%|██████████████████████████████████████▍   | 96/105 [10:32<01:02,  6.93s/it]"
     ]
    },
    {
     "name": "stdout",
     "output_type": "stream",
     "text": [
      "4312/4312 [==============================] - 3s 722us/step\n"
     ]
    },
    {
     "name": "stderr",
     "output_type": "stream",
     "text": [
      "\r",
      " 92%|██████████████████████████████████████▊   | 97/105 [10:39<00:55,  6.92s/it]"
     ]
    },
    {
     "name": "stdout",
     "output_type": "stream",
     "text": [
      "4312/4312 [==============================] - 3s 673us/step\n"
     ]
    },
    {
     "name": "stderr",
     "output_type": "stream",
     "text": [
      "\r",
      " 93%|███████████████████████████████████████▏  | 98/105 [10:46<00:47,  6.76s/it]"
     ]
    },
    {
     "name": "stdout",
     "output_type": "stream",
     "text": [
      "4312/4312 [==============================] - 3s 665us/step\n"
     ]
    },
    {
     "name": "stderr",
     "output_type": "stream",
     "text": [
      "\r",
      " 94%|███████████████████████████████████████▌  | 99/105 [10:52<00:40,  6.67s/it]"
     ]
    },
    {
     "name": "stdout",
     "output_type": "stream",
     "text": [
      "4312/4312 [==============================] - 3s 695us/step\n"
     ]
    },
    {
     "name": "stderr",
     "output_type": "stream",
     "text": [
      "\r",
      " 95%|███████████████████████████████████████  | 100/105 [11:00<00:35,  7.16s/it]"
     ]
    },
    {
     "name": "stdout",
     "output_type": "stream",
     "text": [
      "4312/4312 [==============================] - 3s 610us/step\n"
     ]
    },
    {
     "name": "stderr",
     "output_type": "stream",
     "text": [
      "\r",
      " 96%|███████████████████████████████████████▍ | 101/105 [11:06<00:27,  6.77s/it]"
     ]
    },
    {
     "name": "stdout",
     "output_type": "stream",
     "text": [
      "4312/4312 [==============================] - 3s 601us/step\n"
     ]
    },
    {
     "name": "stderr",
     "output_type": "stream",
     "text": [
      "\r",
      " 97%|███████████████████████████████████████▊ | 102/105 [11:12<00:19,  6.43s/it]"
     ]
    },
    {
     "name": "stdout",
     "output_type": "stream",
     "text": [
      "4312/4312 [==============================] - 3s 592us/step\n"
     ]
    },
    {
     "name": "stderr",
     "output_type": "stream",
     "text": [
      "\r",
      " 98%|████████████████████████████████████████▏| 103/105 [11:17<00:12,  6.18s/it]"
     ]
    },
    {
     "name": "stdout",
     "output_type": "stream",
     "text": [
      "4312/4312 [==============================] - 3s 594us/step\n"
     ]
    },
    {
     "name": "stderr",
     "output_type": "stream",
     "text": [
      "\r",
      " 99%|████████████████████████████████████████▌| 104/105 [11:23<00:06,  6.01s/it]"
     ]
    },
    {
     "name": "stdout",
     "output_type": "stream",
     "text": [
      "4312/4312 [==============================] - 3s 610us/step\n"
     ]
    },
    {
     "name": "stderr",
     "output_type": "stream",
     "text": [
      "100%|█████████████████████████████████████████| 105/105 [11:29<00:00,  6.56s/it]\n"
     ]
    }
   ],
   "source": [
    "feature_importance = {}\n",
    "for column_name in tqdm(X_train.columns):\n",
    "    X_tmp = X_test.copy()\n",
    "    X_tmp[column_name] = 0\n",
    "    y_pred = models[i].predict(X_tmp,batch_size=256).reshape(-1,1)\n",
    "    feature_importance[column_name] = best_r_squared - r_squared(y_pred_all, y_test)[0]\n",
    "    "
   ]
  },
  {
   "cell_type": "markdown",
   "metadata": {
    "id": "Sc-gagOLc0gV"
   },
   "source": [
    "b.\tSecond, get a measure of the joint importance of all our “macro predictors” (i.e., those taken from Welch and Goyal 2008), by setting them all to zero and finding the decrease in out of sample R2. Comment on how important macroeconomic variables are relative to stock characteristics in predicting returns. "
   ]
  },
  {
   "cell_type": "markdown",
   "metadata": {
    "id": "AX8kVzNQc0gV"
   },
   "source": [
    "c.\tRepeat the two steps above, but by using a measure of the sensitivity of predictions to each input variable, as outlined in the lectures."
   ]
  },
  {
   "cell_type": "code",
   "execution_count": null,
   "metadata": {
    "id": "AzS8KJBWc0gV"
   },
   "outputs": [],
   "source": []
  },
  {
   "cell_type": "markdown",
   "metadata": {
    "id": "bfTmKAXRc0gV"
   },
   "source": [
    "4.Fit a penalised linear model (LASSO) to the same data, using validation data to pick the best penalty (e.g., you can use the “sklearn” package in Python to do this easily). Compare its test data performance to the neural network. "
   ]
  },
  {
   "cell_type": "code",
   "execution_count": null,
   "metadata": {
    "id": "yOkXRm3Oc0gW"
   },
   "outputs": [],
   "source": []
  },
  {
   "cell_type": "markdown",
   "metadata": {
    "id": "OqsoN75nc0gW"
   },
   "source": [
    "5.Suppose somebody tells you to collect 10 more micro or macro variables that can predict returns and are not in our current dataset. How would you choose those variables, based on the intuitions you have gained in this project?"
   ]
  },
  {
   "cell_type": "code",
   "execution_count": null,
   "metadata": {
    "id": "ni5ZNgXY1uGA"
   },
   "outputs": [],
   "source": []
  },
  {
   "cell_type": "code",
   "execution_count": null,
   "metadata": {
    "id": "jXNJN_hNc0gW"
   },
   "outputs": [],
   "source": []
  }
 ],
 "metadata": {
  "accelerator": "GPU",
  "colab": {
   "background_execution": "on",
   "collapsed_sections": [],
   "include_colab_link": true,
   "machine_shape": "hm",
   "name": "bd_2.ipynb",
   "provenance": []
  },
  "kernelspec": {
   "display_name": "Python 3 (ipykernel)",
   "language": "python",
   "name": "python3"
  },
  "language_info": {
   "codemirror_mode": {
    "name": "ipython",
    "version": 3
   },
   "file_extension": ".py",
   "mimetype": "text/x-python",
   "name": "python",
   "nbconvert_exporter": "python",
   "pygments_lexer": "ipython3",
   "version": "3.9.12"
  },
  "varInspector": {
   "cols": {
    "lenName": 16,
    "lenType": 16,
    "lenVar": 40
   },
   "kernels_config": {
    "python": {
     "delete_cmd_postfix": "",
     "delete_cmd_prefix": "del ",
     "library": "var_list.py",
     "varRefreshCmd": "print(var_dic_list())"
    },
    "r": {
     "delete_cmd_postfix": ") ",
     "delete_cmd_prefix": "rm(",
     "library": "var_list.r",
     "varRefreshCmd": "cat(var_dic_list()) "
    }
   },
   "oldHeight": 123,
   "position": {
    "height": "377px",
    "left": "553px",
    "right": "20px",
    "top": "104px",
    "width": "602px"
   },
   "types_to_exclude": [
    "module",
    "function",
    "builtin_function_or_method",
    "instance",
    "_Feature"
   ],
   "varInspector_section_display": "block",
   "window_display": false
  }
 },
 "nbformat": 4,
 "nbformat_minor": 1
}
