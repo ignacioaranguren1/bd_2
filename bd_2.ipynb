{
 "cells": [
  {
   "cell_type": "markdown",
   "metadata": {
    "colab_type": "text",
    "id": "view-in-github"
   },
   "source": [
    "<a href=\"https://colab.research.google.com/github/ignacioaranguren1/bd_2/blob/main/bd_2.ipynb\" target=\"_parent\"><img src=\"https://colab.research.google.com/assets/colab-badge.svg\" alt=\"Open In Colab\"/></a>"
   ]
  },
  {
   "cell_type": "code",
   "execution_count": 16,
   "metadata": {
    "id": "vF6fH-KFdDnq"
   },
   "outputs": [
    {
     "ename": "ModuleNotFoundError",
     "evalue": "No module named 'kerastuner'",
     "output_type": "error",
     "traceback": [
      "\u001b[0;31m---------------------------------------------------------------------------\u001b[0m",
      "\u001b[0;31mModuleNotFoundError\u001b[0m                       Traceback (most recent call last)",
      "\u001b[0;32m/var/folders/z6/slbhkttj7gn0pwb0ll_0lfh40000gn/T/ipykernel_1087/1677261605.py\u001b[0m in \u001b[0;36m<module>\u001b[0;34m\u001b[0m\n\u001b[1;32m      4\u001b[0m \u001b[0;32mimport\u001b[0m \u001b[0mpickle\u001b[0m\u001b[0;34m\u001b[0m\u001b[0;34m\u001b[0m\u001b[0m\n\u001b[1;32m      5\u001b[0m \u001b[0;32mimport\u001b[0m \u001b[0mos\u001b[0m\u001b[0;34m\u001b[0m\u001b[0;34m\u001b[0m\u001b[0m\n\u001b[0;32m----> 6\u001b[0;31m \u001b[0;32mimport\u001b[0m \u001b[0mkerastuner\u001b[0m\u001b[0;34m\u001b[0m\u001b[0;34m\u001b[0m\u001b[0m\n\u001b[0m\u001b[1;32m      7\u001b[0m \u001b[0;34m\u001b[0m\u001b[0m\n\u001b[1;32m      8\u001b[0m \u001b[0;32mfrom\u001b[0m \u001b[0mtqdm\u001b[0m \u001b[0;32mimport\u001b[0m \u001b[0mtqdm\u001b[0m\u001b[0;34m\u001b[0m\u001b[0;34m\u001b[0m\u001b[0m\n",
      "\u001b[0;31mModuleNotFoundError\u001b[0m: No module named 'kerastuner'"
     ]
    }
   ],
   "source": [
    "import pandas as pd\n",
    "import numpy as np\n",
    "import matplotlib.pyplot as plt\n",
    "import pickle\n",
    "import os\n",
    "\n",
    "from tqdm import tqdm\n",
    "from datetime import datetime\n",
    "from tensorflow import keras\n",
    "from tensorflow.keras import layers\n",
    "from tensorflow.keras.utils import to_categorical\n",
    "from tensorflow.keras.models import Sequential\n",
    "from kerastuner.tuners import RandomSearch\n",
    "\n",
    "import kerastuner"
   ]
  },
  {
   "cell_type": "code",
   "execution_count": 8,
   "metadata": {},
   "outputs": [],
   "source": [
    "%matplotlib inline\n",
    "\n",
    "datapath = '/Users/ignacioaranguren/bd_2/data'\n",
    "os.chdir(datapath)"
   ]
  },
  {
   "cell_type": "markdown",
   "metadata": {
    "id": "mUSZgH01c0gK"
   },
   "source": [
    "1.In the data used by Gu, Kelly and Xiu (RFS 2019 – provided in class), use a similar procedure to theirs to predict stock returns with neural networks. Start by finding a suitable baseline configuration, and use a validation procedure to pick optimal hyperparameters for three neural network models: One with 2 hidden layers, one with 3 hidden layers, and one with 4 hidden layers. "
   ]
  },
  {
   "cell_type": "code",
   "execution_count": 9,
   "metadata": {
    "id": "JN8g2yI6c0gN"
   },
   "outputs": [],
   "source": [
    "data = pd.read_pickle('returns_chars_panel.pkl')\n",
    "macro = pd.read_pickle('macro_timeseries.pkl')"
   ]
  },
  {
   "cell_type": "code",
   "execution_count": 10,
   "metadata": {
    "id": "uUS00_JCrz2m"
   },
   "outputs": [],
   "source": [
    "def train_validation_test_split(data,train_end_date,validation_end_date):\n",
    "  tmp = data.reset_index()\n",
    "  train = tmp[tmp.date<=train_end_date].set_index(['date','permno'],drop=True)\n",
    "  validation = tmp[(tmp.date>train_end_date) & (tmp.date<=validation_end_date)].set_index(['date','permno'],drop=True)\n",
    "  test = tmp[tmp.date>validation_end_date].set_index(['date','permno'],drop=True)\n",
    "  return train,validation,test"
   ]
  },
  {
   "cell_type": "code",
   "execution_count": 11,
   "metadata": {
    "colab": {
     "base_uri": "https://localhost:8080/",
     "height": 386
    },
    "id": "06Ta8XNdc0gP",
    "outputId": "2f687bb6-78ce-429e-d195-00569d492127"
   },
   "outputs": [
    {
     "data": {
      "text/html": [
       "<div>\n",
       "<style scoped>\n",
       "    .dataframe tbody tr th:only-of-type {\n",
       "        vertical-align: middle;\n",
       "    }\n",
       "\n",
       "    .dataframe tbody tr th {\n",
       "        vertical-align: top;\n",
       "    }\n",
       "\n",
       "    .dataframe thead th {\n",
       "        text-align: right;\n",
       "    }\n",
       "</style>\n",
       "<table border=\"1\" class=\"dataframe\">\n",
       "  <thead>\n",
       "    <tr style=\"text-align: right;\">\n",
       "      <th></th>\n",
       "      <th>date</th>\n",
       "      <th>permno</th>\n",
       "      <th>excess_ret</th>\n",
       "      <th>ret</th>\n",
       "      <th>rfree</th>\n",
       "      <th>mvel1</th>\n",
       "      <th>beta</th>\n",
       "      <th>betasq</th>\n",
       "      <th>chmom</th>\n",
       "      <th>dolvol</th>\n",
       "      <th>...</th>\n",
       "      <th>stdacc</th>\n",
       "      <th>stdcf</th>\n",
       "      <th>ms</th>\n",
       "      <th>baspread</th>\n",
       "      <th>ill</th>\n",
       "      <th>maxret</th>\n",
       "      <th>retvol</th>\n",
       "      <th>std_dolvol</th>\n",
       "      <th>std_turn</th>\n",
       "      <th>zerotrade</th>\n",
       "    </tr>\n",
       "  </thead>\n",
       "  <tbody>\n",
       "    <tr>\n",
       "      <th>0</th>\n",
       "      <td>1986-02-01</td>\n",
       "      <td>10000</td>\n",
       "      <td>-0.262610</td>\n",
       "      <td>-0.257143</td>\n",
       "      <td>0.005467</td>\n",
       "      <td>-0.375440</td>\n",
       "      <td>0.0</td>\n",
       "      <td>0.0</td>\n",
       "      <td>0.0</td>\n",
       "      <td>0.000000</td>\n",
       "      <td>...</td>\n",
       "      <td>0.0</td>\n",
       "      <td>0.0</td>\n",
       "      <td>0.0</td>\n",
       "      <td>0.572822</td>\n",
       "      <td>0.361538</td>\n",
       "      <td>0.938929</td>\n",
       "      <td>0.873640</td>\n",
       "      <td>0.399871</td>\n",
       "      <td>0.120000</td>\n",
       "      <td>-0.177810</td>\n",
       "    </tr>\n",
       "    <tr>\n",
       "      <th>1</th>\n",
       "      <td>1986-03-01</td>\n",
       "      <td>10000</td>\n",
       "      <td>0.360335</td>\n",
       "      <td>0.365385</td>\n",
       "      <td>0.005050</td>\n",
       "      <td>-0.496811</td>\n",
       "      <td>0.0</td>\n",
       "      <td>0.0</td>\n",
       "      <td>0.0</td>\n",
       "      <td>0.000000</td>\n",
       "      <td>...</td>\n",
       "      <td>0.0</td>\n",
       "      <td>0.0</td>\n",
       "      <td>0.0</td>\n",
       "      <td>0.417504</td>\n",
       "      <td>0.520205</td>\n",
       "      <td>-0.138898</td>\n",
       "      <td>0.328870</td>\n",
       "      <td>0.078782</td>\n",
       "      <td>-0.411202</td>\n",
       "      <td>0.130393</td>\n",
       "    </tr>\n",
       "    <tr>\n",
       "      <th>2</th>\n",
       "      <td>1986-04-01</td>\n",
       "      <td>10000</td>\n",
       "      <td>-0.103717</td>\n",
       "      <td>-0.098592</td>\n",
       "      <td>0.005125</td>\n",
       "      <td>-0.401783</td>\n",
       "      <td>0.0</td>\n",
       "      <td>0.0</td>\n",
       "      <td>0.0</td>\n",
       "      <td>-0.521182</td>\n",
       "      <td>...</td>\n",
       "      <td>0.0</td>\n",
       "      <td>0.0</td>\n",
       "      <td>0.0</td>\n",
       "      <td>0.091488</td>\n",
       "      <td>0.329401</td>\n",
       "      <td>0.813365</td>\n",
       "      <td>0.660035</td>\n",
       "      <td>0.142035</td>\n",
       "      <td>-0.131985</td>\n",
       "      <td>0.119017</td>\n",
       "    </tr>\n",
       "    <tr>\n",
       "      <th>3</th>\n",
       "      <td>1986-05-01</td>\n",
       "      <td>10000</td>\n",
       "      <td>-0.227831</td>\n",
       "      <td>-0.222656</td>\n",
       "      <td>0.005175</td>\n",
       "      <td>-0.435735</td>\n",
       "      <td>0.0</td>\n",
       "      <td>0.0</td>\n",
       "      <td>0.0</td>\n",
       "      <td>-0.439391</td>\n",
       "      <td>...</td>\n",
       "      <td>0.0</td>\n",
       "      <td>0.0</td>\n",
       "      <td>0.0</td>\n",
       "      <td>0.329949</td>\n",
       "      <td>0.438295</td>\n",
       "      <td>-0.683852</td>\n",
       "      <td>-0.759048</td>\n",
       "      <td>0.388029</td>\n",
       "      <td>-0.199555</td>\n",
       "      <td>0.135402</td>\n",
       "    </tr>\n",
       "    <tr>\n",
       "      <th>4</th>\n",
       "      <td>1986-06-01</td>\n",
       "      <td>10000</td>\n",
       "      <td>-0.009883</td>\n",
       "      <td>-0.005025</td>\n",
       "      <td>0.004858</td>\n",
       "      <td>-0.534203</td>\n",
       "      <td>0.0</td>\n",
       "      <td>0.0</td>\n",
       "      <td>0.0</td>\n",
       "      <td>-0.499678</td>\n",
       "      <td>...</td>\n",
       "      <td>0.0</td>\n",
       "      <td>0.0</td>\n",
       "      <td>0.0</td>\n",
       "      <td>0.510140</td>\n",
       "      <td>0.610586</td>\n",
       "      <td>0.724257</td>\n",
       "      <td>0.608819</td>\n",
       "      <td>-0.128302</td>\n",
       "      <td>-0.025964</td>\n",
       "      <td>0.007879</td>\n",
       "    </tr>\n",
       "  </tbody>\n",
       "</table>\n",
       "<p>5 rows × 99 columns</p>\n",
       "</div>"
      ],
      "text/plain": [
       "        date  permno  excess_ret       ret     rfree     mvel1  beta  betasq  \\\n",
       "0 1986-02-01   10000   -0.262610 -0.257143  0.005467 -0.375440   0.0     0.0   \n",
       "1 1986-03-01   10000    0.360335  0.365385  0.005050 -0.496811   0.0     0.0   \n",
       "2 1986-04-01   10000   -0.103717 -0.098592  0.005125 -0.401783   0.0     0.0   \n",
       "3 1986-05-01   10000   -0.227831 -0.222656  0.005175 -0.435735   0.0     0.0   \n",
       "4 1986-06-01   10000   -0.009883 -0.005025  0.004858 -0.534203   0.0     0.0   \n",
       "\n",
       "   chmom    dolvol  ...  stdacc  stdcf   ms  baspread       ill    maxret  \\\n",
       "0    0.0  0.000000  ...     0.0    0.0  0.0  0.572822  0.361538  0.938929   \n",
       "1    0.0  0.000000  ...     0.0    0.0  0.0  0.417504  0.520205 -0.138898   \n",
       "2    0.0 -0.521182  ...     0.0    0.0  0.0  0.091488  0.329401  0.813365   \n",
       "3    0.0 -0.439391  ...     0.0    0.0  0.0  0.329949  0.438295 -0.683852   \n",
       "4    0.0 -0.499678  ...     0.0    0.0  0.0  0.510140  0.610586  0.724257   \n",
       "\n",
       "     retvol  std_dolvol  std_turn  zerotrade  \n",
       "0  0.873640    0.399871  0.120000  -0.177810  \n",
       "1  0.328870    0.078782 -0.411202   0.130393  \n",
       "2  0.660035    0.142035 -0.131985   0.119017  \n",
       "3 -0.759048    0.388029 -0.199555   0.135402  \n",
       "4  0.608819   -0.128302 -0.025964   0.007879  \n",
       "\n",
       "[5 rows x 99 columns]"
      ]
     },
     "execution_count": 11,
     "metadata": {},
     "output_type": "execute_result"
    }
   ],
   "source": [
    "data.head()"
   ]
  },
  {
   "cell_type": "code",
   "execution_count": 12,
   "metadata": {
    "colab": {
     "base_uri": "https://localhost:8080/"
    },
    "id": "wXpzYohjc0gQ",
    "outputId": "44bb218b-77fc-44a7-af81-1fc195651b43"
   },
   "outputs": [
    {
     "data": {
      "text/plain": [
       "Index(['date', 'permno', 'excess_ret', 'ret', 'rfree', 'mvel1', 'beta',\n",
       "       'betasq', 'chmom', 'dolvol', 'idiovol', 'indmom', 'mom1m', 'mom6m',\n",
       "       'mom12m', 'mom36m', 'pricedelay', 'turn', 'absacc', 'acc', 'age', 'agr',\n",
       "       'bm', 'bm_ia', 'cashdebt', 'cashpr', 'cfp', 'cfp_ia', 'chatoia',\n",
       "       'chcsho', 'chempia', 'chinv', 'chpmia', 'convind', 'currat', 'depr',\n",
       "       'divi', 'divo', 'dy', 'egr', 'ep', 'gma', 'grcapx', 'grltnoa', 'herf',\n",
       "       'hire', 'invest', 'lev', 'lgr', 'mve_ia', 'operprof', 'orgcap',\n",
       "       'pchcapx_ia', 'pchcurrat', 'pchdepr', 'pchgm_pchsale', 'pchquick',\n",
       "       'pchsale_pchinvt', 'pchsale_pchrect', 'pchsale_pchxsga', 'pchsaleinv',\n",
       "       'pctacc', 'ps', 'quick', 'rd', 'rd_mve', 'rd_sale', 'realestate',\n",
       "       'roic', 'salecash', 'saleinv', 'salerec', 'secured', 'securedind',\n",
       "       'sgr', 'sin', 'sp', 'tang', 'tb', 'aeavol', 'cash', 'chtx', 'cinvest',\n",
       "       'ear', 'nincr', 'roaq', 'roavol', 'roeq', 'rsup', 'stdacc', 'stdcf',\n",
       "       'ms', 'baspread', 'ill', 'maxret', 'retvol', 'std_dolvol', 'std_turn',\n",
       "       'zerotrade'],\n",
       "      dtype='object')"
      ]
     },
     "execution_count": 12,
     "metadata": {},
     "output_type": "execute_result"
    }
   ],
   "source": [
    "data.columns"
   ]
  },
  {
   "cell_type": "code",
   "execution_count": 13,
   "metadata": {
    "colab": {
     "base_uri": "https://localhost:8080/"
    },
    "id": "Ua1BlPJyc0gR",
    "outputId": "aba72d4f-c608-4d7f-9562-c309a2bdccc7"
   },
   "outputs": [
    {
     "data": {
      "text/plain": [
       "Index(['mvel1', 'beta', 'betasq', 'chmom', 'dolvol', 'idiovol', 'indmom',\n",
       "       'mom1m', 'mom6m', 'mom12m', 'mom36m', 'pricedelay', 'turn', 'absacc',\n",
       "       'acc', 'age', 'agr', 'bm', 'bm_ia', 'cashdebt', 'cashpr', 'cfp',\n",
       "       'cfp_ia', 'chatoia', 'chcsho', 'chempia', 'chinv', 'chpmia', 'convind',\n",
       "       'currat', 'depr', 'divi', 'divo', 'dy', 'egr', 'ep', 'gma', 'grcapx',\n",
       "       'grltnoa', 'herf', 'hire', 'invest', 'lev', 'lgr', 'mve_ia', 'operprof',\n",
       "       'orgcap', 'pchcapx_ia', 'pchcurrat', 'pchdepr', 'pchgm_pchsale',\n",
       "       'pchquick', 'pchsale_pchinvt', 'pchsale_pchrect', 'pchsale_pchxsga',\n",
       "       'pchsaleinv', 'pctacc', 'ps', 'quick', 'rd', 'rd_mve', 'rd_sale',\n",
       "       'realestate', 'roic', 'salecash', 'saleinv', 'salerec', 'secured',\n",
       "       'securedind', 'sgr', 'sin', 'sp', 'tang', 'tb', 'aeavol', 'cash',\n",
       "       'chtx', 'cinvest', 'ear', 'nincr', 'roaq', 'roavol', 'roeq', 'rsup',\n",
       "       'stdacc', 'stdcf', 'ms', 'baspread', 'ill', 'maxret', 'retvol',\n",
       "       'std_dolvol', 'std_turn', 'zerotrade'],\n",
       "      dtype='object')"
      ]
     },
     "execution_count": 13,
     "metadata": {},
     "output_type": "execute_result"
    }
   ],
   "source": [
    "data.iloc[:,5:].columns"
   ]
  },
  {
   "cell_type": "code",
   "execution_count": 14,
   "metadata": {
    "colab": {
     "base_uri": "https://localhost:8080/",
     "height": 206
    },
    "id": "9XLiRKVwc0gS",
    "outputId": "531fd313-d4b0-4f0c-8494-184bf4edc9ff"
   },
   "outputs": [
    {
     "data": {
      "text/html": [
       "<div>\n",
       "<style scoped>\n",
       "    .dataframe tbody tr th:only-of-type {\n",
       "        vertical-align: middle;\n",
       "    }\n",
       "\n",
       "    .dataframe tbody tr th {\n",
       "        vertical-align: top;\n",
       "    }\n",
       "\n",
       "    .dataframe thead th {\n",
       "        text-align: right;\n",
       "    }\n",
       "</style>\n",
       "<table border=\"1\" class=\"dataframe\">\n",
       "  <thead>\n",
       "    <tr style=\"text-align: right;\">\n",
       "      <th></th>\n",
       "      <th>date</th>\n",
       "      <th>dp</th>\n",
       "      <th>ep</th>\n",
       "      <th>b/m</th>\n",
       "      <th>crsp_spvw</th>\n",
       "      <th>svar</th>\n",
       "      <th>tbl</th>\n",
       "      <th>tms</th>\n",
       "      <th>dfy</th>\n",
       "      <th>dfr</th>\n",
       "      <th>ntis</th>\n",
       "      <th>infl</th>\n",
       "    </tr>\n",
       "  </thead>\n",
       "  <tbody>\n",
       "    <tr>\n",
       "      <th>671</th>\n",
       "      <td>1926-12-01</td>\n",
       "      <td>NaN</td>\n",
       "      <td>NaN</td>\n",
       "      <td>NaN</td>\n",
       "      <td>NaN</td>\n",
       "      <td>NaN</td>\n",
       "      <td>NaN</td>\n",
       "      <td>NaN</td>\n",
       "      <td>NaN</td>\n",
       "      <td>NaN</td>\n",
       "      <td>NaN</td>\n",
       "      <td>NaN</td>\n",
       "    </tr>\n",
       "    <tr>\n",
       "      <th>672</th>\n",
       "      <td>1927-01-01</td>\n",
       "      <td>-2.973012</td>\n",
       "      <td>-2.386837</td>\n",
       "      <td>0.441476</td>\n",
       "      <td>0.026047</td>\n",
       "      <td>0.000465</td>\n",
       "      <td>0.0307</td>\n",
       "      <td>0.0047</td>\n",
       "      <td>0.0100</td>\n",
       "      <td>-0.0022</td>\n",
       "      <td>0.050876</td>\n",
       "      <td>0.000000</td>\n",
       "    </tr>\n",
       "    <tr>\n",
       "      <th>673</th>\n",
       "      <td>1927-02-01</td>\n",
       "      <td>-2.942374</td>\n",
       "      <td>-2.374773</td>\n",
       "      <td>0.443706</td>\n",
       "      <td>-0.002910</td>\n",
       "      <td>0.000470</td>\n",
       "      <td>0.0323</td>\n",
       "      <td>0.0028</td>\n",
       "      <td>0.0095</td>\n",
       "      <td>-0.0019</td>\n",
       "      <td>0.050824</td>\n",
       "      <td>-0.011299</td>\n",
       "    </tr>\n",
       "    <tr>\n",
       "      <th>674</th>\n",
       "      <td>1927-03-01</td>\n",
       "      <td>-2.979535</td>\n",
       "      <td>-2.430353</td>\n",
       "      <td>0.428501</td>\n",
       "      <td>0.045522</td>\n",
       "      <td>0.000287</td>\n",
       "      <td>0.0329</td>\n",
       "      <td>0.0018</td>\n",
       "      <td>0.0092</td>\n",
       "      <td>-0.0019</td>\n",
       "      <td>0.051668</td>\n",
       "      <td>-0.005714</td>\n",
       "    </tr>\n",
       "    <tr>\n",
       "      <th>675</th>\n",
       "      <td>1927-04-01</td>\n",
       "      <td>-2.976535</td>\n",
       "      <td>-2.445079</td>\n",
       "      <td>0.469765</td>\n",
       "      <td>0.007324</td>\n",
       "      <td>0.000924</td>\n",
       "      <td>0.0320</td>\n",
       "      <td>0.0011</td>\n",
       "      <td>0.0092</td>\n",
       "      <td>-0.0170</td>\n",
       "      <td>0.046357</td>\n",
       "      <td>-0.005747</td>\n",
       "    </tr>\n",
       "  </tbody>\n",
       "</table>\n",
       "</div>"
      ],
      "text/plain": [
       "          date        dp        ep       b/m  crsp_spvw      svar     tbl  \\\n",
       "671 1926-12-01       NaN       NaN       NaN        NaN       NaN     NaN   \n",
       "672 1927-01-01 -2.973012 -2.386837  0.441476   0.026047  0.000465  0.0307   \n",
       "673 1927-02-01 -2.942374 -2.374773  0.443706  -0.002910  0.000470  0.0323   \n",
       "674 1927-03-01 -2.979535 -2.430353  0.428501   0.045522  0.000287  0.0329   \n",
       "675 1927-04-01 -2.976535 -2.445079  0.469765   0.007324  0.000924  0.0320   \n",
       "\n",
       "        tms     dfy     dfr      ntis      infl  \n",
       "671     NaN     NaN     NaN       NaN       NaN  \n",
       "672  0.0047  0.0100 -0.0022  0.050876  0.000000  \n",
       "673  0.0028  0.0095 -0.0019  0.050824 -0.011299  \n",
       "674  0.0018  0.0092 -0.0019  0.051668 -0.005714  \n",
       "675  0.0011  0.0092 -0.0170  0.046357 -0.005747  "
      ]
     },
     "execution_count": 14,
     "metadata": {},
     "output_type": "execute_result"
    }
   ],
   "source": [
    "macro.head()"
   ]
  },
  {
   "cell_type": "code",
   "execution_count": 15,
   "metadata": {
    "id": "2ZXV1zHXnrbV"
   },
   "outputs": [],
   "source": [
    "data_merged = pd.merge(data,macro,on=['date'])\n",
    "datelist = list(set(data_merged['date']))\n",
    "datelist.sort()\n",
    "data_merged.set_index(['date','permno'],drop=True,inplace=True)"
   ]
  },
  {
   "cell_type": "code",
   "execution_count": null,
   "metadata": {
    "id": "QKYOGMqDoGqO"
   },
   "outputs": [],
   "source": [
    "train_ratio = 0.5\n",
    "validation_ratio = 0.25\n",
    "train_date = datelist[int(len(datelist)*train_ratio)]\n",
    "validation_date = datelist[int(len(datelist)*(train_ratio+validation_ratio))]#can also use cross validation\n",
    "X = data_merged.iloc[:,5:].copy()\n",
    "y = data_merged['excess_ret'].copy()"
   ]
  },
  {
   "cell_type": "code",
   "execution_count": null,
   "metadata": {
    "id": "JiHQP_Xmrv9s"
   },
   "outputs": [],
   "source": [
    "X_train,X_validation,X_test = train_validation_test_split(X,train_date,validation_date)\n",
    "y_train,y_validation,y_test = train_validation_test_split(y,train_date,validation_date)"
   ]
  },
  {
   "cell_type": "code",
   "execution_count": null,
   "metadata": {
    "id": "hj1OkgOcH1DK"
   },
   "outputs": [],
   "source": [
    "class HyperRegressor(kerastuner.HyperModel):\n",
    "  def build(self, hp):\n",
    "    model = Sequential()\n",
    "    model.add(layers.Input(shape=(103,)))\n",
    "    for i in range(n):\n",
    "      model.add(layers.Dense(units=hp.Int(f'units_{i+1}',min_value=16,max_value=160,step=16),activation='relu'))\n",
    "    model.add(layers.Dense(1, activation='linear'))# or linear\n",
    "    model.compile(\n",
    "        optimizer=keras.optimizers.Adam(\n",
    "            hp.Choice('learning_rate',\n",
    "                      values=[1e-2, 1e-3, 1e-4])),\n",
    "        loss='mse')\n",
    "    model.add(layers.Dropout(rate=hp.Choice('dropout', values=[0.2,0.4,0.6,0.8])))\n",
    "    return model\n",
    "\n",
    "  def fit(self, hp, model, x, y, validation_data, **kwargs):\n",
    "      model.fit(x, y, **kwargs)\n",
    "      x_val, y_val = validation_data\n",
    "      y_pred = model.predict(x_val)\n",
    "      # Return a single float to minimize.\n",
    "      return np.mean((y_pred - y_val)**2)"
   ]
  },
  {
   "cell_type": "code",
   "execution_count": null,
   "metadata": {
    "id": "4dpSUJZi1quh"
   },
   "outputs": [],
   "source": [
    "def tune_model(n=2):\n",
    "  tuner = RandomSearch(\n",
    "      hypermodel=HyperRegressor(),\n",
    "      # objective = 'mse',\n",
    "      # Objective is the return value of `HyperModel.fit()`.\n",
    "      max_trials=5,   #5 trails\n",
    "      executions_per_trial=3, #test 3 times each trail\n",
    "      overwrite=True,\n",
    "      directory='my_dir',\n",
    "      project_name=f'NN_new_{n}')\n",
    "  tuner.search(X_train.values, y_train.values,epochs=3,validation_data=(X_validation.values, y_validation.values))\n",
    "  return tuner"
   ]
  },
  {
   "cell_type": "code",
   "execution_count": null,
   "metadata": {
    "colab": {
     "base_uri": "https://localhost:8080/"
    },
    "id": "JhJVVl4315Aj",
    "outputId": "bb38227f-72b3-49b5-eced-72c92990f5ee"
   },
   "outputs": [
    {
     "name": "stdout",
     "output_type": "stream",
     "text": [
      "Trial 3 Complete [00h 19m 12s]\n",
      "default_objective: 0.0403921794318898\n",
      "\n",
      "Best default_objective So Far: 0.040233786785545574\n",
      "Total elapsed time: 00h 57m 44s\n",
      "\n",
      "Search: Running Trial #4\n",
      "\n",
      "Value             |Best Value So Far |Hyperparameter\n",
      "64                |144               |units_1\n",
      "96                |112               |units_2\n",
      "64                |112               |units_3\n",
      "0.001             |0.0001            |learning_rate\n",
      "0.6               |0.8               |dropout\n",
      "\n",
      "Epoch 1/3\n",
      "39354/39354 [==============================] - 110s 3ms/step - loss: 0.0227\n",
      "Epoch 2/3\n",
      "39354/39354 [==============================] - 110s 3ms/step - loss: 0.0225\n",
      "Epoch 3/3\n",
      "39354/39354 [==============================] - 110s 3ms/step - loss: 0.0224\n",
      "Epoch 1/3\n",
      "39354/39354 [==============================] - 110s 3ms/step - loss: 0.0228\n",
      "Epoch 2/3\n",
      "39354/39354 [==============================] - 110s 3ms/step - loss: 0.0225\n",
      "Epoch 3/3\n",
      "39354/39354 [==============================] - 109s 3ms/step - loss: 0.0224\n",
      "Epoch 1/3\n",
      "20788/39354 [==============>...............] - ETA: 51s - loss: 0.0232"
     ]
    }
   ],
   "source": [
    "models=[]\n",
    "parameters=[]\n",
    "tuners=[]\n",
    "for n in range(2,5):\n",
    "  tuner = tune_model(n)\n",
    "  parameters.append(tuner.get_best_hyperparameters)\n",
    "  models.append(tuner.get_best_models(1))\n",
    "  tuners.append(tuner)\n",
    "with open('parameters.pkl','wb') as f:\n",
    "  pickle.dump(parameters,f,protocol=4)\n",
    "with open('models.pkl','wb') as f:\n",
    "  pickle.dump(parameters,f,protocol=4)\n",
    "with open('tuners.pkl','wb') as f:\n",
    "  pickle.dump(parameters,f,protocol=4)\n",
    "  \n"
   ]
  },
  {
   "cell_type": "code",
   "execution_count": null,
   "metadata": {
    "colab": {
     "base_uri": "https://localhost:8080/"
    },
    "id": "6KMVFOcsxRVG",
    "outputId": "f212571b-5c5c-43d8-c386-eb8eb85f007f"
   },
   "outputs": [
    {
     "data": {
      "text/plain": [
       "['__class__',\n",
       " '__delattr__',\n",
       " '__dict__',\n",
       " '__dir__',\n",
       " '__doc__',\n",
       " '__eq__',\n",
       " '__format__',\n",
       " '__ge__',\n",
       " '__getattribute__',\n",
       " '__gt__',\n",
       " '__hash__',\n",
       " '__init__',\n",
       " '__init_subclass__',\n",
       " '__le__',\n",
       " '__lt__',\n",
       " '__module__',\n",
       " '__ne__',\n",
       " '__new__',\n",
       " '__reduce__',\n",
       " '__reduce_ex__',\n",
       " '__repr__',\n",
       " '__setattr__',\n",
       " '__sizeof__',\n",
       " '__str__',\n",
       " '__subclasshook__',\n",
       " '__weakref__',\n",
       " '_build_and_fit_model',\n",
       " '_build_hypermodel',\n",
       " '_configure_tensorboard_dir',\n",
       " '_deepcopy_callbacks',\n",
       " '_display',\n",
       " '_get_checkpoint_fname',\n",
       " '_get_tensorboard_dir',\n",
       " '_get_tuner_fname',\n",
       " '_override_compile_args',\n",
       " '_populate_initial_space',\n",
       " '_save_n_checkpoints',\n",
       " '_try_build',\n",
       " 'directory',\n",
       " 'distribution_strategy',\n",
       " 'executions_per_trial',\n",
       " 'get_best_hyperparameters',\n",
       " 'get_best_models',\n",
       " 'get_state',\n",
       " 'get_trial_dir',\n",
       " 'hypermodel',\n",
       " 'load_model',\n",
       " 'logger',\n",
       " 'loss',\n",
       " 'max_model_size',\n",
       " 'metrics',\n",
       " 'on_batch_begin',\n",
       " 'on_batch_end',\n",
       " 'on_epoch_begin',\n",
       " 'on_epoch_end',\n",
       " 'on_search_begin',\n",
       " 'on_search_end',\n",
       " 'on_trial_begin',\n",
       " 'on_trial_end',\n",
       " 'optimizer',\n",
       " 'oracle',\n",
       " 'project_dir',\n",
       " 'project_name',\n",
       " 'reload',\n",
       " 'remaining_trials',\n",
       " 'results_summary',\n",
       " 'run_trial',\n",
       " 'save',\n",
       " 'save_model',\n",
       " 'search',\n",
       " 'search_space_summary',\n",
       " 'seed',\n",
       " 'set_state',\n",
       " 'tuner_id']"
      ]
     },
     "execution_count": 32,
     "metadata": {},
     "output_type": "execute_result"
    }
   ],
   "source": [
    "dir(tuner)"
   ]
  },
  {
   "cell_type": "code",
   "execution_count": null,
   "metadata": {
    "id": "UafY9FVxbmoC"
   },
   "outputs": [],
   "source": [
    "# with open('model_tuners.pkl','rb') as f:\n",
    "#   models = pickle.load(f)"
   ]
  },
  {
   "cell_type": "code",
   "execution_count": null,
   "metadata": {
    "colab": {
     "base_uri": "https://localhost:8080/"
    },
    "id": "OpgYTmU4otwX",
    "outputId": "318d8c31-7367-4f15-b875-787731a4a25a"
   },
   "outputs": [
    {
     "data": {
      "text/plain": [
       "[[<keras.engine.sequential.Sequential at 0x7f4cf843a710>,\n",
       "  <keras.engine.sequential.Sequential at 0x7f4cf843a6d0>],\n",
       " [<keras.engine.sequential.Sequential at 0x7f4cdd4d46d0>,\n",
       "  <keras.engine.sequential.Sequential at 0x7f4cdd2c1e90>],\n",
       " [<keras.engine.sequential.Sequential at 0x7f4cdd10ca50>,\n",
       "  <keras.engine.sequential.Sequential at 0x7f4cdd442990>]]"
      ]
     },
     "execution_count": 27,
     "metadata": {},
     "output_type": "execute_result"
    }
   ],
   "source": [
    "models"
   ]
  },
  {
   "cell_type": "code",
   "execution_count": null,
   "metadata": {
    "colab": {
     "base_uri": "https://localhost:8080/"
    },
    "id": "4wGU3lUMcdca",
    "outputId": "e085f20c-a394-4e13-b8bf-8ec8ec266dda"
   },
   "outputs": [
    {
     "data": {
      "text/plain": [
       "['__add__',\n",
       " '__class__',\n",
       " '__contains__',\n",
       " '__delattr__',\n",
       " '__delitem__',\n",
       " '__dir__',\n",
       " '__doc__',\n",
       " '__eq__',\n",
       " '__format__',\n",
       " '__ge__',\n",
       " '__getattribute__',\n",
       " '__getitem__',\n",
       " '__gt__',\n",
       " '__hash__',\n",
       " '__iadd__',\n",
       " '__imul__',\n",
       " '__init__',\n",
       " '__init_subclass__',\n",
       " '__iter__',\n",
       " '__le__',\n",
       " '__len__',\n",
       " '__lt__',\n",
       " '__mul__',\n",
       " '__ne__',\n",
       " '__new__',\n",
       " '__reduce__',\n",
       " '__reduce_ex__',\n",
       " '__repr__',\n",
       " '__reversed__',\n",
       " '__rmul__',\n",
       " '__setattr__',\n",
       " '__setitem__',\n",
       " '__sizeof__',\n",
       " '__str__',\n",
       " '__subclasshook__',\n",
       " 'append',\n",
       " 'clear',\n",
       " 'copy',\n",
       " 'count',\n",
       " 'extend',\n",
       " 'index',\n",
       " 'insert',\n",
       " 'pop',\n",
       " 'remove',\n",
       " 'reverse',\n",
       " 'sort']"
      ]
     },
     "execution_count": 24,
     "metadata": {},
     "output_type": "execute_result"
    }
   ],
   "source": [
    "dir(model)"
   ]
  },
  {
   "cell_type": "code",
   "execution_count": null,
   "metadata": {
    "id": "CXDURFoLSgY3"
   },
   "outputs": [],
   "source": [
    "model = Sequential()\n",
    "model.add(layers.Dense(16, input_dim=2, activation='relu'))\n",
    "model.add(layers.Dense(16, input_dim=2, activation='relu'))\n",
    "model.add(layers.Dense(1, activation='linear'))\n",
    "model.compile(loss='mse', optimizer='adam')\n",
    "model.fit(X, y, epochs=16, batch_size=64,verbose=True)"
   ]
  },
  {
   "cell_type": "code",
   "execution_count": null,
   "metadata": {
    "colab": {
     "base_uri": "https://localhost:8080/"
    },
    "id": "YrIgbp0twrmG",
    "outputId": "b2f0d2db-f53a-4f54-ec35-c54d96e251d3"
   },
   "outputs": [
    {
     "name": "stdout",
     "output_type": "stream",
     "text": [
      "126/126 [==============================] - 0s 3ms/step - loss: 0.0227\n",
      "34491/34491 [==============================] - 80s 2ms/step - loss: 0.0259\n",
      "TRAIN MSE: 0.022671449929475784\n",
      "TEST MSE: 0.025928305462002754\n"
     ]
    }
   ],
   "source": [
    "train_result = model.evaluate(X_train.values,y_train.values,batch_size=10000)\n",
    "test_result = model.evaluate(X_test.values,y_test.values)\n",
    "print('TRAIN MSE:',train_result)\n",
    "print('TEST MSE:',test_result)"
   ]
  },
  {
   "cell_type": "code",
   "execution_count": null,
   "metadata": {
    "colab": {
     "base_uri": "https://localhost:8080/"
    },
    "id": "f8DD-iPOvyR3",
    "outputId": "fdc2510c-3ded-40c2-da37-cbefaa886c06"
   },
   "outputs": [
    {
     "data": {
      "text/plain": [
       "0.025928305462002754"
      ]
     },
     "execution_count": 65,
     "metadata": {},
     "output_type": "execute_result"
    }
   ],
   "source": [
    "test_result"
   ]
  },
  {
   "cell_type": "markdown",
   "metadata": {
    "id": "CP73ewuxc0gT"
   },
   "source": [
    "2.Use test data to get an idea of the out of sample performance of each model. Convert the standard MSE metric for out of sample performance to the “R2 out of sample” metric that was discussed in class. Compare your results to those in Gu-Kelly-Xiu and comment on the differences. "
   ]
  },
  {
   "cell_type": "code",
   "execution_count": null,
   "metadata": {
    "id": "LkvqxqQAnqDw"
   },
   "outputs": [],
   "source": [
    "# from keras.wrappers.scikit_learn import KerasClassifier, KerasRegressor\n",
    "# import eli5\n",
    "# from eli5.sklearn import PermutationImportance\n",
    "\n",
    "# def base_model():\n",
    "#     model = Sequential()        \n",
    "#     ...\n",
    "#     return model\n",
    "\n",
    "# X = ...\n",
    "# y = ...\n",
    "\n",
    "# my_model = KerasRegressor(build_fn=base_model, **sk_params)    \n",
    "# my_model.fit(X,y)\n",
    "\n",
    "# perm = PermutationImportance(my_model, random_state=1).fit(X,y)\n",
    "# eli5.show_weights(perm, feature_names = X.columns.tolist())"
   ]
  },
  {
   "cell_type": "code",
   "execution_count": null,
   "metadata": {
    "id": "vRGwEta1c0gU"
   },
   "outputs": [],
   "source": []
  },
  {
   "cell_type": "markdown",
   "metadata": {
    "id": "eV0nT10sc0gU"
   },
   "source": [
    "3.Pick the model that performs the best out of sample, and interpret its output by doing the following analysis of variable importance:\n",
    "a.\tFirst, for all stock characteristics, get variable importance by setting one predictor at a time to zero and finding the decrease in out of sample R2. Show a table of the 10 most important variables according to this measure, and give an economic interpretation. \n"
   ]
  },
  {
   "cell_type": "markdown",
   "metadata": {
    "id": "Sc-gagOLc0gV"
   },
   "source": [
    "b.\tSecond, get a measure of the joint importance of all our “macro predictors” (i.e., those taken from Welch and Goyal 2008), by setting them all to zero and finding the decrease in out of sample R2. Comment on how important macroeconomic variables are relative to stock characteristics in predicting returns. "
   ]
  },
  {
   "cell_type": "markdown",
   "metadata": {
    "id": "AX8kVzNQc0gV"
   },
   "source": [
    "c.\tRepeat the two steps above, but by using a measure of the sensitivity of predictions to each input variable, as outlined in the lectures."
   ]
  },
  {
   "cell_type": "code",
   "execution_count": null,
   "metadata": {
    "id": "AzS8KJBWc0gV"
   },
   "outputs": [],
   "source": []
  },
  {
   "cell_type": "markdown",
   "metadata": {
    "id": "bfTmKAXRc0gV"
   },
   "source": [
    "4.Fit a penalised linear model (LASSO) to the same data, using validation data to pick the best penalty (e.g., you can use the “sklearn” package in Python to do this easily). Compare its test data performance to the neural network. "
   ]
  },
  {
   "cell_type": "code",
   "execution_count": null,
   "metadata": {
    "id": "yOkXRm3Oc0gW"
   },
   "outputs": [],
   "source": []
  },
  {
   "cell_type": "markdown",
   "metadata": {
    "id": "OqsoN75nc0gW"
   },
   "source": [
    "5.Suppose somebody tells you to collect 10 more micro or macro variables that can predict returns and are not in our current dataset. How would you choose those variables, based on the intuitions you have gained in this project?"
   ]
  },
  {
   "cell_type": "code",
   "execution_count": null,
   "metadata": {
    "id": "ni5ZNgXY1uGA"
   },
   "outputs": [],
   "source": []
  },
  {
   "cell_type": "code",
   "execution_count": null,
   "metadata": {
    "id": "jXNJN_hNc0gW"
   },
   "outputs": [],
   "source": []
  }
 ],
 "metadata": {
  "accelerator": "GPU",
  "colab": {
   "background_execution": "on",
   "collapsed_sections": [],
   "include_colab_link": true,
   "machine_shape": "hm",
   "name": "bd_2.ipynb",
   "provenance": []
  },
  "kernelspec": {
   "display_name": "Python 3 (ipykernel)",
   "language": "python",
   "name": "python3"
  },
  "language_info": {
   "codemirror_mode": {
    "name": "ipython",
    "version": 3
   },
   "file_extension": ".py",
   "mimetype": "text/x-python",
   "name": "python",
   "nbconvert_exporter": "python",
   "pygments_lexer": "ipython3",
   "version": "3.9.12"
  },
  "varInspector": {
   "cols": {
    "lenName": 16,
    "lenType": 16,
    "lenVar": 40
   },
   "kernels_config": {
    "python": {
     "delete_cmd_postfix": "",
     "delete_cmd_prefix": "del ",
     "library": "var_list.py",
     "varRefreshCmd": "print(var_dic_list())"
    },
    "r": {
     "delete_cmd_postfix": ") ",
     "delete_cmd_prefix": "rm(",
     "library": "var_list.r",
     "varRefreshCmd": "cat(var_dic_list()) "
    }
   },
   "oldHeight": 123,
   "position": {
    "height": "377px",
    "left": "553px",
    "right": "20px",
    "top": "104px",
    "width": "602px"
   },
   "types_to_exclude": [
    "module",
    "function",
    "builtin_function_or_method",
    "instance",
    "_Feature"
   ],
   "varInspector_section_display": "block",
   "window_display": false
  }
 },
 "nbformat": 4,
 "nbformat_minor": 1
}
