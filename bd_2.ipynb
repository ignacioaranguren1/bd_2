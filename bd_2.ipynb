{
 "cells": [
  {
   "cell_type": "markdown",
   "metadata": {
    "colab_type": "text",
    "id": "view-in-github"
   },
   "source": [
    "<a href=\"https://colab.research.google.com/github/ignacioaranguren1/bd_2/blob/main/bd_2.ipynb\" target=\"_parent\"><img src=\"https://colab.research.google.com/assets/colab-badge.svg\" alt=\"Open In Colab\"/></a>"
   ]
  },
  {
   "cell_type": "code",
   "execution_count": 49,
   "metadata": {
    "id": "vF6fH-KFdDnq"
   },
   "outputs": [],
   "source": [
    "import pandas as pd\n",
    "import numpy as np\n",
    "import matplotlib.pyplot as plt\n",
    "import pickle\n",
    "import os\n",
    "import keras_tuner\n",
    "\n",
    "from tqdm import tqdm\n",
    "from datetime import datetime\n",
    "from tensorflow import keras\n",
    "from tensorflow.keras import layers\n",
    "from tensorflow.keras.utils import to_categorical\n",
    "from tensorflow.keras.models import Sequential\n",
    "from keras_tuner.tuners import RandomSearch"
   ]
  },
  {
   "cell_type": "code",
   "execution_count": 50,
   "metadata": {},
   "outputs": [],
   "source": [
    "%matplotlib inline\n",
    "\n",
    "datapath = '/Users/ignacioaranguren/bd_2/data'\n",
    "os.chdir(datapath)"
   ]
  },
  {
   "cell_type": "markdown",
   "metadata": {
    "id": "mUSZgH01c0gK"
   },
   "source": [
    "1.In the data used by Gu, Kelly and Xiu (RFS 2019 – provided in class), use a similar procedure to theirs to predict stock returns with neural networks. Start by finding a suitable baseline configuration, and use a validation procedure to pick optimal hyperparameters for three neural network models: One with 2 hidden layers, one with 3 hidden layers, and one with 4 hidden layers. "
   ]
  },
  {
   "cell_type": "code",
   "execution_count": 51,
   "metadata": {
    "id": "JN8g2yI6c0gN"
   },
   "outputs": [],
   "source": [
    "data = pd.read_pickle('returns_chars_panel.pkl')\n",
    "macro = pd.read_pickle('macro_timeseries.pkl')"
   ]
  },
  {
   "cell_type": "code",
   "execution_count": 52,
   "metadata": {
    "id": "uUS00_JCrz2m"
   },
   "outputs": [],
   "source": [
    "def train_validation_test_split(data,train_end_date,validation_end_date):\n",
    "  tmp = data.reset_index()\n",
    "  train = tmp[tmp.date<=train_end_date].set_index(['date','permno'],drop=True)\n",
    "  validation = tmp[(tmp.date>train_end_date) & (tmp.date<=validation_end_date)].set_index(['date','permno'],drop=True)\n",
    "  test = tmp[tmp.date>validation_end_date].set_index(['date','permno'],drop=True)\n",
    "  return train,validation,test"
   ]
  },
  {
   "cell_type": "code",
   "execution_count": 53,
   "metadata": {
    "id": "2ZXV1zHXnrbV"
   },
   "outputs": [],
   "source": [
    "data_merged = pd.merge(data,macro,on=['date'])\n",
    "datelist = list(set(data_merged['date']))\n",
    "datelist.sort()\n",
    "data_merged.set_index(['date','permno'],drop=True,inplace=True)"
   ]
  },
  {
   "cell_type": "code",
   "execution_count": 54,
   "metadata": {
    "id": "QKYOGMqDoGqO"
   },
   "outputs": [],
   "source": [
    "train_ratio = 0.5\n",
    "validation_ratio = 0.25\n",
    "train_date = datelist[int(len(datelist)*train_ratio)]\n",
    "validation_date = datelist[int(len(datelist)*(train_ratio+validation_ratio))]\n",
    "X = data_merged.iloc[:,3:].copy()\n",
    "y = data_merged['excess_ret'].copy()"
   ]
  },
  {
   "cell_type": "code",
   "execution_count": 55,
   "metadata": {
    "id": "JiHQP_Xmrv9s"
   },
   "outputs": [],
   "source": [
    "X_train,X_validation,X_test = train_validation_test_split(X,train_date,validation_date)\n",
    "y_train,y_validation,y_test = train_validation_test_split(y,train_date,validation_date)"
   ]
  },
  {
   "cell_type": "code",
   "execution_count": 56,
   "metadata": {},
   "outputs": [],
   "source": [
    "def keras_model(n_layers, units, dropout_rate, learning_rate):\n",
    "    # Build model\n",
    "    model = Sequential()\n",
    "    model.add(layers.Input(shape=(105,)))\n",
    "    for i in range(n_layers):\n",
    "        model.add(layers.Dense(units=units[0][i], activation='relu'))\n",
    "    model.add(layers.Dropout(rate=dropout_rate[0]))\n",
    "    model.add(layers.Dense(1, activation='linear'))\n",
    "    model.compile(\n",
    "        optimizer=keras.optimizers.Adam(learning_rate=learning_rate),\n",
    "        loss='mse')\n",
    "    return model\n",
    "\n",
    "class HyperRegressor(keras_tuner.HyperModel):\n",
    "    def __init__(self, n_layers, *args, **kwargs):\n",
    "        self.n_layers = n_layers\n",
    "        super().__init__(*args, **kwargs)\n",
    "\n",
    "    def build(self, hp):\n",
    "        units=[hp.Int(f'units_{i + 1}',min_value=16,max_value=160,step=16) for i in range(self.n_layers)],\n",
    "        dropout_rate=hp.Choice('dropout_rate', values=[0.2,0.4,0.6,0.8]),\n",
    "        learning_rate = hp.Float(\"learning_rate\", min_value=1e-4, max_value=1e-2, sampling=\"log\")\n",
    "        return keras_model(self.n_layers,\n",
    "                           units, \n",
    "                           dropout_rate, \n",
    "                           learning_rate\n",
    "                          )\n",
    "\n",
    "    def fit(self, hp, model, x, y, validation_data, **kwargs):\n",
    "        model.fit(x, y, **kwargs)\n",
    "        x_val, y_val = validation_data\n",
    "        y_pred = model.predict(x_val)\n",
    "        # Return a single float to minimize.\n",
    "        return np.mean((y_pred - y_val)**2)"
   ]
  },
  {
   "cell_type": "code",
   "execution_count": 57,
   "metadata": {},
   "outputs": [],
   "source": [
    "MAX_TRIALS = 10\n",
    "EXECUTION_PER_TRIAL = 3\n",
    "EPOCHS = 10\n",
    "BATCH_SIZE = 256\n",
    "\n",
    "def tune_model(n_layers=2):\n",
    "  tuner = RandomSearch(\n",
    "        hypermodel=HyperRegressor(n_layers),\n",
    "        max_trials=MAX_TRIALS,\n",
    "        executions_per_trial=EXECUTION_PER_TRIAL,\n",
    "        overwrite=True,\n",
    "        directory='bd_2',\n",
    "        project_name=f'NN_new_{n_layers}'\n",
    "  )\n",
    "  tuner.search(\n",
    "      X_train.values, \n",
    "      y_train.values,\n",
    "      validation_data=(X_validation.values, y_validation.values),\n",
    "      batch_size=BATCH_SIZE,\n",
    "      epochs=EPOCHS\n",
    "  )\n",
    "  return tuner"
   ]
  },
  {
   "cell_type": "code",
   "execution_count": 58,
   "metadata": {},
   "outputs": [
    {
     "name": "stdout",
     "output_type": "stream",
     "text": [
      "Trial 10 Complete [00h 05m 01s]\n",
      "default_objective: 0.040514956096232325\n",
      "\n",
      "Best default_objective So Far: 0.04012584269145073\n",
      "Total elapsed time: 00h 49m 58s\n",
      "INFO:tensorflow:Oracle triggered exit\n"
     ]
    }
   ],
   "source": [
    "models=[]\n",
    "parameters=[]\n",
    "tuners=[]\n",
    "for n in range(2,5):\n",
    "    tuner = tune_model(n)\n",
    "    parameters.append(tuner.get_best_hyperparameters)\n",
    "    models.append(tuner.get_best_models(1)[0])\n",
    "    tuners.append(tuner)"
   ]
  },
  {
   "cell_type": "code",
   "execution_count": 59,
   "metadata": {},
   "outputs": [
    {
     "data": {
      "text/plain": [
       "[<keras.engine.sequential.Sequential at 0x140734ee0>,\n",
       " <keras.engine.sequential.Sequential at 0x140eb4ee0>,\n",
       " <keras.engine.sequential.Sequential at 0x1408ed8e0>]"
      ]
     },
     "execution_count": 59,
     "metadata": {},
     "output_type": "execute_result"
    }
   ],
   "source": [
    "models"
   ]
  },
  {
   "cell_type": "code",
   "execution_count": 60,
   "metadata": {},
   "outputs": [
    {
     "name": "stdout",
     "output_type": "stream",
     "text": [
      "4920/4920 [==============================] - 3s 557us/step - loss: 0.0222\n",
      "4312/4312 [==============================] - 2s 566us/step - loss: 0.0255\n",
      "4920/4920 [==============================] - 4s 731us/step - loss: 0.0219\n",
      "4312/4312 [==============================] - 3s 745us/step - loss: 0.0255\n",
      "4920/4920 [==============================] - 3s 572us/step - loss: 0.0221\n",
      "4312/4312 [==============================] - 3s 582us/step - loss: 0.0255\n"
     ]
    }
   ],
   "source": [
    "results = {}\n",
    "for i in range(3):\n",
    "    train_result = models[i].evaluate(X_train.values,y_train.values,batch_size=256)\n",
    "    test_result = models[i].evaluate(X_test.values,y_test.values,batch_size=256)\n",
    "    results[f'model_{i}'] = {'train': train_result,'test': test_result}"
   ]
  },
  {
   "cell_type": "code",
   "execution_count": 61,
   "metadata": {},
   "outputs": [
    {
     "data": {
      "text/plain": [
       "{'model_0': {'train': 0.022159937769174576, 'test': 0.025516396388411522},\n",
       " 'model_1': {'train': 0.021902702748775482, 'test': 0.025462862104177475},\n",
       " 'model_2': {'train': 0.02213214337825775, 'test': 0.025467146188020706}}"
      ]
     },
     "execution_count": 61,
     "metadata": {},
     "output_type": "execute_result"
    }
   ],
   "source": [
    "results"
   ]
  },
  {
   "cell_type": "code",
   "execution_count": 64,
   "metadata": {},
   "outputs": [
    {
     "name": "stdout",
     "output_type": "stream",
     "text": [
      "{'units_1': 32, 'units_2': 32, 'dropout_rate': 0.6, 'learning_rate': 0.00012474684203056348}\n",
      "{'units_1': 96, 'units_2': 128, 'units_3': 64, 'dropout_rate': 0.8, 'learning_rate': 0.0002967584080441718}\n",
      "{'units_1': 32, 'units_2': 32, 'units_3': 32, 'units_4': 16, 'dropout_rate': 0.8, 'learning_rate': 0.0002796941031491936}\n"
     ]
    }
   ],
   "source": [
    "for i in range(3):\n",
    "  print(tuners[i].get_best_hyperparameters()[0].values)"
   ]
  },
  {
   "cell_type": "code",
   "execution_count": 68,
   "metadata": {},
   "outputs": [
    {
     "name": "stdout",
     "output_type": "stream",
     "text": [
      "INFO:tensorflow:Assets written to: ram://0dae50e4-09e1-4dd0-99ba-6d88658dcb50/assets\n",
      "INFO:tensorflow:Assets written to: ram://eade0c64-e00d-44a6-be7f-75764c740601/assets\n",
      "INFO:tensorflow:Assets written to: ram://e9b35971-41f9-4abc-98d9-92c8b506f39f/assets\n"
     ]
    }
   ],
   "source": [
    "with open('parameters.pkl','wb') as f:\n",
    "  pickle.dump(parameters,f)\n",
    "with open('models.pkl','wb') as f:\n",
    "  pickle.dump(models,f)\n",
    "with open('tuners.pkl','wb') as f:\n",
    "  pickle.dump(tuners,f)"
   ]
  },
  {
   "cell_type": "markdown",
   "metadata": {
    "id": "CP73ewuxc0gT"
   },
   "source": [
    "2.Use test data to get an idea of the out of sample performance of each model. Convert the standard MSE metric for out of sample performance to the “R2 out of sample” metric that was discussed in class. Compare your results to those in Gu-Kelly-Xiu and comment on the differences. "
   ]
  },
  {
   "cell_type": "code",
   "execution_count": null,
   "metadata": {
    "id": "vRGwEta1c0gU"
   },
   "outputs": [],
   "source": []
  },
  {
   "cell_type": "markdown",
   "metadata": {
    "id": "eV0nT10sc0gU"
   },
   "source": [
    "3.Pick the model that performs the best out of sample, and interpret its output by doing the following analysis of variable importance:\n",
    "a.\tFirst, for all stock characteristics, get variable importance by setting one predictor at a time to zero and finding the decrease in out of sample R2. Show a table of the 10 most important variables according to this measure, and give an economic interpretation. \n"
   ]
  },
  {
   "cell_type": "markdown",
   "metadata": {
    "id": "Sc-gagOLc0gV"
   },
   "source": [
    "b.\tSecond, get a measure of the joint importance of all our “macro predictors” (i.e., those taken from Welch and Goyal 2008), by setting them all to zero and finding the decrease in out of sample R2. Comment on how important macroeconomic variables are relative to stock characteristics in predicting returns. "
   ]
  },
  {
   "cell_type": "markdown",
   "metadata": {
    "id": "AX8kVzNQc0gV"
   },
   "source": [
    "c.\tRepeat the two steps above, but by using a measure of the sensitivity of predictions to each input variable, as outlined in the lectures."
   ]
  },
  {
   "cell_type": "code",
   "execution_count": null,
   "metadata": {
    "id": "AzS8KJBWc0gV"
   },
   "outputs": [],
   "source": []
  },
  {
   "cell_type": "markdown",
   "metadata": {
    "id": "bfTmKAXRc0gV"
   },
   "source": [
    "4.Fit a penalised linear model (LASSO) to the same data, using validation data to pick the best penalty (e.g., you can use the “sklearn” package in Python to do this easily). Compare its test data performance to the neural network. "
   ]
  },
  {
   "cell_type": "code",
   "execution_count": null,
   "metadata": {
    "id": "yOkXRm3Oc0gW"
   },
   "outputs": [],
   "source": []
  },
  {
   "cell_type": "markdown",
   "metadata": {
    "id": "OqsoN75nc0gW"
   },
   "source": [
    "5.Suppose somebody tells you to collect 10 more micro or macro variables that can predict returns and are not in our current dataset. How would you choose those variables, based on the intuitions you have gained in this project?"
   ]
  },
  {
   "cell_type": "code",
   "execution_count": null,
   "metadata": {
    "id": "ni5ZNgXY1uGA"
   },
   "outputs": [],
   "source": []
  },
  {
   "cell_type": "code",
   "execution_count": null,
   "metadata": {
    "id": "jXNJN_hNc0gW"
   },
   "outputs": [],
   "source": []
  }
 ],
 "metadata": {
  "accelerator": "GPU",
  "colab": {
   "background_execution": "on",
   "collapsed_sections": [],
   "include_colab_link": true,
   "machine_shape": "hm",
   "name": "bd_2.ipynb",
   "provenance": []
  },
  "kernelspec": {
   "display_name": "Python 3 (ipykernel)",
   "language": "python",
   "name": "python3"
  },
  "language_info": {
   "codemirror_mode": {
    "name": "ipython",
    "version": 3
   },
   "file_extension": ".py",
   "mimetype": "text/x-python",
   "name": "python",
   "nbconvert_exporter": "python",
   "pygments_lexer": "ipython3",
   "version": "3.9.12"
  },
  "varInspector": {
   "cols": {
    "lenName": 16,
    "lenType": 16,
    "lenVar": 40
   },
   "kernels_config": {
    "python": {
     "delete_cmd_postfix": "",
     "delete_cmd_prefix": "del ",
     "library": "var_list.py",
     "varRefreshCmd": "print(var_dic_list())"
    },
    "r": {
     "delete_cmd_postfix": ") ",
     "delete_cmd_prefix": "rm(",
     "library": "var_list.r",
     "varRefreshCmd": "cat(var_dic_list()) "
    }
   },
   "oldHeight": 123,
   "position": {
    "height": "377px",
    "left": "553px",
    "right": "20px",
    "top": "104px",
    "width": "602px"
   },
   "types_to_exclude": [
    "module",
    "function",
    "builtin_function_or_method",
    "instance",
    "_Feature"
   ],
   "varInspector_section_display": "block",
   "window_display": false
  }
 },
 "nbformat": 4,
 "nbformat_minor": 1
}
