{
 "cells": [
  {
   "cell_type": "markdown",
   "metadata": {
    "colab_type": "text",
    "id": "view-in-github"
   },
   "source": [
    "<a href=\"https://colab.research.google.com/github/ignacioaranguren1/bd_2/blob/main/bd_2.ipynb\" target=\"_parent\"><img src=\"https://colab.research.google.com/assets/colab-badge.svg\" alt=\"Open In Colab\"/></a>"
   ]
  },
  {
   "cell_type": "code",
   "execution_count": 1,
   "metadata": {
    "id": "dtScW94T_IUq"
   },
   "outputs": [],
   "source": [
    "import pandas as pd\n",
    "import numpy as np\n",
    "import matplotlib.pyplot as plt\n",
    "import pickle\n",
    "import os\n",
    "import keras_tuner\n",
    "import datetime as dt\n",
    "\n",
    "from tqdm import tqdm\n",
    "from datetime import datetime\n",
    "from tensorflow import keras\n",
    "from tensorflow.keras import layers\n",
    "from tensorflow.keras.utils import to_categorical\n",
    "from tensorflow.keras.models import Sequential\n",
    "from keras_tuner.tuners import RandomSearch\n",
    "from tensorflow.keras.layers import BatchNormalization"
   ]
  },
  {
   "cell_type": "code",
   "execution_count": 2,
   "metadata": {
    "id": "TOwQ1uv2-gsD"
   },
   "outputs": [],
   "source": [
    "%matplotlib inline\n",
    "\n",
    "datapath = r'/Users/ignacioaranguren/bd_2/data'\n",
    "os.chdir(datapath)"
   ]
  },
  {
   "cell_type": "markdown",
   "metadata": {
    "id": "mUSZgH01c0gK"
   },
   "source": [
    "1.In the data used by Gu, Kelly and Xiu (RFS 2019 – provided in class), use a similar procedure to theirs to predict stock returns with neural networks. Start by finding a suitable baseline configuration, and use a validation procedure to pick optimal hyperparameters for three neural network models: One with 2 hidden layers, one with 3 hidden layers, and one with 4 hidden layers. "
   ]
  },
  {
   "cell_type": "code",
   "execution_count": 3,
   "metadata": {
    "id": "JN8g2yI6c0gN"
   },
   "outputs": [],
   "source": [
    "data = pd.read_pickle('returns_chars_panel.pkl')\n",
    "macro = pd.read_pickle('macro_timeseries.pkl')"
   ]
  },
  {
   "cell_type": "code",
   "execution_count": 4,
   "metadata": {
    "id": "uUS00_JCrz2m"
   },
   "outputs": [],
   "source": [
    "def train_validation_test_split(data,train_end_date,validation_end_date):\n",
    "  tmp = data.reset_index()\n",
    "  train = tmp[tmp.date<=train_end_date].set_index(['date','permno'],drop=True)\n",
    "  validation = tmp[(tmp.date>train_end_date) & (tmp.date<=validation_end_date)].set_index(['date','permno'],drop=True)\n",
    "  test = tmp[tmp.date>validation_end_date].set_index(['date','permno'],drop=True)\n",
    "  return train,validation,test"
   ]
  },
  {
   "cell_type": "code",
   "execution_count": 5,
   "metadata": {
    "id": "2ZXV1zHXnrbV"
   },
   "outputs": [],
   "source": [
    "data_merged = pd.merge(data,macro,on=['date'])\n",
    "datelist = list(set(data_merged['date']))\n",
    "datelist.sort()\n",
    "data_merged.set_index(['date','permno'],drop=True,inplace=True)"
   ]
  },
  {
   "cell_type": "code",
   "execution_count": 6,
   "metadata": {
    "id": "QKYOGMqDoGqO"
   },
   "outputs": [],
   "source": [
    "# It is worth mentioning that even though we have set these ratios in order to split the data set the resulting\n",
    "# weighs are not exactly the same because dates can have more than one observation\n",
    "train_ratio = 0.5\n",
    "validation_ratio = 0.25\n",
    "train_date = datelist[int(len(datelist)*train_ratio)]\n",
    "validation_date = datelist[int(len(datelist)*(train_ratio+validation_ratio))]\n",
    "X = data_merged.iloc[:,3:].copy()\n",
    "y = data_merged['excess_ret'].copy()"
   ]
  },
  {
   "cell_type": "code",
   "execution_count": 7,
   "metadata": {
    "id": "JiHQP_Xmrv9s"
   },
   "outputs": [],
   "source": [
    "X_train,X_validation,X_test = train_validation_test_split(X,train_date,validation_date)\n",
    "y_train,y_validation,y_test = train_validation_test_split(y,train_date,validation_date)"
   ]
  },
  {
   "cell_type": "code",
   "execution_count": 24,
   "metadata": {
    "id": "_6bgsQRe-SS-"
   },
   "outputs": [],
   "source": [
    "def keras_model(n_layers, units, learning_rate):\n",
    "    # Model definition separated from tuner in order to achieve modularity \n",
    "    # Build model\n",
    "    model = Sequential()\n",
    "    model.add(layers.Input(shape=(105,)))\n",
    "    # Add layers iteratively and assign a units hyperparam selector\n",
    "    for i in range(n_layers):\n",
    "        model.add(BatchNormalization()) # Normalizing before activation seems to yield better results than after\n",
    "        model.add(layers.Dense(units=units[0][i], activation='relu'))\n",
    "    model.add(layers.Dense(1, activation='linear'))\n",
    "    model.compile(\n",
    "        optimizer=keras.optimizers.Adam(learning_rate=learning_rate),\n",
    "        loss='mse')\n",
    "    return model\n",
    "\n",
    "class HyperRegressor(keras_tuner.HyperModel):\n",
    "    def __init__(self, n_layers, *args, **kwargs):\n",
    "        # Pass all arguments except number of layers to parent\n",
    "        self.n_layers = n_layers\n",
    "        super().__init__(*args, **kwargs)\n",
    "\n",
    "    def build(self, hp):\n",
    "        # Hyperparameters choices and ranges definition \n",
    "        # To increase modularity, we declare units choice for each layer in a list \n",
    "        units=[hp.Int(f'units_{i + 1}',min_value=16,max_value=160,step=16) for i in range(self.n_layers)],\n",
    "        learning_rate = hp.Float(\"learning_rate\", min_value=1e-4, max_value=1e-2, sampling=\"log\")\n",
    "        return keras_model(self.n_layers, units, learning_rate)\n",
    "\n",
    "    def fit(self, hp, model, x, y, validation_data, **kwargs):\n",
    "        model.fit(x, y, **kwargs)\n",
    "        x_val, y_val = validation_data\n",
    "        y_pred = model.predict(x_val)\n",
    "        # Return a single float to minimize.\n",
    "        return np.mean((y_pred - y_val)**2)"
   ]
  },
  {
   "cell_type": "code",
   "execution_count": 25,
   "metadata": {
    "id": "zcQMs56h-SS_"
   },
   "outputs": [],
   "source": [
    "########################\n",
    "# CONSTANTS DEFINITION #\n",
    "########################\n",
    "\n",
    "MAX_TRIALS = 10\n",
    "EXECUTION_PER_TRIAL = 3\n",
    "EPOCHS = 8\n",
    "BATCH_SIZE = 256\n",
    "\n",
    "def tune_model(n_layers=2):\n",
    "  # Early stop if loss does not improve after 3 epochs\n",
    "  callback = keras.callbacks.EarlyStopping(monitor='loss', patience=3)\n",
    "  tuner = RandomSearch(\n",
    "        hypermodel=HyperRegressor(n_layers),\n",
    "        max_trials=MAX_TRIALS,\n",
    "        executions_per_trial=EXECUTION_PER_TRIAL,\n",
    "        overwrite=True,\n",
    "        directory='bd_2',\n",
    "        project_name=f'NN_new_{n_layers}'\n",
    "  )\n",
    "  tuner.search(\n",
    "      X_train.values, \n",
    "      y_train.values,\n",
    "      validation_data=(X_validation.values, y_validation.values),\n",
    "      batch_size=BATCH_SIZE,\n",
    "      epochs=EPOCHS,\n",
    "      callbacks=[callback]\n",
    "  )\n",
    "  return tuner"
   ]
  },
  {
   "cell_type": "code",
   "execution_count": 12,
   "metadata": {
    "colab": {
     "base_uri": "https://localhost:8080/"
    },
    "id": "GpUrwzRc-STA",
    "outputId": "37279b8d-7da6-4223-b843-c43910ca1408"
   },
   "outputs": [
    {
     "name": "stdout",
     "output_type": "stream",
     "text": [
      "Trial 10 Complete [00h 09m 28s]\n",
      "default_objective: 0.04740524855275794\n",
      "\n",
      "Best default_objective So Far: 0.04082417058268804\n",
      "Total elapsed time: 01h 34m 14s\n",
      "INFO:tensorflow:Oracle triggered exit\n"
     ]
    }
   ],
   "source": [
    "models = []\n",
    "parameters = []\n",
    "tuners = []\n",
    "for n in range(2,5):\n",
    "    tuner = tune_model(n)\n",
    "    parameters.append(tuner.get_best_hyperparameters)\n",
    "    models.append(tuner.get_best_models(1)[0])\n",
    "    tuners.append(tuner)"
   ]
  },
  {
   "cell_type": "code",
   "execution_count": 26,
   "metadata": {
    "colab": {
     "base_uri": "https://localhost:8080/"
    },
    "id": "Ow2WYyMr-STC",
    "outputId": "e6889abb-192f-4efe-e49c-1ff56279ab54"
   },
   "outputs": [
    {
     "name": "stdout",
     "output_type": "stream",
     "text": [
      "{'units_1': 144, 'units_2': 64, 'learning_rate': 0.000256153969803113}\n",
      "{'units_1': 64, 'units_2': 96, 'units_3': 112, 'learning_rate': 0.0013688978213179357}\n",
      "{'units_1': 16, 'units_2': 48, 'units_3': 128, 'units_4': 144, 'learning_rate': 0.0005677736913894471}\n"
     ]
    }
   ],
   "source": [
    "for i in range(3):\n",
    "  print(tuners[i].get_best_hyperparameters()[0].values)"
   ]
  },
  {
   "cell_type": "code",
   "execution_count": 13,
   "metadata": {
    "colab": {
     "base_uri": "https://localhost:8080/"
    },
    "id": "nqljtYWpetKL",
    "outputId": "952c8ad6-e73a-4f62-ca6f-0ad2e65f249c"
   },
   "outputs": [
    {
     "name": "stdout",
     "output_type": "stream",
     "text": [
      "INFO:tensorflow:Assets written to: ram://4cefee27-841d-4536-af97-baa27475d903/assets\n",
      "INFO:tensorflow:Assets written to: ram://96fedd41-dad1-4d05-aea2-d2ce631fd171/assets\n",
      "INFO:tensorflow:Assets written to: ram://b75f643e-f30a-4748-996b-531cb7f81058/assets\n"
     ]
    }
   ],
   "source": [
    "with open('models.pkl','wb') as f:\n",
    "  pickle.dump(models,f)\n",
    "with open('tuners.pkl','wb') as f:\n",
    "  pickle.dump(tuners,f)"
   ]
  },
  {
   "cell_type": "code",
   "execution_count": 17,
   "metadata": {
    "colab": {
     "base_uri": "https://localhost:8080/"
    },
    "id": "k-_834O5-STB",
    "outputId": "daf82c26-0c93-43eb-e24c-721226e813cf",
    "scrolled": true
   },
   "outputs": [
    {
     "name": "stdout",
     "output_type": "stream",
     "text": [
      "Epoch 1/64\n",
      "14608/14608 [==============================] - 35s 2ms/step - loss: 0.0554\n",
      "Epoch 2/64\n",
      "14608/14608 [==============================] - 32s 2ms/step - loss: 0.0296\n",
      "Epoch 3/64\n",
      "14608/14608 [==============================] - 32s 2ms/step - loss: 0.0293\n",
      "Epoch 4/64\n",
      "14608/14608 [==============================] - 32s 2ms/step - loss: 0.0291\n",
      "Epoch 5/64\n",
      "14608/14608 [==============================] - 32s 2ms/step - loss: 0.0289\n",
      "Epoch 6/64\n",
      "14608/14608 [==============================] - 31s 2ms/step - loss: 0.0288\n",
      "Epoch 7/64\n",
      "14608/14608 [==============================] - 31s 2ms/step - loss: 0.0287\n",
      "Epoch 8/64\n",
      "14608/14608 [==============================] - 31s 2ms/step - loss: 0.0286\n",
      "Epoch 9/64\n",
      "14608/14608 [==============================] - 31s 2ms/step - loss: 0.0285\n",
      "Epoch 10/64\n",
      "14608/14608 [==============================] - 31s 2ms/step - loss: 0.0284\n",
      "Epoch 11/64\n",
      "14608/14608 [==============================] - 31s 2ms/step - loss: 0.0283\n",
      "Epoch 12/64\n",
      "14608/14608 [==============================] - 31s 2ms/step - loss: 0.0282\n",
      "Epoch 13/64\n",
      "14608/14608 [==============================] - 31s 2ms/step - loss: 0.0281\n",
      "Epoch 14/64\n",
      "14608/14608 [==============================] - 31s 2ms/step - loss: 0.0280\n",
      "Epoch 15/64\n",
      "14608/14608 [==============================] - 31s 2ms/step - loss: 0.0279\n",
      "Epoch 16/64\n",
      "14608/14608 [==============================] - 31s 2ms/step - loss: 0.0279\n",
      "Epoch 17/64\n",
      "14608/14608 [==============================] - 30s 2ms/step - loss: 0.0278\n",
      "Epoch 18/64\n",
      "14608/14608 [==============================] - 31s 2ms/step - loss: 0.0278\n",
      "Epoch 19/64\n",
      "14608/14608 [==============================] - 30s 2ms/step - loss: 0.0277\n",
      "Epoch 20/64\n",
      "14608/14608 [==============================] - 31s 2ms/step - loss: 0.0277\n",
      "Epoch 21/64\n",
      "14608/14608 [==============================] - 30s 2ms/step - loss: 0.0277\n",
      "Epoch 22/64\n",
      "14608/14608 [==============================] - 30s 2ms/step - loss: 0.0276\n",
      "Epoch 23/64\n",
      "14608/14608 [==============================] - 30s 2ms/step - loss: 0.0276\n",
      "Epoch 24/64\n",
      "14608/14608 [==============================] - 30s 2ms/step - loss: 0.0276\n",
      "Epoch 25/64\n",
      "14608/14608 [==============================] - 30s 2ms/step - loss: 0.0276\n",
      "Epoch 26/64\n",
      "14608/14608 [==============================] - 30s 2ms/step - loss: 0.0275\n",
      "Epoch 27/64\n",
      "14608/14608 [==============================] - 30s 2ms/step - loss: 0.0275\n",
      "Epoch 28/64\n",
      "14608/14608 [==============================] - 30s 2ms/step - loss: 0.0275\n",
      "Epoch 29/64\n",
      "14608/14608 [==============================] - 30s 2ms/step - loss: 0.0275\n",
      "Epoch 30/64\n",
      "14608/14608 [==============================] - 30s 2ms/step - loss: 0.0274\n",
      "Epoch 31/64\n",
      "14608/14608 [==============================] - 30s 2ms/step - loss: 0.0274\n",
      "Epoch 32/64\n",
      "14608/14608 [==============================] - 30s 2ms/step - loss: 0.0274\n",
      "Epoch 33/64\n",
      "14608/14608 [==============================] - 29s 2ms/step - loss: 0.0274\n",
      "Epoch 34/64\n",
      "14608/14608 [==============================] - 29s 2ms/step - loss: 0.0274\n",
      "Epoch 35/64\n",
      "14608/14608 [==============================] - 29s 2ms/step - loss: 0.0274\n",
      "Epoch 36/64\n",
      "14608/14608 [==============================] - 29s 2ms/step - loss: 0.0274\n",
      "Epoch 37/64\n",
      "14608/14608 [==============================] - 29s 2ms/step - loss: 0.0273\n",
      "Epoch 38/64\n",
      "14608/14608 [==============================] - 29s 2ms/step - loss: 0.0273\n",
      "Epoch 39/64\n",
      "14608/14608 [==============================] - 29s 2ms/step - loss: 0.0273\n",
      "Epoch 40/64\n",
      "14608/14608 [==============================] - 29s 2ms/step - loss: 0.0273\n",
      "Epoch 41/64\n",
      "14608/14608 [==============================] - 29s 2ms/step - loss: 0.0273\n",
      "Epoch 42/64\n",
      "14608/14608 [==============================] - 28s 2ms/step - loss: 0.0273\n",
      "Epoch 43/64\n",
      "14608/14608 [==============================] - 28s 2ms/step - loss: 0.0273\n",
      "Epoch 44/64\n",
      "14608/14608 [==============================] - 28s 2ms/step - loss: 0.0273\n",
      "Epoch 45/64\n",
      "14608/14608 [==============================] - 28s 2ms/step - loss: 0.0272\n",
      "Epoch 46/64\n",
      "14608/14608 [==============================] - 28s 2ms/step - loss: 0.0272\n",
      "Epoch 47/64\n",
      "14608/14608 [==============================] - 28s 2ms/step - loss: 0.0272\n",
      "Epoch 48/64\n",
      "14608/14608 [==============================] - 28s 2ms/step - loss: 0.0272\n",
      "Epoch 49/64\n",
      "14608/14608 [==============================] - 28s 2ms/step - loss: 0.0272\n",
      "Epoch 50/64\n",
      "14608/14608 [==============================] - 28s 2ms/step - loss: 0.0272\n",
      "Epoch 51/64\n",
      "14608/14608 [==============================] - 28s 2ms/step - loss: 0.0272\n",
      "Epoch 52/64\n",
      "14608/14608 [==============================] - 29s 2ms/step - loss: 0.0272\n",
      "Epoch 53/64\n",
      "14608/14608 [==============================] - 28s 2ms/step - loss: 0.0272\n",
      "Epoch 54/64\n",
      "14608/14608 [==============================] - 28s 2ms/step - loss: 0.0272\n",
      "Epoch 55/64\n",
      "14608/14608 [==============================] - 28s 2ms/step - loss: 0.0272\n",
      "Epoch 56/64\n",
      "14608/14608 [==============================] - 28s 2ms/step - loss: 0.0272\n",
      "Epoch 57/64\n",
      "14608/14608 [==============================] - 28s 2ms/step - loss: 0.0272\n",
      "Epoch 58/64\n",
      "14608/14608 [==============================] - 28s 2ms/step - loss: 0.0272\n",
      "Epoch 59/64\n",
      "14608/14608 [==============================] - 28s 2ms/step - loss: 0.0271\n",
      "Epoch 60/64\n",
      "14608/14608 [==============================] - 28s 2ms/step - loss: 0.0271\n",
      "Epoch 61/64\n",
      "14608/14608 [==============================] - 32s 2ms/step - loss: 0.0271\n",
      "Epoch 62/64\n",
      "14608/14608 [==============================] - 31s 2ms/step - loss: 0.0271\n",
      "Epoch 63/64\n",
      "14608/14608 [==============================] - 32s 2ms/step - loss: 0.0271\n",
      "Epoch 64/64\n",
      "14608/14608 [==============================] - 31s 2ms/step - loss: 0.0271\n",
      "4920/4920 [==============================] - 8s 2ms/step - loss: 0.0203\n",
      "4312/4312 [==============================] - 7s 2ms/step - loss: 0.0227\n",
      "5377/5377 [==============================] - 8s 2ms/step - loss: 0.0362\n",
      "Epoch 1/64\n",
      "14608/14608 [==============================] - 31s 2ms/step - loss: 0.0302\n",
      "Epoch 2/64\n",
      "14608/14608 [==============================] - 31s 2ms/step - loss: 0.0288\n",
      "Epoch 3/64\n",
      "14608/14608 [==============================] - 31s 2ms/step - loss: 0.0286\n",
      "Epoch 4/64\n",
      "14608/14608 [==============================] - 31s 2ms/step - loss: 0.0285\n",
      "Epoch 5/64\n",
      "14608/14608 [==============================] - 31s 2ms/step - loss: 0.0285\n",
      "Epoch 6/64\n",
      "14608/14608 [==============================] - 30s 2ms/step - loss: 0.0285\n",
      "Epoch 7/64\n",
      "14608/14608 [==============================] - 30s 2ms/step - loss: 0.0284\n",
      "Epoch 8/64\n",
      "14608/14608 [==============================] - 30s 2ms/step - loss: 0.0284\n",
      "Epoch 9/64\n",
      "14608/14608 [==============================] - 30s 2ms/step - loss: 0.0284\n",
      "Epoch 10/64\n",
      "14608/14608 [==============================] - 30s 2ms/step - loss: 0.0284\n",
      "Epoch 11/64\n",
      "14608/14608 [==============================] - 30s 2ms/step - loss: 0.0284\n",
      "Epoch 12/64\n",
      "14608/14608 [==============================] - 30s 2ms/step - loss: 0.0284\n",
      "Epoch 13/64\n",
      "14608/14608 [==============================] - 30s 2ms/step - loss: 0.0284\n",
      "Epoch 14/64\n",
      "14608/14608 [==============================] - 30s 2ms/step - loss: 0.0284\n",
      "Epoch 15/64\n",
      "14608/14608 [==============================] - 30s 2ms/step - loss: 0.0284\n",
      "Epoch 16/64\n",
      "14608/14608 [==============================] - 30s 2ms/step - loss: 0.0284\n",
      "4920/4920 [==============================] - 7s 1ms/step - loss: 0.0217\n",
      "4312/4312 [==============================] - 6s 1ms/step - loss: 0.0243\n",
      "5377/5377 [==============================] - 8s 1ms/step - loss: 0.0379\n",
      "Epoch 1/64\n",
      "14608/14608 [==============================] - 31s 2ms/step - loss: 0.0315\n",
      "Epoch 2/64\n",
      "14608/14608 [==============================] - 30s 2ms/step - loss: 0.0281\n",
      "Epoch 3/64\n",
      "14608/14608 [==============================] - 30s 2ms/step - loss: 0.0273\n",
      "Epoch 4/64\n",
      "14608/14608 [==============================] - 30s 2ms/step - loss: 0.0270\n",
      "Epoch 5/64\n",
      "14608/14608 [==============================] - 30s 2ms/step - loss: 0.0268\n",
      "Epoch 6/64\n",
      "14608/14608 [==============================] - 30s 2ms/step - loss: 0.0266\n",
      "Epoch 7/64\n",
      "14608/14608 [==============================] - 30s 2ms/step - loss: 0.0265\n",
      "Epoch 8/64\n",
      "14608/14608 [==============================] - 30s 2ms/step - loss: 0.0265\n",
      "Epoch 9/64\n",
      "14608/14608 [==============================] - 30s 2ms/step - loss: 0.0264\n",
      "Epoch 10/64\n",
      "14608/14608 [==============================] - 30s 2ms/step - loss: 0.0264\n",
      "Epoch 11/64\n",
      "14608/14608 [==============================] - 30s 2ms/step - loss: 0.0263\n",
      "Epoch 12/64\n",
      "14608/14608 [==============================] - 30s 2ms/step - loss: 0.0263\n",
      "Epoch 13/64\n",
      "14608/14608 [==============================] - 29s 2ms/step - loss: 0.0263\n",
      "Epoch 14/64\n",
      "14608/14608 [==============================] - 29s 2ms/step - loss: 0.0262\n",
      "Epoch 15/64\n",
      "14608/14608 [==============================] - 29s 2ms/step - loss: 0.0262\n",
      "Epoch 16/64\n",
      "14608/14608 [==============================] - 29s 2ms/step - loss: 0.0262\n",
      "Epoch 17/64\n",
      "14608/14608 [==============================] - 29s 2ms/step - loss: 0.0262\n",
      "Epoch 18/64\n",
      "14608/14608 [==============================] - 29s 2ms/step - loss: 0.0261\n",
      "Epoch 19/64\n",
      "14608/14608 [==============================] - 29s 2ms/step - loss: 0.0261\n",
      "Epoch 20/64\n",
      "14608/14608 [==============================] - 30s 2ms/step - loss: 0.0261\n",
      "Epoch 21/64\n",
      "14608/14608 [==============================] - 30s 2ms/step - loss: 0.0261\n",
      "Epoch 22/64\n",
      "14608/14608 [==============================] - 31s 2ms/step - loss: 0.0261\n",
      "Epoch 23/64\n",
      "14608/14608 [==============================] - 30s 2ms/step - loss: 0.0261\n",
      "Epoch 24/64\n",
      "14608/14608 [==============================] - 30s 2ms/step - loss: 0.0260\n",
      "Epoch 25/64\n",
      "14608/14608 [==============================] - 30s 2ms/step - loss: 0.0260\n",
      "Epoch 26/64\n",
      "14608/14608 [==============================] - 29s 2ms/step - loss: 0.0260\n",
      "Epoch 27/64\n",
      "14608/14608 [==============================] - 29s 2ms/step - loss: 0.0260\n",
      "Epoch 28/64\n",
      "14608/14608 [==============================] - 29s 2ms/step - loss: 0.0260\n",
      "Epoch 29/64\n",
      "14608/14608 [==============================] - 29s 2ms/step - loss: 0.0260\n",
      "Epoch 30/64\n",
      "14608/14608 [==============================] - 29s 2ms/step - loss: 0.0260\n",
      "Epoch 31/64\n",
      "14608/14608 [==============================] - 29s 2ms/step - loss: 0.0260\n",
      "Epoch 32/64\n",
      "14608/14608 [==============================] - 29s 2ms/step - loss: 0.0259\n",
      "Epoch 33/64\n",
      "14608/14608 [==============================] - 29s 2ms/step - loss: 0.0259\n",
      "Epoch 34/64\n",
      "14608/14608 [==============================] - 29s 2ms/step - loss: 0.0259\n",
      "Epoch 35/64\n",
      "14608/14608 [==============================] - 29s 2ms/step - loss: 0.0259\n",
      "Epoch 36/64\n",
      "14608/14608 [==============================] - 29s 2ms/step - loss: 0.0259\n",
      "Epoch 37/64\n",
      "14608/14608 [==============================] - 29s 2ms/step - loss: 0.0259\n",
      "Epoch 38/64\n",
      "14608/14608 [==============================] - 29s 2ms/step - loss: 0.0259\n",
      "Epoch 39/64\n",
      "14608/14608 [==============================] - 29s 2ms/step - loss: 0.0259\n",
      "Epoch 40/64\n",
      "14608/14608 [==============================] - 29s 2ms/step - loss: 0.0259\n",
      "Epoch 41/64\n",
      "14608/14608 [==============================] - 29s 2ms/step - loss: 0.0259\n",
      "Epoch 42/64\n",
      "14608/14608 [==============================] - 29s 2ms/step - loss: 0.0259\n",
      "4920/4920 [==============================] - 7s 1ms/step - loss: 0.0191\n",
      "4312/4312 [==============================] - 6s 1ms/step - loss: 0.0217\n",
      "5377/5377 [==============================] - 8s 1ms/step - loss: 0.0343\n"
     ]
    }
   ],
   "source": [
    "def format_units(buffer_dict):\n",
    "      # Convert units param to a list of units to match processing formatting\n",
    "      units = []\n",
    "      # Check if key is unit, if it is add to list \n",
    "      for key, value  in buffer_dict.values.items():\n",
    "          if 'units' in key:\n",
    "              units += [value]\n",
    "      # Crate new dict with correct format \n",
    "      best_params = {}\n",
    "      best_params['units'] = [units]\n",
    "      best_params['learning_rate'] = buffer_dict['learning_rate']\n",
    "      return best_params\n",
    "\n",
    "models_refitted = []\n",
    "results = {}\n",
    "for i in range(3):\n",
    "    # Build and refit model with best params\n",
    "    callback = keras.callbacks.EarlyStopping(monitor='loss', patience=3)\n",
    "    best_hps = format_units(tuners[i].get_best_hyperparameters()[0])\n",
    "    n_layers = len(best_hps['units']) # Get num of hidden layers\n",
    "    model = keras_model(n_layers, **best_hps) # Rebuild model\n",
    "    model.fit(X, y, epochs=64, batch_size=256,verbose=True, callbacks=[callback])\n",
    "    models_refitted.append(model)\n",
    "    # Evaluate train, val and test \n",
    "    train_result = model.evaluate(X_train.values,y_train.values,batch_size=256)\n",
    "    test_result = model.evaluate(X_test.values,y_test.values,batch_size=256)\n",
    "    val_result = model.evaluate(X_validation.values,y_validation.values,batch_size=256)\n",
    "    results[f'NN{i + 1}'] = {'train': train_result, 'validation': val_result, 'test': test_result}"
   ]
  },
  {
   "cell_type": "code",
   "execution_count": 18,
   "metadata": {
    "colab": {
     "base_uri": "https://localhost:8080/"
    },
    "id": "Ywo6kW_j-STC",
    "outputId": "62d58504-ee46-47c5-be12-7db06eebd4f0"
   },
   "outputs": [
    {
     "data": {
      "text/plain": [
       "{'NN1': {'test': 0.024710332974791527,\n",
       "  'train': 0.02167060784995556,\n",
       "  'validation': 0.03952166065573692},\n",
       " 'NN2': {'test': 0.023484626784920692,\n",
       "  'train': 0.021047215908765793,\n",
       "  'validation': 0.037058476358652115},\n",
       " 'NN3': {'test': 0.023973975330591202,\n",
       "  'train': 0.021303806453943253,\n",
       "  'validation': 0.03852330520749092}}"
      ]
     },
     "execution_count": 18,
     "metadata": {},
     "output_type": "execute_result"
    }
   ],
   "source": [
    "results"
   ]
  },
  {
   "cell_type": "code",
   "execution_count": 18,
   "metadata": {
    "colab": {
     "base_uri": "https://localhost:8080/"
    },
    "id": "NujnDpUp-STD",
    "outputId": "6c1f4d65-88f0-4028-9168-16c58d824fec"
   },
   "outputs": [
    {
     "name": "stdout",
     "output_type": "stream",
     "text": [
      "INFO:tensorflow:Assets written to: ram://badb6e86-648e-47cd-a306-01eaf114f5b5/assets\n",
      "INFO:tensorflow:Assets written to: ram://b003ddc8-fec3-4294-8f3f-28fbafbf577b/assets\n",
      "INFO:tensorflow:Assets written to: ram://21149ecd-ca54-4391-b42a-2d8bc73ff3c4/assets\n"
     ]
    }
   ],
   "source": [
    "with open('refitted_models_BN.pkl','wb') as f:\n",
    "  pickle.dump(models_refitted,f)"
   ]
  },
  {
   "cell_type": "markdown",
   "metadata": {
    "id": "CP73ewuxc0gT"
   },
   "source": [
    "2.Use test data to get an idea of the out of sample performance of each model. Convert the standard MSE metric for out of sample performance to the “R2 out of sample” metric that was discussed in class. Compare your results to those in Gu-Kelly-Xiu and comment on the differences. "
   ]
  },
  {
   "cell_type": "code",
   "execution_count": 26,
   "metadata": {
    "id": "0KZ3qleF-STE"
   },
   "outputs": [],
   "source": [
    "with open('models.pkl','rb') as f:\n",
    "  models = pickle.load(f)\n",
    "with open('tuners.pkl','rb') as f:\n",
    "  tuners = pickle.load(f)\n",
    "with open('refitted_models_BN.pkl','rb') as f:\n",
    "  models_refitted = pickle.load(f)"
   ]
  },
  {
   "cell_type": "code",
   "execution_count": 27,
   "metadata": {
    "id": "lfCN6eZImqbB"
   },
   "outputs": [],
   "source": [
    "def r_squared(y_pred, y_test):\n",
    "    return 1 - np.sum((y_test - y_pred)**2) / np.sum(y_test**2)"
   ]
  },
  {
   "cell_type": "code",
   "execution_count": 28,
   "metadata": {},
   "outputs": [],
   "source": [
    "rankings = X_test['mvel1'].groupby(['date']).rank()\n",
    "top_X_test = X_test.loc[rankings<=1000,:].values\n",
    "top_y_test = y_test.loc[rankings<=1000,:].values\n",
    "rankings_reverse = X_test['mvel1'].groupby(['date']).rank(ascending=False)\n",
    "bottom_X_test = X_test.loc[rankings_reverse<=1000,:].values\n",
    "bottom_y_test = y_test.loc[rankings_reverse<=1000,:].values"
   ]
  },
  {
   "cell_type": "code",
   "execution_count": 30,
   "metadata": {
    "id": "vRGwEta1c0gU"
   },
   "outputs": [
    {
     "name": "stdout",
     "output_type": "stream",
     "text": [
      "4312/4312 [==============================] - 3s 576us/step\n",
      "700/700 [==============================] - 0s 560us/step\n",
      "700/700 [==============================] - 0s 553us/step\n",
      "4312/4312 [==============================] - 2s 560us/step\n",
      "700/700 [==============================] - 0s 565us/step\n",
      "700/700 [==============================] - 0s 598us/step\n",
      "4312/4312 [==============================] - 3s 674us/step\n",
      "700/700 [==============================] - 0s 640us/step\n",
      "700/700 [==============================] - 0s 641us/step\n"
     ]
    }
   ],
   "source": [
    "R2_oos_df = pd.DataFrame(columns = ['R2_OOS','R2_OOS_top1000','R2_OOS_low1000'],index = ['NN2','NN3','NN4'])\n",
    "for i in range(3):\n",
    "    y_pred_all = models_refitted[i].predict(X_test,batch_size=256).reshape(-1,1)\n",
    "    y_pred_top = models_refitted[i].predict(top_X_test,batch_size=256).reshape(-1,1)\n",
    "    y_pred_bottom = models_refitted[i].predict(bottom_X_test,batch_size=256).reshape(-1,1)\n",
    "    \n",
    "    row = [r_squared(y_pred_all, y_test)[0],\n",
    "           r_squared(y_pred_top, top_y_test),\n",
    "           r_squared(y_pred_bottom, bottom_y_test)]\n",
    "    \n",
    "    R2_oos_df.iloc[i]= row"
   ]
  },
  {
   "cell_type": "code",
   "execution_count": 31,
   "metadata": {
    "colab": {
     "base_uri": "https://localhost:8080/",
     "height": 143
    },
    "id": "FqetXnyy-STE",
    "outputId": "56f3ca8f-c36b-4599-f6e4-47cc2ef6a500"
   },
   "outputs": [
    {
     "data": {
      "text/html": [
       "<div>\n",
       "<style scoped>\n",
       "    .dataframe tbody tr th:only-of-type {\n",
       "        vertical-align: middle;\n",
       "    }\n",
       "\n",
       "    .dataframe tbody tr th {\n",
       "        vertical-align: top;\n",
       "    }\n",
       "\n",
       "    .dataframe thead th {\n",
       "        text-align: right;\n",
       "    }\n",
       "</style>\n",
       "<table border=\"1\" class=\"dataframe\">\n",
       "  <thead>\n",
       "    <tr style=\"text-align: right;\">\n",
       "      <th></th>\n",
       "      <th>R2_OOS</th>\n",
       "      <th>R2_OOS_top1000</th>\n",
       "      <th>R2_OOS_low1000</th>\n",
       "    </tr>\n",
       "  </thead>\n",
       "  <tbody>\n",
       "    <tr>\n",
       "      <th>NN2</th>\n",
       "      <td>11.614579</td>\n",
       "      <td>7.251403</td>\n",
       "      <td>21.135385</td>\n",
       "    </tr>\n",
       "    <tr>\n",
       "      <th>NN3</th>\n",
       "      <td>5.597416</td>\n",
       "      <td>4.051352</td>\n",
       "      <td>8.421495</td>\n",
       "    </tr>\n",
       "    <tr>\n",
       "      <th>NN4</th>\n",
       "      <td>15.510674</td>\n",
       "      <td>10.886926</td>\n",
       "      <td>26.439365</td>\n",
       "    </tr>\n",
       "  </tbody>\n",
       "</table>\n",
       "</div>"
      ],
      "text/plain": [
       "        R2_OOS R2_OOS_top1000 R2_OOS_low1000\n",
       "NN2  11.614579       7.251403      21.135385\n",
       "NN3   5.597416       4.051352       8.421495\n",
       "NN4  15.510674      10.886926      26.439365"
      ]
     },
     "execution_count": 31,
     "metadata": {},
     "output_type": "execute_result"
    }
   ],
   "source": [
    "R2_oos_df * 100"
   ]
  },
  {
   "cell_type": "code",
   "execution_count": 17,
   "metadata": {
    "id": "kZRdfWlolRMs"
   },
   "outputs": [],
   "source": [
    "with open('r_squared.pkl','wb') as f:\n",
    "  pickle.dump(R2_oos_df,f)"
   ]
  },
  {
   "cell_type": "markdown",
   "metadata": {
    "id": "eV0nT10sc0gU"
   },
   "source": [
    "3.Pick the model that performs the best out of sample, and interpret its output by doing the following analysis of variable importance:\n",
    "a.\tFirst, for all stock characteristics, get variable importance by setting one predictor at a time to zero and finding the decrease in out of sample R2. Show a table of the 10 most important variables according to this measure, and give an economic interpretation. \n"
   ]
  },
  {
   "cell_type": "code",
   "execution_count": 32,
   "metadata": {
    "id": "e4FNMTJvlgxL"
   },
   "outputs": [],
   "source": [
    "with open('refitted_models_BN.pkl','rb') as f:\n",
    "  models_refitted = pickle.load(f)\n",
    "with open('r_squared.pkl','rb') as f:\n",
    "  R2_oos_df = pickle.load(f)"
   ]
  },
  {
   "cell_type": "code",
   "execution_count": 33,
   "metadata": {},
   "outputs": [],
   "source": [
    "# from IPython.display import display\n",
    "sub = R2_oos_df[R2_oos_df['R2_OOS'] == R2_oos_df['R2_OOS'].max()].index[0]\n",
    "ind = R2_oos_df.index.tolist().index(sub)\n",
    "best_model = models_refitted[ind]"
   ]
  },
  {
   "cell_type": "code",
   "execution_count": 34,
   "metadata": {
    "colab": {
     "base_uri": "https://localhost:8080/"
    },
    "id": "VDzLErv3la-6",
    "outputId": "1845a8c3-8a17-477e-b1dc-08cc0738b9a7"
   },
   "outputs": [
    {
     "data": {
      "text/plain": [
       "15.510674225049337"
      ]
     },
     "execution_count": 34,
     "metadata": {},
     "output_type": "execute_result"
    }
   ],
   "source": [
    "best_r_squared = max(R2_oos_df.iloc[:,0])\n",
    "best_r_squared * 100"
   ]
  },
  {
   "cell_type": "code",
   "execution_count": 15,
   "metadata": {
    "colab": {
     "base_uri": "https://localhost:8080/"
    },
    "id": "8OcByPQb-STG",
    "outputId": "13af639f-6184-44ea-c1e6-5fab55ed5246"
   },
   "outputs": [
    {
     "name": "stderr",
     "output_type": "stream",
     "text": [
      "\r",
      "  0%|                                                   | 0/105 [00:00<?, ?it/s]"
     ]
    },
    {
     "name": "stdout",
     "output_type": "stream",
     "text": [
      "4312/4312 [==============================] - 3s 666us/step\n"
     ]
    },
    {
     "name": "stderr",
     "output_type": "stream",
     "text": [
      "\r",
      "  1%|▍                                          | 1/105 [00:06<10:28,  6.05s/it]"
     ]
    },
    {
     "name": "stdout",
     "output_type": "stream",
     "text": [
      "4312/4312 [==============================] - 3s 680us/step\n"
     ]
    },
    {
     "name": "stderr",
     "output_type": "stream",
     "text": [
      "\r",
      "  2%|▊                                          | 2/105 [00:12<10:45,  6.27s/it]"
     ]
    },
    {
     "name": "stdout",
     "output_type": "stream",
     "text": [
      "4312/4312 [==============================] - 3s 685us/step\n"
     ]
    },
    {
     "name": "stderr",
     "output_type": "stream",
     "text": [
      "\r",
      "  3%|█▏                                         | 3/105 [00:21<12:36,  7.42s/it]"
     ]
    },
    {
     "name": "stdout",
     "output_type": "stream",
     "text": [
      "4312/4312 [==============================] - 4s 825us/step\n"
     ]
    },
    {
     "name": "stderr",
     "output_type": "stream",
     "text": [
      "\r",
      "  4%|█▋                                         | 4/105 [00:28<12:24,  7.37s/it]"
     ]
    },
    {
     "name": "stdout",
     "output_type": "stream",
     "text": [
      "4312/4312 [==============================] - 3s 701us/step\n"
     ]
    },
    {
     "name": "stderr",
     "output_type": "stream",
     "text": [
      "\r",
      "  5%|██                                         | 5/105 [00:35<12:00,  7.21s/it]"
     ]
    },
    {
     "name": "stdout",
     "output_type": "stream",
     "text": [
      "4312/4312 [==============================] - 3s 673us/step\n"
     ]
    },
    {
     "name": "stderr",
     "output_type": "stream",
     "text": [
      "\r",
      "  6%|██▍                                        | 6/105 [00:41<11:24,  6.92s/it]"
     ]
    },
    {
     "name": "stdout",
     "output_type": "stream",
     "text": [
      "4312/4312 [==============================] - 3s 664us/step\n"
     ]
    },
    {
     "name": "stderr",
     "output_type": "stream",
     "text": [
      "\r",
      "  7%|██▊                                        | 7/105 [00:48<11:23,  6.97s/it]"
     ]
    },
    {
     "name": "stdout",
     "output_type": "stream",
     "text": [
      "4312/4312 [==============================] - 3s 668us/step\n"
     ]
    },
    {
     "name": "stderr",
     "output_type": "stream",
     "text": [
      "\r",
      "  8%|███▎                                       | 8/105 [00:56<11:26,  7.08s/it]"
     ]
    },
    {
     "name": "stdout",
     "output_type": "stream",
     "text": [
      "4312/4312 [==============================] - 3s 656us/step\n"
     ]
    },
    {
     "name": "stderr",
     "output_type": "stream",
     "text": [
      "\r",
      "  9%|███▋                                       | 9/105 [01:02<10:41,  6.68s/it]"
     ]
    },
    {
     "name": "stdout",
     "output_type": "stream",
     "text": [
      "4312/4312 [==============================] - 3s 667us/step\n"
     ]
    },
    {
     "name": "stderr",
     "output_type": "stream",
     "text": [
      "\r",
      " 10%|████                                      | 10/105 [01:07<10:10,  6.42s/it]"
     ]
    },
    {
     "name": "stdout",
     "output_type": "stream",
     "text": [
      "4312/4312 [==============================] - 3s 654us/step\n"
     ]
    },
    {
     "name": "stderr",
     "output_type": "stream",
     "text": [
      "\r",
      " 10%|████▍                                     | 11/105 [01:13<09:47,  6.25s/it]"
     ]
    },
    {
     "name": "stdout",
     "output_type": "stream",
     "text": [
      "4312/4312 [==============================] - 3s 657us/step\n"
     ]
    },
    {
     "name": "stderr",
     "output_type": "stream",
     "text": [
      "\r",
      " 11%|████▊                                     | 12/105 [01:19<09:32,  6.15s/it]"
     ]
    },
    {
     "name": "stdout",
     "output_type": "stream",
     "text": [
      "4312/4312 [==============================] - 3s 671us/step\n"
     ]
    },
    {
     "name": "stderr",
     "output_type": "stream",
     "text": [
      "\r",
      " 12%|█████▏                                    | 13/105 [01:25<09:28,  6.18s/it]"
     ]
    },
    {
     "name": "stdout",
     "output_type": "stream",
     "text": [
      "4312/4312 [==============================] - 3s 649us/step\n"
     ]
    },
    {
     "name": "stderr",
     "output_type": "stream",
     "text": [
      "\r",
      " 13%|█████▌                                    | 14/105 [01:32<09:27,  6.23s/it]"
     ]
    },
    {
     "name": "stdout",
     "output_type": "stream",
     "text": [
      "4312/4312 [==============================] - 3s 768us/step\n"
     ]
    },
    {
     "name": "stderr",
     "output_type": "stream",
     "text": [
      "\r",
      " 14%|██████                                    | 15/105 [01:39<09:36,  6.41s/it]"
     ]
    },
    {
     "name": "stdout",
     "output_type": "stream",
     "text": [
      "4312/4312 [==============================] - 3s 669us/step\n"
     ]
    },
    {
     "name": "stderr",
     "output_type": "stream",
     "text": [
      "\r",
      " 15%|██████▍                                   | 16/105 [01:46<09:44,  6.57s/it]"
     ]
    },
    {
     "name": "stdout",
     "output_type": "stream",
     "text": [
      "4312/4312 [==============================] - 3s 663us/step\n"
     ]
    },
    {
     "name": "stderr",
     "output_type": "stream",
     "text": [
      "\r",
      " 16%|██████▊                                   | 17/105 [01:52<09:34,  6.52s/it]"
     ]
    },
    {
     "name": "stdout",
     "output_type": "stream",
     "text": [
      "4312/4312 [==============================] - 3s 660us/step\n"
     ]
    },
    {
     "name": "stderr",
     "output_type": "stream",
     "text": [
      "\r",
      " 17%|███████▏                                  | 18/105 [02:00<10:09,  7.01s/it]"
     ]
    },
    {
     "name": "stdout",
     "output_type": "stream",
     "text": [
      "4312/4312 [==============================] - 3s 665us/step\n"
     ]
    },
    {
     "name": "stderr",
     "output_type": "stream",
     "text": [
      "\r",
      " 18%|███████▌                                  | 19/105 [02:07<09:51,  6.88s/it]"
     ]
    },
    {
     "name": "stdout",
     "output_type": "stream",
     "text": [
      "4312/4312 [==============================] - 3s 664us/step\n"
     ]
    },
    {
     "name": "stderr",
     "output_type": "stream",
     "text": [
      "\r",
      " 19%|████████                                  | 20/105 [02:13<09:31,  6.72s/it]"
     ]
    },
    {
     "name": "stdout",
     "output_type": "stream",
     "text": [
      "4312/4312 [==============================] - 3s 797us/step\n"
     ]
    },
    {
     "name": "stderr",
     "output_type": "stream",
     "text": [
      "\r",
      " 20%|████████▍                                 | 21/105 [02:22<10:32,  7.53s/it]"
     ]
    },
    {
     "name": "stdout",
     "output_type": "stream",
     "text": [
      "4312/4312 [==============================] - 3s 755us/step\n"
     ]
    },
    {
     "name": "stderr",
     "output_type": "stream",
     "text": [
      "\r",
      " 21%|████████▊                                 | 22/105 [02:30<10:13,  7.40s/it]"
     ]
    },
    {
     "name": "stdout",
     "output_type": "stream",
     "text": [
      "4312/4312 [==============================] - 3s 799us/step\n"
     ]
    },
    {
     "name": "stderr",
     "output_type": "stream",
     "text": [
      "\r",
      " 22%|█████████▏                                | 23/105 [02:38<10:35,  7.75s/it]"
     ]
    },
    {
     "name": "stdout",
     "output_type": "stream",
     "text": [
      "4312/4312 [==============================] - 3s 698us/step\n"
     ]
    },
    {
     "name": "stderr",
     "output_type": "stream",
     "text": [
      "\r",
      " 23%|█████████▌                                | 24/105 [02:45<09:56,  7.36s/it]"
     ]
    },
    {
     "name": "stdout",
     "output_type": "stream",
     "text": [
      "4312/4312 [==============================] - 3s 703us/step\n"
     ]
    },
    {
     "name": "stderr",
     "output_type": "stream",
     "text": [
      "\r",
      " 24%|██████████                                | 25/105 [02:52<09:52,  7.41s/it]"
     ]
    },
    {
     "name": "stdout",
     "output_type": "stream",
     "text": [
      "4312/4312 [==============================] - 3s 646us/step\n"
     ]
    },
    {
     "name": "stderr",
     "output_type": "stream",
     "text": [
      "\r",
      " 25%|██████████▍                               | 26/105 [02:58<09:12,  6.99s/it]"
     ]
    },
    {
     "name": "stdout",
     "output_type": "stream",
     "text": [
      "4312/4312 [==============================] - 4s 917us/step\n"
     ]
    },
    {
     "name": "stderr",
     "output_type": "stream",
     "text": [
      "\r",
      " 26%|██████████▊                               | 27/105 [03:05<09:10,  7.05s/it]"
     ]
    },
    {
     "name": "stdout",
     "output_type": "stream",
     "text": [
      "4312/4312 [==============================] - 3s 775us/step\n"
     ]
    },
    {
     "name": "stderr",
     "output_type": "stream",
     "text": [
      "\r",
      " 27%|███████████▏                              | 28/105 [03:12<08:53,  6.93s/it]"
     ]
    },
    {
     "name": "stdout",
     "output_type": "stream",
     "text": [
      "4312/4312 [==============================] - 3s 729us/step\n"
     ]
    },
    {
     "name": "stderr",
     "output_type": "stream",
     "text": [
      "\r",
      " 28%|███████████▌                              | 29/105 [03:19<08:40,  6.85s/it]"
     ]
    },
    {
     "name": "stdout",
     "output_type": "stream",
     "text": [
      "4312/4312 [==============================] - 4s 973us/step\n"
     ]
    },
    {
     "name": "stderr",
     "output_type": "stream",
     "text": [
      "\r",
      " 29%|████████████                              | 30/105 [03:26<08:53,  7.12s/it]"
     ]
    },
    {
     "name": "stdout",
     "output_type": "stream",
     "text": [
      "4312/4312 [==============================] - 3s 712us/step\n"
     ]
    },
    {
     "name": "stderr",
     "output_type": "stream",
     "text": [
      "\r",
      " 30%|████████████▍                             | 31/105 [03:34<08:50,  7.18s/it]"
     ]
    },
    {
     "name": "stdout",
     "output_type": "stream",
     "text": [
      "4312/4312 [==============================] - 3s 656us/step\n"
     ]
    },
    {
     "name": "stderr",
     "output_type": "stream",
     "text": [
      "\r",
      " 30%|████████████▊                             | 32/105 [03:40<08:30,  6.99s/it]"
     ]
    },
    {
     "name": "stdout",
     "output_type": "stream",
     "text": [
      "4312/4312 [==============================] - 4s 854us/step\n"
     ]
    },
    {
     "name": "stderr",
     "output_type": "stream",
     "text": [
      "\r",
      " 31%|█████████████▏                            | 33/105 [03:50<09:23,  7.83s/it]"
     ]
    },
    {
     "name": "stdout",
     "output_type": "stream",
     "text": [
      "4312/4312 [==============================] - 3s 767us/step\n"
     ]
    },
    {
     "name": "stderr",
     "output_type": "stream",
     "text": [
      "\r",
      " 32%|█████████████▌                            | 34/105 [03:57<09:02,  7.63s/it]"
     ]
    },
    {
     "name": "stdout",
     "output_type": "stream",
     "text": [
      "4312/4312 [==============================] - 3s 670us/step\n"
     ]
    },
    {
     "name": "stderr",
     "output_type": "stream",
     "text": [
      "\r",
      " 33%|██████████████                            | 35/105 [04:03<08:26,  7.24s/it]"
     ]
    },
    {
     "name": "stdout",
     "output_type": "stream",
     "text": [
      "4312/4312 [==============================] - 3s 667us/step\n"
     ]
    },
    {
     "name": "stderr",
     "output_type": "stream",
     "text": [
      "\r",
      " 34%|██████████████▍                           | 36/105 [04:10<08:06,  7.05s/it]"
     ]
    },
    {
     "name": "stdout",
     "output_type": "stream",
     "text": [
      "4312/4312 [==============================] - 3s 660us/step\n"
     ]
    },
    {
     "name": "stderr",
     "output_type": "stream",
     "text": [
      "\r",
      " 35%|██████████████▊                           | 37/105 [04:16<07:46,  6.85s/it]"
     ]
    },
    {
     "name": "stdout",
     "output_type": "stream",
     "text": [
      "4312/4312 [==============================] - 3s 664us/step\n"
     ]
    },
    {
     "name": "stderr",
     "output_type": "stream",
     "text": [
      "\r",
      " 36%|███████████████▏                          | 38/105 [04:23<07:28,  6.70s/it]"
     ]
    },
    {
     "name": "stdout",
     "output_type": "stream",
     "text": [
      "4312/4312 [==============================] - 3s 666us/step\n"
     ]
    },
    {
     "name": "stderr",
     "output_type": "stream",
     "text": [
      "\r",
      " 37%|███████████████▌                          | 39/105 [04:29<07:20,  6.67s/it]"
     ]
    },
    {
     "name": "stdout",
     "output_type": "stream",
     "text": [
      "4312/4312 [==============================] - 3s 657us/step\n"
     ]
    },
    {
     "name": "stderr",
     "output_type": "stream",
     "text": [
      "\r",
      " 38%|████████████████                          | 40/105 [04:36<07:06,  6.56s/it]"
     ]
    },
    {
     "name": "stdout",
     "output_type": "stream",
     "text": [
      "4312/4312 [==============================] - 4s 934us/step\n"
     ]
    },
    {
     "name": "stderr",
     "output_type": "stream",
     "text": [
      "\r",
      " 39%|████████████████▍                         | 41/105 [04:43<07:18,  6.85s/it]"
     ]
    },
    {
     "name": "stdout",
     "output_type": "stream",
     "text": [
      "4312/4312 [==============================] - 3s 649us/step\n"
     ]
    },
    {
     "name": "stderr",
     "output_type": "stream",
     "text": [
      "\r",
      " 40%|████████████████▊                         | 42/105 [04:49<06:51,  6.53s/it]"
     ]
    },
    {
     "name": "stdout",
     "output_type": "stream",
     "text": [
      "4312/4312 [==============================] - 3s 659us/step\n"
     ]
    },
    {
     "name": "stderr",
     "output_type": "stream",
     "text": [
      "\r",
      " 41%|█████████████████▏                        | 43/105 [04:55<06:31,  6.31s/it]"
     ]
    },
    {
     "name": "stdout",
     "output_type": "stream",
     "text": [
      "4312/4312 [==============================] - 3s 651us/step\n"
     ]
    },
    {
     "name": "stderr",
     "output_type": "stream",
     "text": [
      "\r",
      " 42%|█████████████████▌                        | 44/105 [05:01<06:14,  6.14s/it]"
     ]
    },
    {
     "name": "stdout",
     "output_type": "stream",
     "text": [
      "4312/4312 [==============================] - 3s 650us/step\n"
     ]
    },
    {
     "name": "stderr",
     "output_type": "stream",
     "text": [
      "\r",
      " 43%|██████████████████                        | 45/105 [05:06<06:02,  6.03s/it]"
     ]
    },
    {
     "name": "stdout",
     "output_type": "stream",
     "text": [
      "4312/4312 [==============================] - 3s 670us/step\n"
     ]
    },
    {
     "name": "stderr",
     "output_type": "stream",
     "text": [
      "\r",
      " 44%|██████████████████▍                       | 46/105 [05:12<05:52,  5.98s/it]"
     ]
    },
    {
     "name": "stdout",
     "output_type": "stream",
     "text": [
      "4312/4312 [==============================] - 3s 653us/step\n"
     ]
    },
    {
     "name": "stderr",
     "output_type": "stream",
     "text": [
      "\r",
      " 45%|██████████████████▊                       | 47/105 [05:18<05:44,  5.95s/it]"
     ]
    },
    {
     "name": "stdout",
     "output_type": "stream",
     "text": [
      "4312/4312 [==============================] - 3s 721us/step\n"
     ]
    },
    {
     "name": "stderr",
     "output_type": "stream",
     "text": [
      "\r",
      " 46%|███████████████████▏                      | 48/105 [05:24<05:43,  6.03s/it]"
     ]
    },
    {
     "name": "stdout",
     "output_type": "stream",
     "text": [
      "4312/4312 [==============================] - 3s 765us/step\n"
     ]
    },
    {
     "name": "stderr",
     "output_type": "stream",
     "text": [
      "\r",
      " 47%|███████████████████▌                      | 49/105 [05:33<06:15,  6.70s/it]"
     ]
    },
    {
     "name": "stdout",
     "output_type": "stream",
     "text": [
      "4312/4312 [==============================] - 3s 678us/step\n"
     ]
    },
    {
     "name": "stderr",
     "output_type": "stream",
     "text": [
      "\r",
      " 48%|████████████████████                      | 50/105 [05:39<06:06,  6.66s/it]"
     ]
    },
    {
     "name": "stdout",
     "output_type": "stream",
     "text": [
      "4312/4312 [==============================] - 3s 660us/step\n"
     ]
    },
    {
     "name": "stderr",
     "output_type": "stream",
     "text": [
      "\r",
      " 49%|████████████████████▍                     | 51/105 [05:45<05:52,  6.53s/it]"
     ]
    },
    {
     "name": "stdout",
     "output_type": "stream",
     "text": [
      "4312/4312 [==============================] - 3s 658us/step\n"
     ]
    },
    {
     "name": "stderr",
     "output_type": "stream",
     "text": [
      "\r",
      " 50%|████████████████████▊                     | 52/105 [05:52<05:41,  6.45s/it]"
     ]
    },
    {
     "name": "stdout",
     "output_type": "stream",
     "text": [
      "4312/4312 [==============================] - 7s 2ms/step\n"
     ]
    },
    {
     "name": "stderr",
     "output_type": "stream",
     "text": [
      "\r",
      " 50%|█████████████████████▏                    | 53/105 [06:05<07:30,  8.67s/it]"
     ]
    },
    {
     "name": "stdout",
     "output_type": "stream",
     "text": [
      "4312/4312 [==============================] - 3s 669us/step\n"
     ]
    },
    {
     "name": "stderr",
     "output_type": "stream",
     "text": [
      "\r",
      " 51%|█████████████████████▌                    | 54/105 [06:12<06:49,  8.03s/it]"
     ]
    },
    {
     "name": "stdout",
     "output_type": "stream",
     "text": [
      "4312/4312 [==============================] - 3s 660us/step\n"
     ]
    },
    {
     "name": "stderr",
     "output_type": "stream",
     "text": [
      "\r",
      " 52%|██████████████████████                    | 55/105 [06:18<06:11,  7.42s/it]"
     ]
    },
    {
     "name": "stdout",
     "output_type": "stream",
     "text": [
      "4312/4312 [==============================] - 3s 660us/step\n"
     ]
    },
    {
     "name": "stderr",
     "output_type": "stream",
     "text": [
      "\r",
      " 53%|██████████████████████▍                   | 56/105 [06:24<05:46,  7.07s/it]"
     ]
    },
    {
     "name": "stdout",
     "output_type": "stream",
     "text": [
      "4312/4312 [==============================] - 3s 670us/step\n"
     ]
    },
    {
     "name": "stderr",
     "output_type": "stream",
     "text": [
      "\r",
      " 54%|██████████████████████▊                   | 57/105 [06:31<05:38,  7.05s/it]"
     ]
    },
    {
     "name": "stdout",
     "output_type": "stream",
     "text": [
      "4312/4312 [==============================] - 3s 658us/step\n"
     ]
    },
    {
     "name": "stderr",
     "output_type": "stream",
     "text": [
      "\r",
      " 55%|███████████████████████▏                  | 58/105 [06:37<05:19,  6.79s/it]"
     ]
    },
    {
     "name": "stdout",
     "output_type": "stream",
     "text": [
      "4312/4312 [==============================] - 3s 659us/step\n"
     ]
    },
    {
     "name": "stderr",
     "output_type": "stream",
     "text": [
      "\r",
      " 56%|███████████████████████▌                  | 59/105 [06:45<05:19,  6.94s/it]"
     ]
    },
    {
     "name": "stdout",
     "output_type": "stream",
     "text": [
      "4312/4312 [==============================] - 3s 684us/step\n"
     ]
    },
    {
     "name": "stderr",
     "output_type": "stream",
     "text": [
      "\r",
      " 57%|████████████████████████                  | 60/105 [06:51<04:59,  6.65s/it]"
     ]
    },
    {
     "name": "stdout",
     "output_type": "stream",
     "text": [
      "4312/4312 [==============================] - 3s 704us/step\n"
     ]
    },
    {
     "name": "stderr",
     "output_type": "stream",
     "text": [
      "\r",
      " 58%|████████████████████████▍                 | 61/105 [06:57<04:44,  6.46s/it]"
     ]
    },
    {
     "name": "stdout",
     "output_type": "stream",
     "text": [
      "4312/4312 [==============================] - 3s 656us/step\n"
     ]
    },
    {
     "name": "stderr",
     "output_type": "stream",
     "text": [
      "\r",
      " 59%|████████████████████████▊                 | 62/105 [07:03<04:29,  6.28s/it]"
     ]
    },
    {
     "name": "stdout",
     "output_type": "stream",
     "text": [
      "4312/4312 [==============================] - 3s 652us/step\n"
     ]
    },
    {
     "name": "stderr",
     "output_type": "stream",
     "text": [
      "\r",
      " 60%|█████████████████████████▏                | 63/105 [07:08<04:18,  6.15s/it]"
     ]
    },
    {
     "name": "stdout",
     "output_type": "stream",
     "text": [
      "4312/4312 [==============================] - 3s 652us/step\n"
     ]
    },
    {
     "name": "stderr",
     "output_type": "stream",
     "text": [
      "\r",
      " 61%|█████████████████████████▌                | 64/105 [07:14<04:08,  6.07s/it]"
     ]
    },
    {
     "name": "stdout",
     "output_type": "stream",
     "text": [
      "4312/4312 [==============================] - 3s 665us/step\n"
     ]
    },
    {
     "name": "stderr",
     "output_type": "stream",
     "text": [
      "\r",
      " 62%|██████████████████████████                | 65/105 [07:20<04:00,  6.02s/it]"
     ]
    },
    {
     "name": "stdout",
     "output_type": "stream",
     "text": [
      "4312/4312 [==============================] - 3s 664us/step\n"
     ]
    },
    {
     "name": "stderr",
     "output_type": "stream",
     "text": [
      "\r",
      " 63%|██████████████████████████▍               | 66/105 [07:26<03:53,  6.00s/it]"
     ]
    },
    {
     "name": "stdout",
     "output_type": "stream",
     "text": [
      "4312/4312 [==============================] - 3s 669us/step\n"
     ]
    },
    {
     "name": "stderr",
     "output_type": "stream",
     "text": [
      "\r",
      " 64%|██████████████████████████▊               | 67/105 [07:34<04:04,  6.42s/it]"
     ]
    },
    {
     "name": "stdout",
     "output_type": "stream",
     "text": [
      "4312/4312 [==============================] - 3s 659us/step\n"
     ]
    },
    {
     "name": "stderr",
     "output_type": "stream",
     "text": [
      "\r",
      " 65%|███████████████████████████▏              | 68/105 [07:40<03:57,  6.41s/it]"
     ]
    },
    {
     "name": "stdout",
     "output_type": "stream",
     "text": [
      "4312/4312 [==============================] - 3s 658us/step\n"
     ]
    },
    {
     "name": "stderr",
     "output_type": "stream",
     "text": [
      "\r",
      " 66%|███████████████████████████▌              | 69/105 [07:46<03:47,  6.32s/it]"
     ]
    },
    {
     "name": "stdout",
     "output_type": "stream",
     "text": [
      "4312/4312 [==============================] - 3s 667us/step\n"
     ]
    },
    {
     "name": "stderr",
     "output_type": "stream",
     "text": [
      "\r",
      " 67%|████████████████████████████              | 70/105 [07:52<03:39,  6.27s/it]"
     ]
    },
    {
     "name": "stdout",
     "output_type": "stream",
     "text": [
      "4312/4312 [==============================] - 3s 695us/step\n"
     ]
    },
    {
     "name": "stderr",
     "output_type": "stream",
     "text": [
      "\r",
      " 68%|████████████████████████████▍             | 71/105 [08:00<03:50,  6.79s/it]"
     ]
    },
    {
     "name": "stdout",
     "output_type": "stream",
     "text": [
      "4312/4312 [==============================] - 3s 671us/step\n"
     ]
    },
    {
     "name": "stderr",
     "output_type": "stream",
     "text": [
      "\r",
      " 69%|████████████████████████████▊             | 72/105 [08:07<03:39,  6.64s/it]"
     ]
    },
    {
     "name": "stdout",
     "output_type": "stream",
     "text": [
      "4312/4312 [==============================] - 3s 696us/step\n"
     ]
    },
    {
     "name": "stderr",
     "output_type": "stream",
     "text": [
      "\r",
      " 70%|█████████████████████████████▏            | 73/105 [08:14<03:43,  6.99s/it]"
     ]
    },
    {
     "name": "stdout",
     "output_type": "stream",
     "text": [
      "4312/4312 [==============================] - 3s 667us/step\n"
     ]
    },
    {
     "name": "stderr",
     "output_type": "stream",
     "text": [
      "\r",
      " 70%|█████████████████████████████▌            | 74/105 [08:23<03:48,  7.38s/it]"
     ]
    },
    {
     "name": "stdout",
     "output_type": "stream",
     "text": [
      "4312/4312 [==============================] - 3s 659us/step\n"
     ]
    },
    {
     "name": "stderr",
     "output_type": "stream",
     "text": [
      "\r",
      " 71%|██████████████████████████████            | 75/105 [08:31<03:53,  7.79s/it]"
     ]
    },
    {
     "name": "stdout",
     "output_type": "stream",
     "text": [
      "4312/4312 [==============================] - 3s 656us/step\n"
     ]
    },
    {
     "name": "stderr",
     "output_type": "stream",
     "text": [
      "\r",
      " 72%|██████████████████████████████▍           | 76/105 [08:37<03:28,  7.21s/it]"
     ]
    },
    {
     "name": "stdout",
     "output_type": "stream",
     "text": [
      "4312/4312 [==============================] - 3s 659us/step\n"
     ]
    },
    {
     "name": "stderr",
     "output_type": "stream",
     "text": [
      "\r",
      " 73%|██████████████████████████████▊           | 77/105 [08:43<03:10,  6.79s/it]"
     ]
    },
    {
     "name": "stdout",
     "output_type": "stream",
     "text": [
      "4312/4312 [==============================] - 3s 652us/step\n"
     ]
    },
    {
     "name": "stderr",
     "output_type": "stream",
     "text": [
      "\r",
      " 74%|███████████████████████████████▏          | 78/105 [08:49<02:55,  6.48s/it]"
     ]
    },
    {
     "name": "stdout",
     "output_type": "stream",
     "text": [
      "4312/4312 [==============================] - 3s 658us/step\n"
     ]
    },
    {
     "name": "stderr",
     "output_type": "stream",
     "text": [
      "\r",
      " 75%|███████████████████████████████▌          | 79/105 [08:55<02:43,  6.29s/it]"
     ]
    },
    {
     "name": "stdout",
     "output_type": "stream",
     "text": [
      "4312/4312 [==============================] - 3s 654us/step\n"
     ]
    },
    {
     "name": "stderr",
     "output_type": "stream",
     "text": [
      "\r",
      " 76%|████████████████████████████████          | 80/105 [09:00<02:33,  6.13s/it]"
     ]
    },
    {
     "name": "stdout",
     "output_type": "stream",
     "text": [
      "4312/4312 [==============================] - 3s 655us/step\n"
     ]
    },
    {
     "name": "stderr",
     "output_type": "stream",
     "text": [
      "\r",
      " 77%|████████████████████████████████▍         | 81/105 [09:06<02:25,  6.04s/it]"
     ]
    },
    {
     "name": "stdout",
     "output_type": "stream",
     "text": [
      "4312/4312 [==============================] - 3s 682us/step\n"
     ]
    },
    {
     "name": "stderr",
     "output_type": "stream",
     "text": [
      "\r",
      " 78%|████████████████████████████████▊         | 82/105 [09:12<02:18,  6.01s/it]"
     ]
    },
    {
     "name": "stdout",
     "output_type": "stream",
     "text": [
      "4312/4312 [==============================] - 3s 671us/step\n"
     ]
    },
    {
     "name": "stderr",
     "output_type": "stream",
     "text": [
      "\r",
      " 79%|█████████████████████████████████▏        | 83/105 [09:18<02:14,  6.10s/it]"
     ]
    },
    {
     "name": "stdout",
     "output_type": "stream",
     "text": [
      "4312/4312 [==============================] - 3s 665us/step\n"
     ]
    },
    {
     "name": "stderr",
     "output_type": "stream",
     "text": [
      "\r",
      " 80%|█████████████████████████████████▌        | 84/105 [09:25<02:09,  6.18s/it]"
     ]
    },
    {
     "name": "stdout",
     "output_type": "stream",
     "text": [
      "4312/4312 [==============================] - 3s 658us/step\n"
     ]
    },
    {
     "name": "stderr",
     "output_type": "stream",
     "text": [
      "\r",
      " 81%|██████████████████████████████████        | 85/105 [09:31<02:04,  6.23s/it]"
     ]
    },
    {
     "name": "stdout",
     "output_type": "stream",
     "text": [
      "4312/4312 [==============================] - 3s 660us/step\n"
     ]
    },
    {
     "name": "stderr",
     "output_type": "stream",
     "text": [
      "\r",
      " 82%|██████████████████████████████████▍       | 86/105 [09:37<01:58,  6.25s/it]"
     ]
    },
    {
     "name": "stdout",
     "output_type": "stream",
     "text": [
      "4312/4312 [==============================] - 3s 672us/step\n"
     ]
    },
    {
     "name": "stderr",
     "output_type": "stream",
     "text": [
      "\r",
      " 83%|██████████████████████████████████▊       | 87/105 [09:44<01:56,  6.45s/it]"
     ]
    },
    {
     "name": "stdout",
     "output_type": "stream",
     "text": [
      "4312/4312 [==============================] - 3s 662us/step\n"
     ]
    },
    {
     "name": "stderr",
     "output_type": "stream",
     "text": [
      "\r",
      " 84%|███████████████████████████████████▏      | 88/105 [09:51<01:52,  6.59s/it]"
     ]
    },
    {
     "name": "stdout",
     "output_type": "stream",
     "text": [
      "4312/4312 [==============================] - 3s 657us/step\n"
     ]
    },
    {
     "name": "stderr",
     "output_type": "stream",
     "text": [
      "\r",
      " 85%|███████████████████████████████████▌      | 89/105 [09:58<01:44,  6.53s/it]"
     ]
    },
    {
     "name": "stdout",
     "output_type": "stream",
     "text": [
      "4312/4312 [==============================] - 3s 660us/step\n"
     ]
    },
    {
     "name": "stderr",
     "output_type": "stream",
     "text": [
      "\r",
      " 86%|████████████████████████████████████      | 90/105 [10:04<01:38,  6.55s/it]"
     ]
    },
    {
     "name": "stdout",
     "output_type": "stream",
     "text": [
      "4312/4312 [==============================] - 3s 661us/step\n"
     ]
    },
    {
     "name": "stderr",
     "output_type": "stream",
     "text": [
      "\r",
      " 87%|████████████████████████████████████▍     | 91/105 [10:11<01:31,  6.53s/it]"
     ]
    },
    {
     "name": "stdout",
     "output_type": "stream",
     "text": [
      "4312/4312 [==============================] - 3s 660us/step\n"
     ]
    },
    {
     "name": "stderr",
     "output_type": "stream",
     "text": [
      "\r",
      " 88%|████████████████████████████████████▊     | 92/105 [10:17<01:23,  6.43s/it]"
     ]
    },
    {
     "name": "stdout",
     "output_type": "stream",
     "text": [
      "4312/4312 [==============================] - 4s 927us/step\n"
     ]
    },
    {
     "name": "stderr",
     "output_type": "stream",
     "text": [
      "\r",
      " 89%|█████████████████████████████████████▏    | 93/105 [10:25<01:21,  6.78s/it]"
     ]
    },
    {
     "name": "stdout",
     "output_type": "stream",
     "text": [
      "4312/4312 [==============================] - 3s 675us/step\n"
     ]
    },
    {
     "name": "stderr",
     "output_type": "stream",
     "text": [
      "\r",
      " 90%|█████████████████████████████████████▌    | 94/105 [10:30<01:11,  6.52s/it]"
     ]
    },
    {
     "name": "stdout",
     "output_type": "stream",
     "text": [
      "4312/4312 [==============================] - 3s 666us/step\n"
     ]
    },
    {
     "name": "stderr",
     "output_type": "stream",
     "text": [
      "\r",
      " 90%|██████████████████████████████████████    | 95/105 [10:36<01:03,  6.33s/it]"
     ]
    },
    {
     "name": "stdout",
     "output_type": "stream",
     "text": [
      "4312/4312 [==============================] - 3s 665us/step\n"
     ]
    },
    {
     "name": "stderr",
     "output_type": "stream",
     "text": [
      "\r",
      " 91%|██████████████████████████████████████▍   | 96/105 [10:42<00:55,  6.19s/it]"
     ]
    },
    {
     "name": "stdout",
     "output_type": "stream",
     "text": [
      "4312/4312 [==============================] - 3s 656us/step\n"
     ]
    },
    {
     "name": "stderr",
     "output_type": "stream",
     "text": [
      "\r",
      " 92%|██████████████████████████████████████▊   | 97/105 [10:48<00:48,  6.07s/it]"
     ]
    },
    {
     "name": "stdout",
     "output_type": "stream",
     "text": [
      "4312/4312 [==============================] - 3s 660us/step\n"
     ]
    },
    {
     "name": "stderr",
     "output_type": "stream",
     "text": [
      "\r",
      " 93%|███████████████████████████████████████▏  | 98/105 [10:54<00:42,  6.01s/it]"
     ]
    },
    {
     "name": "stdout",
     "output_type": "stream",
     "text": [
      "4312/4312 [==============================] - 3s 654us/step\n"
     ]
    },
    {
     "name": "stderr",
     "output_type": "stream",
     "text": [
      "\r",
      " 94%|███████████████████████████████████████▌  | 99/105 [11:00<00:35,  5.96s/it]"
     ]
    },
    {
     "name": "stdout",
     "output_type": "stream",
     "text": [
      "4312/4312 [==============================] - 3s 667us/step\n"
     ]
    },
    {
     "name": "stderr",
     "output_type": "stream",
     "text": [
      "\r",
      " 95%|███████████████████████████████████████  | 100/105 [11:06<00:29,  5.96s/it]"
     ]
    },
    {
     "name": "stdout",
     "output_type": "stream",
     "text": [
      "4312/4312 [==============================] - 3s 665us/step\n"
     ]
    },
    {
     "name": "stderr",
     "output_type": "stream",
     "text": [
      "\r",
      " 96%|███████████████████████████████████████▍ | 101/105 [11:12<00:24,  6.06s/it]"
     ]
    },
    {
     "name": "stdout",
     "output_type": "stream",
     "text": [
      "4312/4312 [==============================] - 3s 657us/step\n"
     ]
    },
    {
     "name": "stderr",
     "output_type": "stream",
     "text": [
      "\r",
      " 97%|███████████████████████████████████████▊ | 102/105 [11:18<00:18,  6.14s/it]"
     ]
    },
    {
     "name": "stdout",
     "output_type": "stream",
     "text": [
      "4312/4312 [==============================] - 3s 654us/step\n"
     ]
    },
    {
     "name": "stderr",
     "output_type": "stream",
     "text": [
      "\r",
      " 98%|████████████████████████████████████████▏| 103/105 [11:25<00:12,  6.18s/it]"
     ]
    },
    {
     "name": "stdout",
     "output_type": "stream",
     "text": [
      "4312/4312 [==============================] - 3s 657us/step\n"
     ]
    },
    {
     "name": "stderr",
     "output_type": "stream",
     "text": [
      "\r",
      " 99%|████████████████████████████████████████▌| 104/105 [11:31<00:06,  6.18s/it]"
     ]
    },
    {
     "name": "stdout",
     "output_type": "stream",
     "text": [
      "4312/4312 [==============================] - 3s 660us/step\n"
     ]
    },
    {
     "name": "stderr",
     "output_type": "stream",
     "text": [
      "100%|█████████████████████████████████████████| 105/105 [11:37<00:00,  6.65s/it]\n"
     ]
    }
   ],
   "source": [
    "feature_importance = {}\n",
    "for column_name in tqdm(X_train.columns):\n",
    "    X_tmp = X_test.copy()\n",
    "    X_tmp[column_name] = 0\n",
    "    y_pred_temp = best_model.predict(X_tmp, batch_size=256).reshape(-1,1)\n",
    "    feature_importance[column_name] = best_r_squared - r_squared(y_pred_temp, y_test)[0]\n"
   ]
  },
  {
   "cell_type": "code",
   "execution_count": 16,
   "metadata": {
    "id": "4Qd44pW9SLeU"
   },
   "outputs": [
    {
     "data": {
      "text/plain": [
       "array(['dfr', 'ntis', 'crsp_spvw', 'svar', 'tbl', 'b/m', 'tms', 'dfy',\n",
       "       'ep_y', 'dp'], dtype=object)"
      ]
     },
     "execution_count": 16,
     "metadata": {},
     "output_type": "execute_result"
    }
   ],
   "source": [
    "importance_df = pd.DataFrame.from_dict(feature_importance, orient='index', columns=['magnitude'])\n",
    "# Retrieve 10 most significant\n",
    "df_10 = importance_df.sort_values('magnitude').iloc[(len(importance_df['magnitude']) - 10):,]\n",
    "# Display most significant features\n",
    "df_10.index.values"
   ]
  },
  {
   "cell_type": "code",
   "execution_count": 17,
   "metadata": {
    "id": "Lh8WKrOaSNBN"
   },
   "outputs": [
    {
     "data": {
      "image/png": "[encoded data removed]",
      "text/plain": [
       "<Figure size 1440x360 with 1 Axes>"
      ]
     },
     "metadata": {
      "needs_background": "light"
     },
     "output_type": "display_data"
    }
   ],
   "source": [
    "# Display chart\n",
    "plt.figure(figsize=(20,5))\n",
    "plt.barh(np.arange(len(df_10)),df_10.magnitude.values)\n",
    "plt.yticks(np.arange(len(df_10)),df_10.index.values)\n",
    "plt.title('Feature Importance',size=16)\n",
    "plt.show()"
   ]
  },
  {
   "cell_type": "markdown",
   "metadata": {
    "id": "Sc-gagOLc0gV"
   },
   "source": [
    "b.\tSecond, get a measure of the joint importance of all our “macro predictors” (i.e., those taken from Welch and Goyal 2008), by setting them all to zero and finding the decrease in out of sample R2. Comment on how important macroeconomic variables are relative to stock characteristics in predicting returns. "
   ]
  },
  {
   "cell_type": "code",
   "execution_count": 73,
   "metadata": {},
   "outputs": [
    {
     "name": "stderr",
     "output_type": "stream",
     "text": [
      "\r",
      "  0%|                                                    | 0/11 [00:00<?, ?it/s]"
     ]
    },
    {
     "name": "stdout",
     "output_type": "stream",
     "text": [
      "4312/4312 [==============================] - 3s 677us/step\n"
     ]
    },
    {
     "name": "stderr",
     "output_type": "stream",
     "text": [
      "\r",
      "  9%|████                                        | 1/11 [00:06<01:05,  6.55s/it]"
     ]
    },
    {
     "name": "stdout",
     "output_type": "stream",
     "text": [
      "4312/4312 [==============================] - 3s 661us/step\n"
     ]
    },
    {
     "name": "stderr",
     "output_type": "stream",
     "text": [
      "\r",
      " 18%|████████                                    | 2/11 [00:13<00:59,  6.56s/it]"
     ]
    },
    {
     "name": "stdout",
     "output_type": "stream",
     "text": [
      "4312/4312 [==============================] - 3s 666us/step\n"
     ]
    },
    {
     "name": "stderr",
     "output_type": "stream",
     "text": [
      "\r",
      " 27%|████████████                                | 3/11 [00:19<00:51,  6.46s/it]"
     ]
    },
    {
     "name": "stdout",
     "output_type": "stream",
     "text": [
      "4312/4312 [==============================] - 4s 831us/step\n"
     ]
    },
    {
     "name": "stderr",
     "output_type": "stream",
     "text": [
      "\r",
      " 36%|████████████████                            | 4/11 [00:29<00:54,  7.84s/it]"
     ]
    },
    {
     "name": "stdout",
     "output_type": "stream",
     "text": [
      "4312/4312 [==============================] - 3s 690us/step\n"
     ]
    },
    {
     "name": "stderr",
     "output_type": "stream",
     "text": [
      "\r",
      " 45%|████████████████████                        | 5/11 [00:36<00:45,  7.54s/it]"
     ]
    },
    {
     "name": "stdout",
     "output_type": "stream",
     "text": [
      "4312/4312 [==============================] - 3s 703us/step\n"
     ]
    },
    {
     "name": "stderr",
     "output_type": "stream",
     "text": [
      "\r",
      " 55%|████████████████████████                    | 6/11 [00:42<00:35,  7.12s/it]"
     ]
    },
    {
     "name": "stdout",
     "output_type": "stream",
     "text": [
      "4312/4312 [==============================] - 3s 679us/step\n"
     ]
    },
    {
     "name": "stderr",
     "output_type": "stream",
     "text": [
      "\r",
      " 64%|████████████████████████████                | 7/11 [00:48<00:26,  6.73s/it]"
     ]
    },
    {
     "name": "stdout",
     "output_type": "stream",
     "text": [
      "4312/4312 [==============================] - 3s 699us/step\n"
     ]
    },
    {
     "name": "stderr",
     "output_type": "stream",
     "text": [
      "\r",
      " 73%|████████████████████████████████            | 8/11 [00:54<00:19,  6.56s/it]"
     ]
    },
    {
     "name": "stdout",
     "output_type": "stream",
     "text": [
      "4312/4312 [==============================] - 3s 667us/step\n"
     ]
    },
    {
     "name": "stderr",
     "output_type": "stream",
     "text": [
      "\r",
      " 82%|████████████████████████████████████        | 9/11 [01:00<00:12,  6.39s/it]"
     ]
    },
    {
     "name": "stdout",
     "output_type": "stream",
     "text": [
      "4312/4312 [==============================] - 3s 675us/step\n"
     ]
    },
    {
     "name": "stderr",
     "output_type": "stream",
     "text": [
      "\r",
      " 91%|███████████████████████████████████████    | 10/11 [01:07<00:06,  6.32s/it]"
     ]
    },
    {
     "name": "stdout",
     "output_type": "stream",
     "text": [
      "4312/4312 [==============================] - 3s 662us/step\n"
     ]
    },
    {
     "name": "stderr",
     "output_type": "stream",
     "text": [
      "100%|███████████████████████████████████████████| 11/11 [01:13<00:00,  6.69s/it]\n"
     ]
    }
   ],
   "source": [
    "feature_importance = {}\n",
    "for column_name in tqdm(X_train.columns[-11:]):\n",
    "    X_tmp = X_test.copy()\n",
    "    X_tmp[column_name] = 0\n",
    "    y_pred_temp = best_model.predict(X_tmp, batch_size=256).reshape(-1,1)\n",
    "    feature_importance[column_name] = best_r_squared - r_squared(y_pred_temp, y_test)[0]"
   ]
  },
  {
   "cell_type": "code",
   "execution_count": 74,
   "metadata": {},
   "outputs": [],
   "source": [
    "importance_df = pd.DataFrame.from_dict(feature_importance, orient='index', columns=['magnitude'])\n",
    "importance_df = importance_df.sort_values(by=['magnitude'])"
   ]
  },
  {
   "cell_type": "code",
   "execution_count": 75,
   "metadata": {},
   "outputs": [
    {
     "data": {
      "image/png": "[encoded data removed]",
      "text/plain": [
       "<Figure size 1440x360 with 1 Axes>"
      ]
     },
     "metadata": {
      "needs_background": "light"
     },
     "output_type": "display_data"
    }
   ],
   "source": [
    "# Display chart\n",
    "plt.figure(figsize=(20,5))\n",
    "plt.barh(np.arange(len(importance_df)),importance_df.magnitude.values)\n",
    "plt.yticks(np.arange(len(importance_df)),importance_df.index.values)\n",
    "plt.title('Feature Importance',size=16)\n",
    "plt.show()"
   ]
  },
  {
   "cell_type": "markdown",
   "metadata": {
    "id": "AX8kVzNQc0gV"
   },
   "source": [
    "c.\tRepeat the two steps above, but by using a measure of the sensitivity of predictions to each input variable, as outlined in the lectures."
   ]
  },
  {
   "cell_type": "code",
   "execution_count": 78,
   "metadata": {},
   "outputs": [
    {
     "name": "stdout",
     "output_type": "stream",
     "text": [
      "Computing feature importance...\n"
     ]
    },
    {
     "name": "stderr",
     "output_type": "stream",
     "text": [
      "\r",
      "  0%|                                                    | 0/10 [00:00<?, ?it/s]"
     ]
    },
    {
     "name": "stdout",
     "output_type": "stream",
     "text": [
      "4312/4312 [==============================] - 3s 633us/step\n"
     ]
    },
    {
     "name": "stderr",
     "output_type": "stream",
     "text": [
      "\r",
      " 10%|████▍                                       | 1/10 [01:05<09:47, 65.26s/it]"
     ]
    },
    {
     "name": "stdout",
     "output_type": "stream",
     "text": [
      "4312/4312 [==============================] - 3s 618us/step\n"
     ]
    },
    {
     "name": "stderr",
     "output_type": "stream",
     "text": [
      "\r",
      " 20%|████████▊                                   | 2/10 [02:09<08:38, 64.87s/it]"
     ]
    },
    {
     "name": "stdout",
     "output_type": "stream",
     "text": [
      "4312/4312 [==============================] - 3s 620us/step\n"
     ]
    },
    {
     "name": "stderr",
     "output_type": "stream",
     "text": [
      "\r",
      " 30%|█████████████▏                              | 3/10 [03:14<07:34, 64.93s/it]"
     ]
    },
    {
     "name": "stdout",
     "output_type": "stream",
     "text": [
      "4312/4312 [==============================] - 3s 617us/step\n"
     ]
    },
    {
     "name": "stderr",
     "output_type": "stream",
     "text": [
      "\r",
      " 40%|█████████████████▌                          | 4/10 [04:19<06:28, 64.74s/it]"
     ]
    },
    {
     "name": "stdout",
     "output_type": "stream",
     "text": [
      "4312/4312 [==============================] - 3s 753us/step\n"
     ]
    },
    {
     "name": "stderr",
     "output_type": "stream",
     "text": [
      "\r",
      " 50%|██████████████████████                      | 5/10 [05:44<06:00, 72.07s/it]"
     ]
    },
    {
     "name": "stdout",
     "output_type": "stream",
     "text": [
      "4312/4312 [==============================] - 3s 622us/step\n"
     ]
    },
    {
     "name": "stderr",
     "output_type": "stream",
     "text": [
      "\r",
      " 60%|██████████████████████████▍                 | 6/10 [06:54<04:45, 71.29s/it]"
     ]
    },
    {
     "name": "stdout",
     "output_type": "stream",
     "text": [
      "4312/4312 [==============================] - 3s 624us/step\n"
     ]
    },
    {
     "name": "stderr",
     "output_type": "stream",
     "text": [
      "\r",
      " 70%|██████████████████████████████▊             | 7/10 [08:05<03:33, 71.29s/it]"
     ]
    },
    {
     "name": "stdout",
     "output_type": "stream",
     "text": [
      "4312/4312 [==============================] - 4s 937us/step\n"
     ]
    },
    {
     "name": "stderr",
     "output_type": "stream",
     "text": [
      "\r",
      " 80%|███████████████████████████████████▏        | 8/10 [09:23<02:26, 73.38s/it]"
     ]
    },
    {
     "name": "stdout",
     "output_type": "stream",
     "text": [
      "4312/4312 [==============================] - 3s 727us/step\n"
     ]
    },
    {
     "name": "stderr",
     "output_type": "stream",
     "text": [
      "\r",
      " 90%|███████████████████████████████████████▌    | 9/10 [10:39<01:14, 74.24s/it]"
     ]
    },
    {
     "name": "stdout",
     "output_type": "stream",
     "text": [
      "4312/4312 [==============================] - 3s 630us/step\n"
     ]
    },
    {
     "name": "stderr",
     "output_type": "stream",
     "text": [
      "100%|███████████████████████████████████████████| 10/10 [11:48<00:00, 70.83s/it]\n"
     ]
    }
   ],
   "source": [
    "results = []\n",
    "print('Computing feature importance...')\n",
    "for feature in tqdm(df_10.index.values):\n",
    "    tmp = X_test.loc[:,feature].copy()\n",
    "    median = X_test.median()\n",
    "    X_temp = pd.DataFrame(index=X_test.index,columns=X_test.columns)\n",
    "    X_temp.fillna(median,inplace=True)\n",
    "    X_temp.loc[:,feature] = tmp\n",
    "    y_preds = best_model.predict(X_temp.values,batch_size=256).reshape(-1,1) \n",
    "    results.append({'feature':tmp.values.reshape(1,-1)[0],'pred_return':y_preds.reshape(1,-1)[0]})  "
   ]
  },
  {
   "cell_type": "code",
   "execution_count": 107,
   "metadata": {},
   "outputs": [
    {
     "data": {
      "image/png": "[encoded data removed]",
      "text/plain": [
       "<Figure size 720x360 with 1 Axes>"
      ]
     },
     "metadata": {
      "needs_background": "light"
     },
     "output_type": "display_data"
    },
    {
     "data": {
      "image/png": "[encoded data removed]",
      "text/plain": [
       "<Figure size 720x360 with 1 Axes>"
      ]
     },
     "metadata": {
      "needs_background": "light"
     },
     "output_type": "display_data"
    },
    {
     "data": {
      "image/png": "[encoded data removed]",
      "text/plain": [
       "<Figure size 720x360 with 1 Axes>"
      ]
     },
     "metadata": {
      "needs_background": "light"
     },
     "output_type": "display_data"
    },
    {
     "data": {
      "image/png": "[encoded data removed]",
      "text/plain": [
       "<Figure size 720x360 with 1 Axes>"
      ]
     },
     "metadata": {
      "needs_background": "light"
     },
     "output_type": "display_data"
    },
    {
     "data": {
      "image/png": "[encoded data removed]",
      "text/plain": [
       "<Figure size 720x360 with 1 Axes>"
      ]
     },
     "metadata": {
      "needs_background": "light"
     },
     "output_type": "display_data"
    },
    {
     "data": {
      "image/png": "[encoded data removed]",
      "text/plain": [
       "<Figure size 720x360 with 1 Axes>"
      ]
     },
     "metadata": {
      "needs_background": "light"
     },
     "output_type": "display_data"
    },
    {
     "data": {
      "image/png": "[encoded data removed]",
      "text/plain": [
       "<Figure size 720x360 with 1 Axes>"
      ]
     },
     "metadata": {
      "needs_background": "light"
     },
     "output_type": "display_data"
    },
    {
     "data": {
      "image/png": "[encoded data removed]",
      "text/plain": [
       "<Figure size 720x360 with 1 Axes>"
      ]
     },
     "metadata": {
      "needs_background": "light"
     },
     "output_type": "display_data"
    },
    {
     "data": {
      "image/png": "[encoded data removed]",
      "text/plain": [
       "<Figure size 720x360 with 1 Axes>"
      ]
     },
     "metadata": {
      "needs_background": "light"
     },
     "output_type": "display_data"
    },
    {
     "data": {
      "image/png": "[encoded data removed]",
      "text/plain": [
       "<Figure size 720x360 with 1 Axes>"
      ]
     },
     "metadata": {
      "needs_background": "light"
     },
     "output_type": "display_data"
    }
   ],
   "source": [
    "features = df_10.index.values\n",
    "for i in range(len(results)):\n",
    "    result = results[i]\n",
    "    tmp_df = pd.DataFrame(result,index = np.arange(len(result['feature'])))\n",
    "    tmp_df.sort_values(by=['feature'],inplace=True)\n",
    "    plt.figure(figsize=(10,5))\n",
    "    plt.title(f'{features[i]} Feature Importance',size=16)\n",
    "    plt.plot(tmp_df.feature,tmp_df.pred_return)\n",
    "    plt.show()"
   ]
  },
  {
   "cell_type": "markdown",
   "metadata": {
    "id": "bfTmKAXRc0gV"
   },
   "source": [
    "4.Fit a penalised linear model (LASSO) to the same data, using validation data to pick the best penalty (e.g., you can use the “sklearn” package in Python to do this easily). Compare its test data performance to the neural network. "
   ]
  },
  {
   "cell_type": "code",
   "execution_count": 8,
   "metadata": {
    "id": "yOkXRm3Oc0gW"
   },
   "outputs": [],
   "source": [
    "import seaborn as sns\n",
    "from sklearn.metrics import r2_score, get_scorer\n",
    "from sklearn.linear_model import Lasso, LassoCV\n",
    "from sklearn.model_selection import KFold, RepeatedKFold, GridSearchCV, cross_validate, train_test_split"
   ]
  },
  {
   "cell_type": "code",
   "execution_count": 9,
   "metadata": {},
   "outputs": [],
   "source": [
    "#because lasso need too much memory, we have to reduce the size of train data\n",
    "X_cv_reduced, x_tmp, y_cv_reduced, y_tmp = train_test_split(X,y,test_size=0.7,shuffle=True)"
   ]
  },
  {
   "cell_type": "code",
   "execution_count": 10,
   "metadata": {},
   "outputs": [
    {
     "name": "stdout",
     "output_type": "stream",
     "text": [
      "Fitting 15 folds for each of 4 candidates, totalling 60 fits\n",
      "[CV 1/15; 1/4] START alpha=0.1..................................................\n",
      "[CV 1/15; 1/4] END ..................alpha=0.1;, score=-0.031 total time=   4.5s\n",
      "[CV 2/15; 1/4] START alpha=0.1..................................................\n",
      "[CV 2/15; 1/4] END ..................alpha=0.1;, score=-0.031 total time=   3.8s\n",
      "[CV 3/15; 1/4] START alpha=0.1..................................................\n",
      "[CV 3/15; 1/4] END ..................alpha=0.1;, score=-0.029 total time=   3.4s\n",
      "[CV 4/15; 1/4] START alpha=0.1..................................................\n",
      "[CV 4/15; 1/4] END ..................alpha=0.1;, score=-0.030 total time=   3.2s\n",
      "[CV 5/15; 1/4] START alpha=0.1..................................................\n",
      "[CV 5/15; 1/4] END ..................alpha=0.1;, score=-0.030 total time=   3.2s\n",
      "[CV 6/15; 1/4] START alpha=0.1..................................................\n",
      "[CV 6/15; 1/4] END ..................alpha=0.1;, score=-0.031 total time=   3.2s\n",
      "[CV 7/15; 1/4] START alpha=0.1..................................................\n",
      "[CV 7/15; 1/4] END ..................alpha=0.1;, score=-0.031 total time=   3.2s\n",
      "[CV 8/15; 1/4] START alpha=0.1..................................................\n",
      "[CV 8/15; 1/4] END ..................alpha=0.1;, score=-0.030 total time=   3.3s\n",
      "[CV 9/15; 1/4] START alpha=0.1..................................................\n",
      "[CV 9/15; 1/4] END ..................alpha=0.1;, score=-0.028 total time=   3.2s\n",
      "[CV 10/15; 1/4] START alpha=0.1.................................................\n",
      "[CV 10/15; 1/4] END .................alpha=0.1;, score=-0.031 total time=   3.2s\n",
      "[CV 11/15; 1/4] START alpha=0.1.................................................\n",
      "[CV 11/15; 1/4] END .................alpha=0.1;, score=-0.029 total time=   3.3s\n",
      "[CV 12/15; 1/4] START alpha=0.1.................................................\n",
      "[CV 12/15; 1/4] END .................alpha=0.1;, score=-0.031 total time=   3.3s\n",
      "[CV 13/15; 1/4] START alpha=0.1.................................................\n",
      "[CV 13/15; 1/4] END .................alpha=0.1;, score=-0.031 total time=   3.1s\n",
      "[CV 14/15; 1/4] START alpha=0.1.................................................\n",
      "[CV 14/15; 1/4] END .................alpha=0.1;, score=-0.029 total time=   3.2s\n",
      "[CV 15/15; 1/4] START alpha=0.1.................................................\n",
      "[CV 15/15; 1/4] END .................alpha=0.1;, score=-0.030 total time=   3.2s\n",
      "[CV 1/15; 2/4] START alpha=0.7333333333333333...................................\n",
      "[CV 1/15; 2/4] END ...alpha=0.7333333333333333;, score=-0.031 total time=   3.1s\n",
      "[CV 2/15; 2/4] START alpha=0.7333333333333333...................................\n",
      "[CV 2/15; 2/4] END ...alpha=0.7333333333333333;, score=-0.031 total time=   3.1s\n",
      "[CV 3/15; 2/4] START alpha=0.7333333333333333...................................\n",
      "[CV 3/15; 2/4] END ...alpha=0.7333333333333333;, score=-0.029 total time=   3.2s\n",
      "[CV 4/15; 2/4] START alpha=0.7333333333333333...................................\n",
      "[CV 4/15; 2/4] END ...alpha=0.7333333333333333;, score=-0.030 total time=   3.3s\n",
      "[CV 5/15; 2/4] START alpha=0.7333333333333333...................................\n",
      "[CV 5/15; 2/4] END ...alpha=0.7333333333333333;, score=-0.030 total time=   3.3s\n",
      "[CV 6/15; 2/4] START alpha=0.7333333333333333...................................\n",
      "[CV 6/15; 2/4] END ...alpha=0.7333333333333333;, score=-0.031 total time=   3.8s\n",
      "[CV 7/15; 2/4] START alpha=0.7333333333333333...................................\n",
      "[CV 7/15; 2/4] END ...alpha=0.7333333333333333;, score=-0.031 total time=   3.4s\n",
      "[CV 8/15; 2/4] START alpha=0.7333333333333333...................................\n",
      "[CV 8/15; 2/4] END ...alpha=0.7333333333333333;, score=-0.030 total time=   3.6s\n",
      "[CV 9/15; 2/4] START alpha=0.7333333333333333...................................\n",
      "[CV 9/15; 2/4] END ...alpha=0.7333333333333333;, score=-0.028 total time=   4.5s\n",
      "[CV 10/15; 2/4] START alpha=0.7333333333333333..................................\n",
      "[CV 10/15; 2/4] END ..alpha=0.7333333333333333;, score=-0.031 total time=   3.3s\n",
      "[CV 11/15; 2/4] START alpha=0.7333333333333333..................................\n",
      "[CV 11/15; 2/4] END ..alpha=0.7333333333333333;, score=-0.029 total time=   3.4s\n",
      "[CV 12/15; 2/4] START alpha=0.7333333333333333..................................\n",
      "[CV 12/15; 2/4] END ..alpha=0.7333333333333333;, score=-0.031 total time=   5.9s\n",
      "[CV 13/15; 2/4] START alpha=0.7333333333333333..................................\n",
      "[CV 13/15; 2/4] END ..alpha=0.7333333333333333;, score=-0.031 total time=   3.2s\n",
      "[CV 14/15; 2/4] START alpha=0.7333333333333333..................................\n",
      "[CV 14/15; 2/4] END ..alpha=0.7333333333333333;, score=-0.029 total time=   3.3s\n",
      "[CV 15/15; 2/4] START alpha=0.7333333333333333..................................\n",
      "[CV 15/15; 2/4] END ..alpha=0.7333333333333333;, score=-0.030 total time=   3.2s\n",
      "[CV 1/15; 3/4] START alpha=1.3666666666666667...................................\n",
      "[CV 1/15; 3/4] END ...alpha=1.3666666666666667;, score=-0.031 total time=   3.2s\n",
      "[CV 2/15; 3/4] START alpha=1.3666666666666667...................................\n",
      "[CV 2/15; 3/4] END ...alpha=1.3666666666666667;, score=-0.031 total time=   3.4s\n",
      "[CV 3/15; 3/4] START alpha=1.3666666666666667...................................\n",
      "[CV 3/15; 3/4] END ...alpha=1.3666666666666667;, score=-0.029 total time=   3.5s\n",
      "[CV 4/15; 3/4] START alpha=1.3666666666666667...................................\n",
      "[CV 4/15; 3/4] END ...alpha=1.3666666666666667;, score=-0.030 total time=   3.3s\n",
      "[CV 5/15; 3/4] START alpha=1.3666666666666667...................................\n",
      "[CV 5/15; 3/4] END ...alpha=1.3666666666666667;, score=-0.030 total time=   3.3s\n",
      "[CV 6/15; 3/4] START alpha=1.3666666666666667...................................\n",
      "[CV 6/15; 3/4] END ...alpha=1.3666666666666667;, score=-0.031 total time=   3.4s\n",
      "[CV 7/15; 3/4] START alpha=1.3666666666666667...................................\n",
      "[CV 7/15; 3/4] END ...alpha=1.3666666666666667;, score=-0.031 total time=   3.5s\n",
      "[CV 8/15; 3/4] START alpha=1.3666666666666667...................................\n",
      "[CV 8/15; 3/4] END ...alpha=1.3666666666666667;, score=-0.030 total time=   3.4s\n",
      "[CV 9/15; 3/4] START alpha=1.3666666666666667...................................\n",
      "[CV 9/15; 3/4] END ...alpha=1.3666666666666667;, score=-0.028 total time=   3.3s\n",
      "[CV 10/15; 3/4] START alpha=1.3666666666666667..................................\n",
      "[CV 10/15; 3/4] END ..alpha=1.3666666666666667;, score=-0.031 total time=   3.3s\n",
      "[CV 11/15; 3/4] START alpha=1.3666666666666667..................................\n",
      "[CV 11/15; 3/4] END ..alpha=1.3666666666666667;, score=-0.029 total time=   3.5s\n",
      "[CV 12/15; 3/4] START alpha=1.3666666666666667..................................\n",
      "[CV 12/15; 3/4] END ..alpha=1.3666666666666667;, score=-0.031 total time=   3.6s\n",
      "[CV 13/15; 3/4] START alpha=1.3666666666666667..................................\n",
      "[CV 13/15; 3/4] END ..alpha=1.3666666666666667;, score=-0.031 total time=   3.4s\n",
      "[CV 14/15; 3/4] START alpha=1.3666666666666667..................................\n",
      "[CV 14/15; 3/4] END ..alpha=1.3666666666666667;, score=-0.029 total time=   3.3s\n",
      "[CV 15/15; 3/4] START alpha=1.3666666666666667..................................\n",
      "[CV 15/15; 3/4] END ..alpha=1.3666666666666667;, score=-0.030 total time=   3.5s\n",
      "[CV 1/15; 4/4] START alpha=2.0..................................................\n",
      "[CV 1/15; 4/4] END ..................alpha=2.0;, score=-0.031 total time=   3.5s\n",
      "[CV 2/15; 4/4] START alpha=2.0..................................................\n",
      "[CV 2/15; 4/4] END ..................alpha=2.0;, score=-0.031 total time=   3.4s\n",
      "[CV 3/15; 4/4] START alpha=2.0..................................................\n",
      "[CV 3/15; 4/4] END ..................alpha=2.0;, score=-0.029 total time=   3.5s\n",
      "[CV 4/15; 4/4] START alpha=2.0..................................................\n",
      "[CV 4/15; 4/4] END ..................alpha=2.0;, score=-0.030 total time=   3.4s\n",
      "[CV 5/15; 4/4] START alpha=2.0..................................................\n",
      "[CV 5/15; 4/4] END ..................alpha=2.0;, score=-0.030 total time=   3.4s\n",
      "[CV 6/15; 4/4] START alpha=2.0..................................................\n"
     ]
    },
    {
     "name": "stdout",
     "output_type": "stream",
     "text": [
      "[CV 6/15; 4/4] END ..................alpha=2.0;, score=-0.031 total time=   3.4s\n",
      "[CV 7/15; 4/4] START alpha=2.0..................................................\n",
      "[CV 7/15; 4/4] END ..................alpha=2.0;, score=-0.031 total time=   3.4s\n",
      "[CV 8/15; 4/4] START alpha=2.0..................................................\n",
      "[CV 8/15; 4/4] END ..................alpha=2.0;, score=-0.030 total time=   3.3s\n",
      "[CV 9/15; 4/4] START alpha=2.0..................................................\n",
      "[CV 9/15; 4/4] END ..................alpha=2.0;, score=-0.028 total time=   3.4s\n",
      "[CV 10/15; 4/4] START alpha=2.0.................................................\n",
      "[CV 10/15; 4/4] END .................alpha=2.0;, score=-0.031 total time=   3.4s\n",
      "[CV 11/15; 4/4] START alpha=2.0.................................................\n",
      "[CV 11/15; 4/4] END .................alpha=2.0;, score=-0.029 total time=   3.4s\n",
      "[CV 12/15; 4/4] START alpha=2.0.................................................\n",
      "[CV 12/15; 4/4] END .................alpha=2.0;, score=-0.031 total time=   3.3s\n",
      "[CV 13/15; 4/4] START alpha=2.0.................................................\n",
      "[CV 13/15; 4/4] END .................alpha=2.0;, score=-0.031 total time=   3.7s\n",
      "[CV 14/15; 4/4] START alpha=2.0.................................................\n",
      "[CV 14/15; 4/4] END .................alpha=2.0;, score=-0.029 total time=   3.3s\n",
      "[CV 15/15; 4/4] START alpha=2.0.................................................\n",
      "[CV 15/15; 4/4] END .................alpha=2.0;, score=-0.030 total time=   3.3s\n",
      "MSE: -0.03014\n",
      "Config: {'alpha': 0.1}\n"
     ]
    }
   ],
   "source": [
    "cv = RepeatedKFold(n_splits=5, n_repeats=3, random_state=1)\n",
    "lasso = Lasso()\n",
    "grid = {'alpha': np.linspace(0.1,2,4)}\n",
    "\n",
    "gscv = GridSearchCV(lasso, grid, scoring='neg_mean_squared_error',cv=cv, verbose=10)\n",
    "results = gscv.fit(X_cv_reduced.values, y_cv_reduced.values)\n",
    "print('MSE: %.5f' % results.best_score_)\n",
    "print('Config: %s' % results.best_params_)"
   ]
  },
  {
   "cell_type": "code",
   "execution_count": 35,
   "metadata": {},
   "outputs": [],
   "source": [
    "best_model = gscv.best_estimator_\n",
    "y_pred = best_model.predict(X_test.values).reshape(-1,1)\n",
    "y_pred_top = best_model.predict(top_X_test).reshape(-1,1)\n",
    "y_pred_low = best_model.predict(bottom_X_test).reshape(-1,1)\n",
    "R2_oos_LASSO = pd.DataFrame(columns = ['R2_OOS','R2_OOS_top1000','R2_OOS_low1000'],index = ['LASSO'])\n",
    "R2_oos_LASSO.iloc[0,0] = r_squared(y_pred,y_test.values)\n",
    "R2_oos_LASSO.iloc[0,1] = r_squared(y_pred_top,top_y_test)\n",
    "R2_oos_LASSO.iloc[0,2] = r_squared(y_pred_bottom,bottom_y_test)"
   ]
  },
  {
   "cell_type": "code",
   "execution_count": 36,
   "metadata": {},
   "outputs": [
    {
     "data": {
      "text/html": [
       "<div>\n",
       "<style scoped>\n",
       "    .dataframe tbody tr th:only-of-type {\n",
       "        vertical-align: middle;\n",
       "    }\n",
       "\n",
       "    .dataframe tbody tr th {\n",
       "        vertical-align: top;\n",
       "    }\n",
       "\n",
       "    .dataframe thead th {\n",
       "        text-align: right;\n",
       "    }\n",
       "</style>\n",
       "<table border=\"1\" class=\"dataframe\">\n",
       "  <thead>\n",
       "    <tr style=\"text-align: right;\">\n",
       "      <th></th>\n",
       "      <th>R2_OOS</th>\n",
       "      <th>R2_OOS_top1000</th>\n",
       "      <th>R2_OOS_low1000</th>\n",
       "    </tr>\n",
       "  </thead>\n",
       "  <tbody>\n",
       "    <tr>\n",
       "      <th>LASSO</th>\n",
       "      <td>0.262816</td>\n",
       "      <td>0.240347</td>\n",
       "      <td>26.439365</td>\n",
       "    </tr>\n",
       "  </tbody>\n",
       "</table>\n",
       "</div>"
      ],
      "text/plain": [
       "         R2_OOS R2_OOS_top1000 R2_OOS_low1000\n",
       "LASSO  0.262816       0.240347      26.439365"
      ]
     },
     "execution_count": 36,
     "metadata": {},
     "output_type": "execute_result"
    }
   ],
   "source": [
    "R2_oos_LASSO*100"
   ]
  },
  {
   "cell_type": "markdown",
   "metadata": {
    "id": "OqsoN75nc0gW"
   },
   "source": [
    "5.Suppose somebody tells you to collect 10 more micro or macro variables that can predict returns and are not in our current dataset. How would you choose those variables, based on the intuitions you have gained in this project?"
   ]
  },
  {
   "cell_type": "code",
   "execution_count": null,
   "metadata": {
    "id": "ni5ZNgXY1uGA"
   },
   "outputs": [],
   "source": []
  },
  {
   "cell_type": "code",
   "execution_count": null,
   "metadata": {
    "id": "jXNJN_hNc0gW"
   },
   "outputs": [],
   "source": []
  }
 ],
 "metadata": {
  "accelerator": "TPU",
  "colab": {
   "background_execution": "on",
   "collapsed_sections": [],
   "history_visible": true,
   "include_colab_link": true,
   "machine_shape": "hm",
   "name": "bd_2.ipynb",
   "provenance": []
  },
  "kernelspec": {
   "display_name": "Python 3 (ipykernel)",
   "language": "python",
   "name": "python3"
  },
  "language_info": {
   "codemirror_mode": {
    "name": "ipython",
    "version": 3
   },
   "file_extension": ".py",
   "mimetype": "text/x-python",
   "name": "python",
   "nbconvert_exporter": "python",
   "pygments_lexer": "ipython3",
   "version": "3.9.12"
  },
  "varInspector": {
   "cols": {
    "lenName": 16,
    "lenType": 16,
    "lenVar": 40
   },
   "kernels_config": {
    "python": {
     "delete_cmd_postfix": "",
     "delete_cmd_prefix": "del ",
     "library": "var_list.py",
     "varRefreshCmd": "print(var_dic_list())"
    },
    "r": {
     "delete_cmd_postfix": ") ",
     "delete_cmd_prefix": "rm(",
     "library": "var_list.r",
     "varRefreshCmd": "cat(var_dic_list()) "
    }
   },
   "oldHeight": 123,
   "position": {
    "height": "377px",
    "left": "553px",
    "right": "20px",
    "top": "104px",
    "width": "602px"
   },
   "types_to_exclude": [
    "module",
    "function",
    "builtin_function_or_method",
    "instance",
    "_Feature"
   ],
   "varInspector_section_display": "block",
   "window_display": false
  }
 },
 "nbformat": 4,
 "nbformat_minor": 1
}
