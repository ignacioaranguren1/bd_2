{
 "cells": [
  {
   "cell_type": "markdown",
   "metadata": {
    "colab_type": "text",
    "id": "view-in-github"
   },
   "source": [
    "<a href=\"https://colab.research.google.com/github/ignacioaranguren1/bd_2/blob/main/bd_2.ipynb\" target=\"_parent\"><img src=\"https://colab.research.google.com/assets/colab-badge.svg\" alt=\"Open In Colab\"/></a>"
   ]
  },
  {
   "cell_type": "code",
   "execution_count": 1,
   "metadata": {
    "id": "dtScW94T_IUq"
   },
   "outputs": [],
   "source": [
    "import pandas as pd\n",
    "import numpy as np\n",
    "import matplotlib.pyplot as plt\n",
    "import pickle\n",
    "import os\n",
    "import keras_tuner\n",
    "import datetime as dt\n",
    "\n",
    "from tqdm import tqdm\n",
    "from datetime import datetime\n",
    "from tensorflow import keras\n",
    "from tensorflow.keras import layers\n",
    "from tensorflow.keras.utils import to_categorical\n",
    "from tensorflow.keras.models import Sequential\n",
    "from keras_tuner.tuners import RandomSearch\n",
    "from tensorflow.keras.layers import BatchNormalization"
   ]
  },
  {
   "cell_type": "code",
   "execution_count": 2,
   "metadata": {
    "id": "TOwQ1uv2-gsD"
   },
   "outputs": [],
   "source": [
    "%matplotlib inline\n",
    "\n",
    "datapath = r'/Users/ignacioaranguren/bd_2'\n",
    "os.chdir(datapath)"
   ]
  },
  {
   "cell_type": "markdown",
   "metadata": {
    "id": "mUSZgH01c0gK"
   },
   "source": [
    "## 1.In the data used by Gu, Kelly and Xiu (RFS 2019 – provided in class), use a similar procedure to theirs to predict stock returns with neural networks. Start by finding a suitable baseline configuration, and use a validation procedure to pick optimal hyperparameters for three neural network models: One with 2 hidden layers, one with 3 hidden layers, and one with 4 hidden layers."
   ]
  },
  {
   "cell_type": "code",
   "execution_count": 3,
   "metadata": {
    "id": "JN8g2yI6c0gN"
   },
   "outputs": [],
   "source": [
    "# Data loading\n",
    "data = pd.read_pickle('data/returns_chars_panel.pkl')\n",
    "macro = pd.read_pickle('data/macro_timeseries.pkl')"
   ]
  },
  {
   "cell_type": "code",
   "execution_count": 4,
   "metadata": {
    "id": "uUS00_JCrz2m"
   },
   "outputs": [],
   "source": [
    "# Train validation split\n",
    "def train_validation_test_split(data, train_end_index, validation_end_index):\n",
    "    tmp = data.reset_index()\n",
    "    train = tmp.iloc[:train_end_index].set_index(['date','permno'],drop=True)\n",
    "    validation = tmp[train_end_index:validation_end_index].set_index(['date','permno'],drop=True)\n",
    "    test = tmp[validation_end_index:].set_index(['date','permno'],drop=True)\n",
    "    return train, validation, test"
   ]
  },
  {
   "cell_type": "code",
   "execution_count": 5,
   "metadata": {
    "id": "2ZXV1zHXnrbV"
   },
   "outputs": [],
   "source": [
    "# Merge data and macro dataframe on date\n",
    "data_merged = pd.merge(data,macro,on=['date'])\n",
    "# Set muti-indexing on date a permno\n",
    "data_merged.set_index(['date','permno'],drop=True,inplace=True)\n",
    "# Sort values by date\n",
    "data_merged = data_merged.sort_values(['date'])"
   ]
  },
  {
   "cell_type": "code",
   "execution_count": 28,
   "metadata": {
    "id": "QKYOGMqDoGqO"
   },
   "outputs": [],
   "source": [
    "# Define test, validation and train splits\n",
    "train_ratio = 0.65\n",
    "validation_ratio = 0.15\n",
    "train_index = int(len(data_merged) * train_ratio)\n",
    "validation_index = int(len(data_merged) * (train_ratio + validation_ratio))\n",
    "# Get predictors\n",
    "X = data_merged.iloc[:,3:].copy()\n",
    "# Get reponse variable\n",
    "y = data_merged['excess_ret'].copy()"
   ]
  },
  {
   "cell_type": "code",
   "execution_count": 7,
   "metadata": {
    "id": "JiHQP_Xmrv9s"
   },
   "outputs": [],
   "source": [
    "# Create train, validation and test sets for X and y\n",
    "X_train,X_validation,X_test = train_validation_test_split(X,train_index,validation_index)\n",
    "y_train,y_validation,y_test = train_validation_test_split(y,train_index,validation_index)"
   ]
  },
  {
   "cell_type": "code",
   "execution_count": 12,
   "metadata": {},
   "outputs": [
    {
     "data": {
      "text/html": [
       "<div>\n",
       "<style scoped>\n",
       "    .dataframe tbody tr th:only-of-type {\n",
       "        vertical-align: middle;\n",
       "    }\n",
       "\n",
       "    .dataframe tbody tr th {\n",
       "        vertical-align: top;\n",
       "    }\n",
       "\n",
       "    .dataframe thead th {\n",
       "        text-align: right;\n",
       "    }\n",
       "</style>\n",
       "<table border=\"1\" class=\"dataframe\">\n",
       "  <thead>\n",
       "    <tr style=\"text-align: right;\">\n",
       "      <th></th>\n",
       "      <th></th>\n",
       "      <th>mvel1</th>\n",
       "      <th>beta</th>\n",
       "      <th>betasq</th>\n",
       "      <th>chmom</th>\n",
       "      <th>dolvol</th>\n",
       "      <th>idiovol</th>\n",
       "      <th>indmom</th>\n",
       "      <th>mom1m</th>\n",
       "      <th>mom6m</th>\n",
       "      <th>mom12m</th>\n",
       "      <th>...</th>\n",
       "      <th>ep_y</th>\n",
       "      <th>b/m</th>\n",
       "      <th>crsp_spvw</th>\n",
       "      <th>svar</th>\n",
       "      <th>tbl</th>\n",
       "      <th>tms</th>\n",
       "      <th>dfy</th>\n",
       "      <th>dfr</th>\n",
       "      <th>ntis</th>\n",
       "      <th>infl</th>\n",
       "    </tr>\n",
       "    <tr>\n",
       "      <th>date</th>\n",
       "      <th>permno</th>\n",
       "      <th></th>\n",
       "      <th></th>\n",
       "      <th></th>\n",
       "      <th></th>\n",
       "      <th></th>\n",
       "      <th></th>\n",
       "      <th></th>\n",
       "      <th></th>\n",
       "      <th></th>\n",
       "      <th></th>\n",
       "      <th></th>\n",
       "      <th></th>\n",
       "      <th></th>\n",
       "      <th></th>\n",
       "      <th></th>\n",
       "      <th></th>\n",
       "      <th></th>\n",
       "      <th></th>\n",
       "      <th></th>\n",
       "      <th></th>\n",
       "      <th></th>\n",
       "    </tr>\n",
       "  </thead>\n",
       "  <tbody>\n",
       "    <tr>\n",
       "      <th rowspan=\"5\" valign=\"top\">1957-03-01</th>\n",
       "      <th>10006</th>\n",
       "      <td>0.315043</td>\n",
       "      <td>0.200000</td>\n",
       "      <td>0.200000</td>\n",
       "      <td>0.800774</td>\n",
       "      <td>0.724596</td>\n",
       "      <td>-0.361165</td>\n",
       "      <td>-0.021739</td>\n",
       "      <td>0.468691</td>\n",
       "      <td>0.604207</td>\n",
       "      <td>-0.009671</td>\n",
       "      <td>...</td>\n",
       "      <td>-2.542474</td>\n",
       "      <td>0.584994</td>\n",
       "      <td>-0.024919</td>\n",
       "      <td>0.001056</td>\n",
       "      <td>0.0310</td>\n",
       "      <td>0.0018</td>\n",
       "      <td>0.0080</td>\n",
       "      <td>0.0068</td>\n",
       "      <td>0.030173</td>\n",
       "      <td>0.003623</td>\n",
       "    </tr>\n",
       "    <tr>\n",
       "      <th>21813</th>\n",
       "      <td>-0.123936</td>\n",
       "      <td>-0.054369</td>\n",
       "      <td>-0.054369</td>\n",
       "      <td>0.895551</td>\n",
       "      <td>0.407407</td>\n",
       "      <td>0.473786</td>\n",
       "      <td>-0.021739</td>\n",
       "      <td>-0.675522</td>\n",
       "      <td>-0.629063</td>\n",
       "      <td>-0.988395</td>\n",
       "      <td>...</td>\n",
       "      <td>-2.542474</td>\n",
       "      <td>0.584994</td>\n",
       "      <td>-0.024919</td>\n",
       "      <td>0.001056</td>\n",
       "      <td>0.0310</td>\n",
       "      <td>0.0018</td>\n",
       "      <td>0.0080</td>\n",
       "      <td>0.0068</td>\n",
       "      <td>0.030173</td>\n",
       "      <td>0.003623</td>\n",
       "    </tr>\n",
       "    <tr>\n",
       "      <th>21821</th>\n",
       "      <td>0.776727</td>\n",
       "      <td>-0.363107</td>\n",
       "      <td>-0.363107</td>\n",
       "      <td>0.388781</td>\n",
       "      <td>0.641026</td>\n",
       "      <td>-0.504854</td>\n",
       "      <td>-0.021739</td>\n",
       "      <td>0.865275</td>\n",
       "      <td>0.472275</td>\n",
       "      <td>0.466151</td>\n",
       "      <td>...</td>\n",
       "      <td>-2.542474</td>\n",
       "      <td>0.584994</td>\n",
       "      <td>-0.024919</td>\n",
       "      <td>0.001056</td>\n",
       "      <td>0.0310</td>\n",
       "      <td>0.0018</td>\n",
       "      <td>0.0080</td>\n",
       "      <td>0.0068</td>\n",
       "      <td>0.030173</td>\n",
       "      <td>0.003623</td>\n",
       "    </tr>\n",
       "    <tr>\n",
       "      <th>21856</th>\n",
       "      <td>0.820246</td>\n",
       "      <td>0.066019</td>\n",
       "      <td>0.066019</td>\n",
       "      <td>-0.794971</td>\n",
       "      <td>0.646724</td>\n",
       "      <td>-0.415534</td>\n",
       "      <td>-0.021739</td>\n",
       "      <td>-0.495256</td>\n",
       "      <td>-0.586998</td>\n",
       "      <td>0.266925</td>\n",
       "      <td>...</td>\n",
       "      <td>-2.542474</td>\n",
       "      <td>0.584994</td>\n",
       "      <td>-0.024919</td>\n",
       "      <td>0.001056</td>\n",
       "      <td>0.0310</td>\n",
       "      <td>0.0018</td>\n",
       "      <td>0.0080</td>\n",
       "      <td>0.0068</td>\n",
       "      <td>0.030173</td>\n",
       "      <td>0.003623</td>\n",
       "    </tr>\n",
       "    <tr>\n",
       "      <th>21864</th>\n",
       "      <td>-0.214759</td>\n",
       "      <td>0.654369</td>\n",
       "      <td>0.654369</td>\n",
       "      <td>0.713733</td>\n",
       "      <td>-0.312441</td>\n",
       "      <td>0.679612</td>\n",
       "      <td>-0.021739</td>\n",
       "      <td>-0.609108</td>\n",
       "      <td>-0.086042</td>\n",
       "      <td>-0.800774</td>\n",
       "      <td>...</td>\n",
       "      <td>-2.542474</td>\n",
       "      <td>0.584994</td>\n",
       "      <td>-0.024919</td>\n",
       "      <td>0.001056</td>\n",
       "      <td>0.0310</td>\n",
       "      <td>0.0018</td>\n",
       "      <td>0.0080</td>\n",
       "      <td>0.0068</td>\n",
       "      <td>0.030173</td>\n",
       "      <td>0.003623</td>\n",
       "    </tr>\n",
       "    <tr>\n",
       "      <th>...</th>\n",
       "      <th>...</th>\n",
       "      <td>...</td>\n",
       "      <td>...</td>\n",
       "      <td>...</td>\n",
       "      <td>...</td>\n",
       "      <td>...</td>\n",
       "      <td>...</td>\n",
       "      <td>...</td>\n",
       "      <td>...</td>\n",
       "      <td>...</td>\n",
       "      <td>...</td>\n",
       "      <td>...</td>\n",
       "      <td>...</td>\n",
       "      <td>...</td>\n",
       "      <td>...</td>\n",
       "      <td>...</td>\n",
       "      <td>...</td>\n",
       "      <td>...</td>\n",
       "      <td>...</td>\n",
       "      <td>...</td>\n",
       "      <td>...</td>\n",
       "      <td>...</td>\n",
       "    </tr>\n",
       "    <tr>\n",
       "      <th rowspan=\"5\" valign=\"top\">1999-12-01</th>\n",
       "      <th>81850</th>\n",
       "      <td>-0.372404</td>\n",
       "      <td>0.507135</td>\n",
       "      <td>0.506871</td>\n",
       "      <td>-0.241730</td>\n",
       "      <td>-0.562492</td>\n",
       "      <td>0.530127</td>\n",
       "      <td>0.686396</td>\n",
       "      <td>0.946734</td>\n",
       "      <td>-0.620345</td>\n",
       "      <td>0.262047</td>\n",
       "      <td>...</td>\n",
       "      <td>-3.391104</td>\n",
       "      <td>0.155546</td>\n",
       "      <td>0.020822</td>\n",
       "      <td>0.001354</td>\n",
       "      <td>0.0507</td>\n",
       "      <td>0.0155</td>\n",
       "      <td>0.0079</td>\n",
       "      <td>0.0037</td>\n",
       "      <td>0.018280</td>\n",
       "      <td>0.000595</td>\n",
       "    </tr>\n",
       "    <tr>\n",
       "      <th>81728</th>\n",
       "      <td>-0.753402</td>\n",
       "      <td>-0.762156</td>\n",
       "      <td>-0.767442</td>\n",
       "      <td>-0.619693</td>\n",
       "      <td>-0.234544</td>\n",
       "      <td>0.976744</td>\n",
       "      <td>-0.461814</td>\n",
       "      <td>-0.837551</td>\n",
       "      <td>-0.499000</td>\n",
       "      <td>-0.320135</td>\n",
       "      <td>...</td>\n",
       "      <td>-3.391104</td>\n",
       "      <td>0.155546</td>\n",
       "      <td>0.020822</td>\n",
       "      <td>0.001354</td>\n",
       "      <td>0.0507</td>\n",
       "      <td>0.0155</td>\n",
       "      <td>0.0079</td>\n",
       "      <td>0.0037</td>\n",
       "      <td>0.018280</td>\n",
       "      <td>0.000595</td>\n",
       "    </tr>\n",
       "    <tr>\n",
       "      <th>81916</th>\n",
       "      <td>-0.066126</td>\n",
       "      <td>-0.170983</td>\n",
       "      <td>-0.171247</td>\n",
       "      <td>0.448033</td>\n",
       "      <td>-0.575367</td>\n",
       "      <td>-0.616543</td>\n",
       "      <td>-0.225060</td>\n",
       "      <td>-0.439383</td>\n",
       "      <td>0.206698</td>\n",
       "      <td>-0.403751</td>\n",
       "      <td>...</td>\n",
       "      <td>-3.391104</td>\n",
       "      <td>0.155546</td>\n",
       "      <td>0.020822</td>\n",
       "      <td>0.001354</td>\n",
       "      <td>0.0507</td>\n",
       "      <td>0.0155</td>\n",
       "      <td>0.0079</td>\n",
       "      <td>0.0037</td>\n",
       "      <td>0.018280</td>\n",
       "      <td>0.000595</td>\n",
       "    </tr>\n",
       "    <tr>\n",
       "      <th>81727</th>\n",
       "      <td>-0.925519</td>\n",
       "      <td>0.712209</td>\n",
       "      <td>0.712209</td>\n",
       "      <td>-0.273509</td>\n",
       "      <td>-0.987611</td>\n",
       "      <td>0.471195</td>\n",
       "      <td>0.783413</td>\n",
       "      <td>0.788985</td>\n",
       "      <td>0.387153</td>\n",
       "      <td>0.751237</td>\n",
       "      <td>...</td>\n",
       "      <td>-3.391104</td>\n",
       "      <td>0.155546</td>\n",
       "      <td>0.020822</td>\n",
       "      <td>0.001354</td>\n",
       "      <td>0.0507</td>\n",
       "      <td>0.0155</td>\n",
       "      <td>0.0079</td>\n",
       "      <td>0.0037</td>\n",
       "      <td>0.018280</td>\n",
       "      <td>0.000595</td>\n",
       "    </tr>\n",
       "    <tr>\n",
       "      <th>81725</th>\n",
       "      <td>-0.181428</td>\n",
       "      <td>0.470666</td>\n",
       "      <td>0.470402</td>\n",
       "      <td>-0.674134</td>\n",
       "      <td>0.118912</td>\n",
       "      <td>0.838795</td>\n",
       "      <td>0.686396</td>\n",
       "      <td>0.734153</td>\n",
       "      <td>-0.289178</td>\n",
       "      <td>0.589476</td>\n",
       "      <td>...</td>\n",
       "      <td>-3.391104</td>\n",
       "      <td>0.155546</td>\n",
       "      <td>0.020822</td>\n",
       "      <td>0.001354</td>\n",
       "      <td>0.0507</td>\n",
       "      <td>0.0155</td>\n",
       "      <td>0.0079</td>\n",
       "      <td>0.0037</td>\n",
       "      <td>0.018280</td>\n",
       "      <td>0.000595</td>\n",
       "    </tr>\n",
       "  </tbody>\n",
       "</table>\n",
       "<p>2430641 rows × 105 columns</p>\n",
       "</div>"
      ],
      "text/plain": [
       "                      mvel1      beta    betasq     chmom    dolvol   idiovol  \\\n",
       "date       permno                                                               \n",
       "1957-03-01 10006   0.315043  0.200000  0.200000  0.800774  0.724596 -0.361165   \n",
       "           21813  -0.123936 -0.054369 -0.054369  0.895551  0.407407  0.473786   \n",
       "           21821   0.776727 -0.363107 -0.363107  0.388781  0.641026 -0.504854   \n",
       "           21856   0.820246  0.066019  0.066019 -0.794971  0.646724 -0.415534   \n",
       "           21864  -0.214759  0.654369  0.654369  0.713733 -0.312441  0.679612   \n",
       "...                     ...       ...       ...       ...       ...       ...   \n",
       "1999-12-01 81850  -0.372404  0.507135  0.506871 -0.241730 -0.562492  0.530127   \n",
       "           81728  -0.753402 -0.762156 -0.767442 -0.619693 -0.234544  0.976744   \n",
       "           81916  -0.066126 -0.170983 -0.171247  0.448033 -0.575367 -0.616543   \n",
       "           81727  -0.925519  0.712209  0.712209 -0.273509 -0.987611  0.471195   \n",
       "           81725  -0.181428  0.470666  0.470402 -0.674134  0.118912  0.838795   \n",
       "\n",
       "                     indmom     mom1m     mom6m    mom12m  ...      ep_y  \\\n",
       "date       permno                                          ...             \n",
       "1957-03-01 10006  -0.021739  0.468691  0.604207 -0.009671  ... -2.542474   \n",
       "           21813  -0.021739 -0.675522 -0.629063 -0.988395  ... -2.542474   \n",
       "           21821  -0.021739  0.865275  0.472275  0.466151  ... -2.542474   \n",
       "           21856  -0.021739 -0.495256 -0.586998  0.266925  ... -2.542474   \n",
       "           21864  -0.021739 -0.609108 -0.086042 -0.800774  ... -2.542474   \n",
       "...                     ...       ...       ...       ...  ...       ...   \n",
       "1999-12-01 81850   0.686396  0.946734 -0.620345  0.262047  ... -3.391104   \n",
       "           81728  -0.461814 -0.837551 -0.499000 -0.320135  ... -3.391104   \n",
       "           81916  -0.225060 -0.439383  0.206698 -0.403751  ... -3.391104   \n",
       "           81727   0.783413  0.788985  0.387153  0.751237  ... -3.391104   \n",
       "           81725   0.686396  0.734153 -0.289178  0.589476  ... -3.391104   \n",
       "\n",
       "                        b/m  crsp_spvw      svar     tbl     tms     dfy  \\\n",
       "date       permno                                                          \n",
       "1957-03-01 10006   0.584994  -0.024919  0.001056  0.0310  0.0018  0.0080   \n",
       "           21813   0.584994  -0.024919  0.001056  0.0310  0.0018  0.0080   \n",
       "           21821   0.584994  -0.024919  0.001056  0.0310  0.0018  0.0080   \n",
       "           21856   0.584994  -0.024919  0.001056  0.0310  0.0018  0.0080   \n",
       "           21864   0.584994  -0.024919  0.001056  0.0310  0.0018  0.0080   \n",
       "...                     ...        ...       ...     ...     ...     ...   \n",
       "1999-12-01 81850   0.155546   0.020822  0.001354  0.0507  0.0155  0.0079   \n",
       "           81728   0.155546   0.020822  0.001354  0.0507  0.0155  0.0079   \n",
       "           81916   0.155546   0.020822  0.001354  0.0507  0.0155  0.0079   \n",
       "           81727   0.155546   0.020822  0.001354  0.0507  0.0155  0.0079   \n",
       "           81725   0.155546   0.020822  0.001354  0.0507  0.0155  0.0079   \n",
       "\n",
       "                      dfr      ntis      infl  \n",
       "date       permno                              \n",
       "1957-03-01 10006   0.0068  0.030173  0.003623  \n",
       "           21813   0.0068  0.030173  0.003623  \n",
       "           21821   0.0068  0.030173  0.003623  \n",
       "           21856   0.0068  0.030173  0.003623  \n",
       "           21864   0.0068  0.030173  0.003623  \n",
       "...                   ...       ...       ...  \n",
       "1999-12-01 81850   0.0037  0.018280  0.000595  \n",
       "           81728   0.0037  0.018280  0.000595  \n",
       "           81916   0.0037  0.018280  0.000595  \n",
       "           81727   0.0037  0.018280  0.000595  \n",
       "           81725   0.0037  0.018280  0.000595  \n",
       "\n",
       "[2430641 rows x 105 columns]"
      ]
     },
     "execution_count": 12,
     "metadata": {},
     "output_type": "execute_result"
    }
   ],
   "source": [
    "X_train"
   ]
  },
  {
   "cell_type": "code",
   "execution_count": 13,
   "metadata": {},
   "outputs": [
    {
     "data": {
      "text/html": [
       "<div>\n",
       "<style scoped>\n",
       "    .dataframe tbody tr th:only-of-type {\n",
       "        vertical-align: middle;\n",
       "    }\n",
       "\n",
       "    .dataframe tbody tr th {\n",
       "        vertical-align: top;\n",
       "    }\n",
       "\n",
       "    .dataframe thead th {\n",
       "        text-align: right;\n",
       "    }\n",
       "</style>\n",
       "<table border=\"1\" class=\"dataframe\">\n",
       "  <thead>\n",
       "    <tr style=\"text-align: right;\">\n",
       "      <th></th>\n",
       "      <th></th>\n",
       "      <th>mvel1</th>\n",
       "      <th>beta</th>\n",
       "      <th>betasq</th>\n",
       "      <th>chmom</th>\n",
       "      <th>dolvol</th>\n",
       "      <th>idiovol</th>\n",
       "      <th>indmom</th>\n",
       "      <th>mom1m</th>\n",
       "      <th>mom6m</th>\n",
       "      <th>mom12m</th>\n",
       "      <th>...</th>\n",
       "      <th>ep_y</th>\n",
       "      <th>b/m</th>\n",
       "      <th>crsp_spvw</th>\n",
       "      <th>svar</th>\n",
       "      <th>tbl</th>\n",
       "      <th>tms</th>\n",
       "      <th>dfy</th>\n",
       "      <th>dfr</th>\n",
       "      <th>ntis</th>\n",
       "      <th>infl</th>\n",
       "    </tr>\n",
       "    <tr>\n",
       "      <th>date</th>\n",
       "      <th>permno</th>\n",
       "      <th></th>\n",
       "      <th></th>\n",
       "      <th></th>\n",
       "      <th></th>\n",
       "      <th></th>\n",
       "      <th></th>\n",
       "      <th></th>\n",
       "      <th></th>\n",
       "      <th></th>\n",
       "      <th></th>\n",
       "      <th></th>\n",
       "      <th></th>\n",
       "      <th></th>\n",
       "      <th></th>\n",
       "      <th></th>\n",
       "      <th></th>\n",
       "      <th></th>\n",
       "      <th></th>\n",
       "      <th></th>\n",
       "      <th></th>\n",
       "      <th></th>\n",
       "    </tr>\n",
       "  </thead>\n",
       "  <tbody>\n",
       "    <tr>\n",
       "      <th rowspan=\"5\" valign=\"top\">1999-12-01</th>\n",
       "      <th>81669</th>\n",
       "      <td>0.464789</td>\n",
       "      <td>-0.285148</td>\n",
       "      <td>-0.285677</td>\n",
       "      <td>0.200573</td>\n",
       "      <td>0.407992</td>\n",
       "      <td>-0.455867</td>\n",
       "      <td>0.798449</td>\n",
       "      <td>0.357677</td>\n",
       "      <td>0.139715</td>\n",
       "      <td>0.165929</td>\n",
       "      <td>...</td>\n",
       "      <td>-3.391104</td>\n",
       "      <td>0.155546</td>\n",
       "      <td>0.020822</td>\n",
       "      <td>0.001354</td>\n",
       "      <td>0.0507</td>\n",
       "      <td>0.0155</td>\n",
       "      <td>0.0079</td>\n",
       "      <td>0.0037</td>\n",
       "      <td>0.018280</td>\n",
       "      <td>0.000595</td>\n",
       "    </tr>\n",
       "    <tr>\n",
       "      <th>81666</th>\n",
       "      <td>-0.156839</td>\n",
       "      <td>-0.337474</td>\n",
       "      <td>-0.338002</td>\n",
       "      <td>-0.063819</td>\n",
       "      <td>-0.506863</td>\n",
       "      <td>-0.039641</td>\n",
       "      <td>-0.841050</td>\n",
       "      <td>-0.320921</td>\n",
       "      <td>-0.419520</td>\n",
       "      <td>-0.541808</td>\n",
       "      <td>...</td>\n",
       "      <td>-3.391104</td>\n",
       "      <td>0.155546</td>\n",
       "      <td>0.020822</td>\n",
       "      <td>0.001354</td>\n",
       "      <td>0.0507</td>\n",
       "      <td>0.0155</td>\n",
       "      <td>0.0079</td>\n",
       "      <td>0.0037</td>\n",
       "      <td>0.018280</td>\n",
       "      <td>0.000595</td>\n",
       "    </tr>\n",
       "    <tr>\n",
       "      <th>81665</th>\n",
       "      <td>0.339938</td>\n",
       "      <td>0.663055</td>\n",
       "      <td>0.662791</td>\n",
       "      <td>0.210992</td>\n",
       "      <td>0.104336</td>\n",
       "      <td>0.337209</td>\n",
       "      <td>-0.871718</td>\n",
       "      <td>0.580863</td>\n",
       "      <td>-0.797551</td>\n",
       "      <td>-0.873405</td>\n",
       "      <td>...</td>\n",
       "      <td>-3.391104</td>\n",
       "      <td>0.155546</td>\n",
       "      <td>0.020822</td>\n",
       "      <td>0.001354</td>\n",
       "      <td>0.0507</td>\n",
       "      <td>0.0155</td>\n",
       "      <td>0.0079</td>\n",
       "      <td>0.0037</td>\n",
       "      <td>0.018280</td>\n",
       "      <td>0.000595</td>\n",
       "    </tr>\n",
       "    <tr>\n",
       "      <th>81661</th>\n",
       "      <td>0.699451</td>\n",
       "      <td>0.194239</td>\n",
       "      <td>0.193975</td>\n",
       "      <td>-0.385778</td>\n",
       "      <td>0.660634</td>\n",
       "      <td>-0.556818</td>\n",
       "      <td>-0.140931</td>\n",
       "      <td>-0.552543</td>\n",
       "      <td>-0.343914</td>\n",
       "      <td>-0.262568</td>\n",
       "      <td>...</td>\n",
       "      <td>-3.391104</td>\n",
       "      <td>0.155546</td>\n",
       "      <td>0.020822</td>\n",
       "      <td>0.001354</td>\n",
       "      <td>0.0507</td>\n",
       "      <td>0.0155</td>\n",
       "      <td>0.0079</td>\n",
       "      <td>0.0037</td>\n",
       "      <td>0.018280</td>\n",
       "      <td>0.000595</td>\n",
       "    </tr>\n",
       "    <tr>\n",
       "      <th>81660</th>\n",
       "      <td>0.600859</td>\n",
       "      <td>-0.171512</td>\n",
       "      <td>-0.171776</td>\n",
       "      <td>-0.570201</td>\n",
       "      <td>0.514636</td>\n",
       "      <td>-0.719609</td>\n",
       "      <td>-0.185680</td>\n",
       "      <td>0.359364</td>\n",
       "      <td>-0.588353</td>\n",
       "      <td>-0.258401</td>\n",
       "      <td>...</td>\n",
       "      <td>-3.391104</td>\n",
       "      <td>0.155546</td>\n",
       "      <td>0.020822</td>\n",
       "      <td>0.001354</td>\n",
       "      <td>0.0507</td>\n",
       "      <td>0.0155</td>\n",
       "      <td>0.0079</td>\n",
       "      <td>0.0037</td>\n",
       "      <td>0.018280</td>\n",
       "      <td>0.000595</td>\n",
       "    </tr>\n",
       "    <tr>\n",
       "      <th>...</th>\n",
       "      <th>...</th>\n",
       "      <td>...</td>\n",
       "      <td>...</td>\n",
       "      <td>...</td>\n",
       "      <td>...</td>\n",
       "      <td>...</td>\n",
       "      <td>...</td>\n",
       "      <td>...</td>\n",
       "      <td>...</td>\n",
       "      <td>...</td>\n",
       "      <td>...</td>\n",
       "      <td>...</td>\n",
       "      <td>...</td>\n",
       "      <td>...</td>\n",
       "      <td>...</td>\n",
       "      <td>...</td>\n",
       "      <td>...</td>\n",
       "      <td>...</td>\n",
       "      <td>...</td>\n",
       "      <td>...</td>\n",
       "      <td>...</td>\n",
       "      <td>...</td>\n",
       "    </tr>\n",
       "    <tr>\n",
       "      <th rowspan=\"5\" valign=\"top\">2006-06-01</th>\n",
       "      <th>90944</th>\n",
       "      <td>-0.326892</td>\n",
       "      <td>0.000000</td>\n",
       "      <td>0.000000</td>\n",
       "      <td>0.000000</td>\n",
       "      <td>-0.373798</td>\n",
       "      <td>0.000000</td>\n",
       "      <td>0.228631</td>\n",
       "      <td>0.510106</td>\n",
       "      <td>0.242938</td>\n",
       "      <td>0.000000</td>\n",
       "      <td>...</td>\n",
       "      <td>-2.844356</td>\n",
       "      <td>0.314340</td>\n",
       "      <td>-0.028319</td>\n",
       "      <td>0.001355</td>\n",
       "      <td>0.0472</td>\n",
       "      <td>0.0063</td>\n",
       "      <td>0.0080</td>\n",
       "      <td>-0.0030</td>\n",
       "      <td>-0.002657</td>\n",
       "      <td>0.004963</td>\n",
       "    </tr>\n",
       "    <tr>\n",
       "      <th>90943</th>\n",
       "      <td>0.050394</td>\n",
       "      <td>0.000000</td>\n",
       "      <td>0.000000</td>\n",
       "      <td>0.000000</td>\n",
       "      <td>-0.170974</td>\n",
       "      <td>0.000000</td>\n",
       "      <td>-0.523264</td>\n",
       "      <td>0.763737</td>\n",
       "      <td>-0.315926</td>\n",
       "      <td>0.000000</td>\n",
       "      <td>...</td>\n",
       "      <td>-2.844356</td>\n",
       "      <td>0.314340</td>\n",
       "      <td>-0.028319</td>\n",
       "      <td>0.001355</td>\n",
       "      <td>0.0472</td>\n",
       "      <td>0.0063</td>\n",
       "      <td>0.0080</td>\n",
       "      <td>-0.0030</td>\n",
       "      <td>-0.002657</td>\n",
       "      <td>0.004963</td>\n",
       "    </tr>\n",
       "    <tr>\n",
       "      <th>90942</th>\n",
       "      <td>-0.940835</td>\n",
       "      <td>0.000000</td>\n",
       "      <td>0.000000</td>\n",
       "      <td>0.000000</td>\n",
       "      <td>-0.981070</td>\n",
       "      <td>0.000000</td>\n",
       "      <td>0.228631</td>\n",
       "      <td>0.682587</td>\n",
       "      <td>-0.951138</td>\n",
       "      <td>0.000000</td>\n",
       "      <td>...</td>\n",
       "      <td>-2.844356</td>\n",
       "      <td>0.314340</td>\n",
       "      <td>-0.028319</td>\n",
       "      <td>0.001355</td>\n",
       "      <td>0.0472</td>\n",
       "      <td>0.0063</td>\n",
       "      <td>0.0080</td>\n",
       "      <td>-0.0030</td>\n",
       "      <td>-0.002657</td>\n",
       "      <td>0.004963</td>\n",
       "    </tr>\n",
       "    <tr>\n",
       "      <th>90952</th>\n",
       "      <td>0.571875</td>\n",
       "      <td>0.000000</td>\n",
       "      <td>0.000000</td>\n",
       "      <td>0.000000</td>\n",
       "      <td>0.262019</td>\n",
       "      <td>0.000000</td>\n",
       "      <td>0.228631</td>\n",
       "      <td>0.187902</td>\n",
       "      <td>0.617652</td>\n",
       "      <td>0.000000</td>\n",
       "      <td>...</td>\n",
       "      <td>-2.844356</td>\n",
       "      <td>0.314340</td>\n",
       "      <td>-0.028319</td>\n",
       "      <td>0.001355</td>\n",
       "      <td>0.0472</td>\n",
       "      <td>0.0063</td>\n",
       "      <td>0.0080</td>\n",
       "      <td>-0.0030</td>\n",
       "      <td>-0.002657</td>\n",
       "      <td>0.004963</td>\n",
       "    </tr>\n",
       "    <tr>\n",
       "      <th>90966</th>\n",
       "      <td>0.188643</td>\n",
       "      <td>0.000000</td>\n",
       "      <td>0.000000</td>\n",
       "      <td>0.000000</td>\n",
       "      <td>0.209435</td>\n",
       "      <td>0.000000</td>\n",
       "      <td>0.228631</td>\n",
       "      <td>0.530469</td>\n",
       "      <td>0.912353</td>\n",
       "      <td>0.000000</td>\n",
       "      <td>...</td>\n",
       "      <td>-2.844356</td>\n",
       "      <td>0.314340</td>\n",
       "      <td>-0.028319</td>\n",
       "      <td>0.001355</td>\n",
       "      <td>0.0472</td>\n",
       "      <td>0.0063</td>\n",
       "      <td>0.0080</td>\n",
       "      <td>-0.0030</td>\n",
       "      <td>-0.002657</td>\n",
       "      <td>0.004963</td>\n",
       "    </tr>\n",
       "  </tbody>\n",
       "</table>\n",
       "<p>560918 rows × 105 columns</p>\n",
       "</div>"
      ],
      "text/plain": [
       "                      mvel1      beta    betasq     chmom    dolvol   idiovol  \\\n",
       "date       permno                                                               \n",
       "1999-12-01 81669   0.464789 -0.285148 -0.285677  0.200573  0.407992 -0.455867   \n",
       "           81666  -0.156839 -0.337474 -0.338002 -0.063819 -0.506863 -0.039641   \n",
       "           81665   0.339938  0.663055  0.662791  0.210992  0.104336  0.337209   \n",
       "           81661   0.699451  0.194239  0.193975 -0.385778  0.660634 -0.556818   \n",
       "           81660   0.600859 -0.171512 -0.171776 -0.570201  0.514636 -0.719609   \n",
       "...                     ...       ...       ...       ...       ...       ...   \n",
       "2006-06-01 90944  -0.326892  0.000000  0.000000  0.000000 -0.373798  0.000000   \n",
       "           90943   0.050394  0.000000  0.000000  0.000000 -0.170974  0.000000   \n",
       "           90942  -0.940835  0.000000  0.000000  0.000000 -0.981070  0.000000   \n",
       "           90952   0.571875  0.000000  0.000000  0.000000  0.262019  0.000000   \n",
       "           90966   0.188643  0.000000  0.000000  0.000000  0.209435  0.000000   \n",
       "\n",
       "                     indmom     mom1m     mom6m    mom12m  ...      ep_y  \\\n",
       "date       permno                                          ...             \n",
       "1999-12-01 81669   0.798449  0.357677  0.139715  0.165929  ... -3.391104   \n",
       "           81666  -0.841050 -0.320921 -0.419520 -0.541808  ... -3.391104   \n",
       "           81665  -0.871718  0.580863 -0.797551 -0.873405  ... -3.391104   \n",
       "           81661  -0.140931 -0.552543 -0.343914 -0.262568  ... -3.391104   \n",
       "           81660  -0.185680  0.359364 -0.588353 -0.258401  ... -3.391104   \n",
       "...                     ...       ...       ...       ...  ...       ...   \n",
       "2006-06-01 90944   0.228631  0.510106  0.242938  0.000000  ... -2.844356   \n",
       "           90943  -0.523264  0.763737 -0.315926  0.000000  ... -2.844356   \n",
       "           90942   0.228631  0.682587 -0.951138  0.000000  ... -2.844356   \n",
       "           90952   0.228631  0.187902  0.617652  0.000000  ... -2.844356   \n",
       "           90966   0.228631  0.530469  0.912353  0.000000  ... -2.844356   \n",
       "\n",
       "                        b/m  crsp_spvw      svar     tbl     tms     dfy  \\\n",
       "date       permno                                                          \n",
       "1999-12-01 81669   0.155546   0.020822  0.001354  0.0507  0.0155  0.0079   \n",
       "           81666   0.155546   0.020822  0.001354  0.0507  0.0155  0.0079   \n",
       "           81665   0.155546   0.020822  0.001354  0.0507  0.0155  0.0079   \n",
       "           81661   0.155546   0.020822  0.001354  0.0507  0.0155  0.0079   \n",
       "           81660   0.155546   0.020822  0.001354  0.0507  0.0155  0.0079   \n",
       "...                     ...        ...       ...     ...     ...     ...   \n",
       "2006-06-01 90944   0.314340  -0.028319  0.001355  0.0472  0.0063  0.0080   \n",
       "           90943   0.314340  -0.028319  0.001355  0.0472  0.0063  0.0080   \n",
       "           90942   0.314340  -0.028319  0.001355  0.0472  0.0063  0.0080   \n",
       "           90952   0.314340  -0.028319  0.001355  0.0472  0.0063  0.0080   \n",
       "           90966   0.314340  -0.028319  0.001355  0.0472  0.0063  0.0080   \n",
       "\n",
       "                      dfr      ntis      infl  \n",
       "date       permno                              \n",
       "1999-12-01 81669   0.0037  0.018280  0.000595  \n",
       "           81666   0.0037  0.018280  0.000595  \n",
       "           81665   0.0037  0.018280  0.000595  \n",
       "           81661   0.0037  0.018280  0.000595  \n",
       "           81660   0.0037  0.018280  0.000595  \n",
       "...                   ...       ...       ...  \n",
       "2006-06-01 90944  -0.0030 -0.002657  0.004963  \n",
       "           90943  -0.0030 -0.002657  0.004963  \n",
       "           90942  -0.0030 -0.002657  0.004963  \n",
       "           90952  -0.0030 -0.002657  0.004963  \n",
       "           90966  -0.0030 -0.002657  0.004963  \n",
       "\n",
       "[560918 rows x 105 columns]"
      ]
     },
     "execution_count": 13,
     "metadata": {},
     "output_type": "execute_result"
    }
   ],
   "source": [
    "X_validation"
   ]
  },
  {
   "cell_type": "code",
   "execution_count": 14,
   "metadata": {},
   "outputs": [
    {
     "data": {
      "text/html": [
       "<div>\n",
       "<style scoped>\n",
       "    .dataframe tbody tr th:only-of-type {\n",
       "        vertical-align: middle;\n",
       "    }\n",
       "\n",
       "    .dataframe tbody tr th {\n",
       "        vertical-align: top;\n",
       "    }\n",
       "\n",
       "    .dataframe thead th {\n",
       "        text-align: right;\n",
       "    }\n",
       "</style>\n",
       "<table border=\"1\" class=\"dataframe\">\n",
       "  <thead>\n",
       "    <tr style=\"text-align: right;\">\n",
       "      <th></th>\n",
       "      <th></th>\n",
       "      <th>mvel1</th>\n",
       "      <th>beta</th>\n",
       "      <th>betasq</th>\n",
       "      <th>chmom</th>\n",
       "      <th>dolvol</th>\n",
       "      <th>idiovol</th>\n",
       "      <th>indmom</th>\n",
       "      <th>mom1m</th>\n",
       "      <th>mom6m</th>\n",
       "      <th>mom12m</th>\n",
       "      <th>...</th>\n",
       "      <th>ep_y</th>\n",
       "      <th>b/m</th>\n",
       "      <th>crsp_spvw</th>\n",
       "      <th>svar</th>\n",
       "      <th>tbl</th>\n",
       "      <th>tms</th>\n",
       "      <th>dfy</th>\n",
       "      <th>dfr</th>\n",
       "      <th>ntis</th>\n",
       "      <th>infl</th>\n",
       "    </tr>\n",
       "    <tr>\n",
       "      <th>date</th>\n",
       "      <th>permno</th>\n",
       "      <th></th>\n",
       "      <th></th>\n",
       "      <th></th>\n",
       "      <th></th>\n",
       "      <th></th>\n",
       "      <th></th>\n",
       "      <th></th>\n",
       "      <th></th>\n",
       "      <th></th>\n",
       "      <th></th>\n",
       "      <th></th>\n",
       "      <th></th>\n",
       "      <th></th>\n",
       "      <th></th>\n",
       "      <th></th>\n",
       "      <th></th>\n",
       "      <th></th>\n",
       "      <th></th>\n",
       "      <th></th>\n",
       "      <th></th>\n",
       "      <th></th>\n",
       "    </tr>\n",
       "  </thead>\n",
       "  <tbody>\n",
       "    <tr>\n",
       "      <th rowspan=\"5\" valign=\"top\">2006-06-01</th>\n",
       "      <th>90968</th>\n",
       "      <td>-0.166345</td>\n",
       "      <td>0.000000</td>\n",
       "      <td>0.000000</td>\n",
       "      <td>0.00000</td>\n",
       "      <td>-0.268029</td>\n",
       "      <td>0.000000</td>\n",
       "      <td>0.228631</td>\n",
       "      <td>-0.388831</td>\n",
       "      <td>0.315926</td>\n",
       "      <td>0.000000</td>\n",
       "      <td>...</td>\n",
       "      <td>-2.844356</td>\n",
       "      <td>0.314340</td>\n",
       "      <td>-0.028319</td>\n",
       "      <td>0.001355</td>\n",
       "      <td>0.0472</td>\n",
       "      <td>0.0063</td>\n",
       "      <td>0.0080</td>\n",
       "      <td>-0.0030</td>\n",
       "      <td>-0.002657</td>\n",
       "      <td>0.004963</td>\n",
       "    </tr>\n",
       "    <tr>\n",
       "      <th>90969</th>\n",
       "      <td>-0.788613</td>\n",
       "      <td>0.000000</td>\n",
       "      <td>0.000000</td>\n",
       "      <td>0.00000</td>\n",
       "      <td>-0.813702</td>\n",
       "      <td>0.000000</td>\n",
       "      <td>0.228631</td>\n",
       "      <td>0.361282</td>\n",
       "      <td>-0.946251</td>\n",
       "      <td>0.000000</td>\n",
       "      <td>...</td>\n",
       "      <td>-2.844356</td>\n",
       "      <td>0.314340</td>\n",
       "      <td>-0.028319</td>\n",
       "      <td>0.001355</td>\n",
       "      <td>0.0472</td>\n",
       "      <td>0.0063</td>\n",
       "      <td>0.0080</td>\n",
       "      <td>-0.0030</td>\n",
       "      <td>-0.002657</td>\n",
       "      <td>0.004963</td>\n",
       "    </tr>\n",
       "    <tr>\n",
       "      <th>90994</th>\n",
       "      <td>0.516278</td>\n",
       "      <td>0.000000</td>\n",
       "      <td>0.000000</td>\n",
       "      <td>0.00000</td>\n",
       "      <td>0.434195</td>\n",
       "      <td>0.000000</td>\n",
       "      <td>0.228631</td>\n",
       "      <td>-0.744273</td>\n",
       "      <td>-0.686364</td>\n",
       "      <td>0.000000</td>\n",
       "      <td>...</td>\n",
       "      <td>-2.844356</td>\n",
       "      <td>0.314340</td>\n",
       "      <td>-0.028319</td>\n",
       "      <td>0.001355</td>\n",
       "      <td>0.0472</td>\n",
       "      <td>0.0063</td>\n",
       "      <td>0.0080</td>\n",
       "      <td>-0.0030</td>\n",
       "      <td>-0.002657</td>\n",
       "      <td>0.004963</td>\n",
       "    </tr>\n",
       "    <tr>\n",
       "      <th>90993</th>\n",
       "      <td>0.464843</td>\n",
       "      <td>0.000000</td>\n",
       "      <td>0.000000</td>\n",
       "      <td>0.00000</td>\n",
       "      <td>0.926983</td>\n",
       "      <td>0.000000</td>\n",
       "      <td>0.228631</td>\n",
       "      <td>-0.898188</td>\n",
       "      <td>0.978317</td>\n",
       "      <td>0.000000</td>\n",
       "      <td>...</td>\n",
       "      <td>-2.844356</td>\n",
       "      <td>0.314340</td>\n",
       "      <td>-0.028319</td>\n",
       "      <td>0.001355</td>\n",
       "      <td>0.0472</td>\n",
       "      <td>0.0063</td>\n",
       "      <td>0.0080</td>\n",
       "      <td>-0.0030</td>\n",
       "      <td>-0.002657</td>\n",
       "      <td>0.004963</td>\n",
       "    </tr>\n",
       "    <tr>\n",
       "      <th>90992</th>\n",
       "      <td>0.484763</td>\n",
       "      <td>0.000000</td>\n",
       "      <td>0.000000</td>\n",
       "      <td>0.00000</td>\n",
       "      <td>0.008113</td>\n",
       "      <td>0.000000</td>\n",
       "      <td>0.513751</td>\n",
       "      <td>-0.148675</td>\n",
       "      <td>0.808215</td>\n",
       "      <td>0.000000</td>\n",
       "      <td>...</td>\n",
       "      <td>-2.844356</td>\n",
       "      <td>0.314340</td>\n",
       "      <td>-0.028319</td>\n",
       "      <td>0.001355</td>\n",
       "      <td>0.0472</td>\n",
       "      <td>0.0063</td>\n",
       "      <td>0.0080</td>\n",
       "      <td>-0.0030</td>\n",
       "      <td>-0.002657</td>\n",
       "      <td>0.004963</td>\n",
       "    </tr>\n",
       "    <tr>\n",
       "      <th>...</th>\n",
       "      <th>...</th>\n",
       "      <td>...</td>\n",
       "      <td>...</td>\n",
       "      <td>...</td>\n",
       "      <td>...</td>\n",
       "      <td>...</td>\n",
       "      <td>...</td>\n",
       "      <td>...</td>\n",
       "      <td>...</td>\n",
       "      <td>...</td>\n",
       "      <td>...</td>\n",
       "      <td>...</td>\n",
       "      <td>...</td>\n",
       "      <td>...</td>\n",
       "      <td>...</td>\n",
       "      <td>...</td>\n",
       "      <td>...</td>\n",
       "      <td>...</td>\n",
       "      <td>...</td>\n",
       "      <td>...</td>\n",
       "      <td>...</td>\n",
       "      <td>...</td>\n",
       "    </tr>\n",
       "    <tr>\n",
       "      <th rowspan=\"5\" valign=\"top\">2016-12-01</th>\n",
       "      <th>16156</th>\n",
       "      <td>0.239881</td>\n",
       "      <td>0.000000</td>\n",
       "      <td>0.000000</td>\n",
       "      <td>0.00000</td>\n",
       "      <td>-0.233698</td>\n",
       "      <td>0.000000</td>\n",
       "      <td>0.320329</td>\n",
       "      <td>-0.722379</td>\n",
       "      <td>0.000000</td>\n",
       "      <td>0.000000</td>\n",
       "      <td>...</td>\n",
       "      <td>-3.165980</td>\n",
       "      <td>0.303286</td>\n",
       "      <td>0.035790</td>\n",
       "      <td>0.000946</td>\n",
       "      <td>0.0045</td>\n",
       "      <td>0.0222</td>\n",
       "      <td>0.0085</td>\n",
       "      <td>0.0089</td>\n",
       "      <td>-0.027373</td>\n",
       "      <td>-0.001555</td>\n",
       "    </tr>\n",
       "    <tr>\n",
       "      <th>16155</th>\n",
       "      <td>0.787629</td>\n",
       "      <td>0.000000</td>\n",
       "      <td>0.000000</td>\n",
       "      <td>0.00000</td>\n",
       "      <td>0.677476</td>\n",
       "      <td>0.000000</td>\n",
       "      <td>0.320329</td>\n",
       "      <td>-0.598522</td>\n",
       "      <td>0.000000</td>\n",
       "      <td>0.000000</td>\n",
       "      <td>...</td>\n",
       "      <td>-3.165980</td>\n",
       "      <td>0.303286</td>\n",
       "      <td>0.035790</td>\n",
       "      <td>0.000946</td>\n",
       "      <td>0.0045</td>\n",
       "      <td>0.0222</td>\n",
       "      <td>0.0085</td>\n",
       "      <td>0.0089</td>\n",
       "      <td>-0.027373</td>\n",
       "      <td>-0.001555</td>\n",
       "    </tr>\n",
       "    <tr>\n",
       "      <th>16154</th>\n",
       "      <td>-0.308919</td>\n",
       "      <td>0.000000</td>\n",
       "      <td>0.000000</td>\n",
       "      <td>0.00000</td>\n",
       "      <td>-0.569616</td>\n",
       "      <td>0.000000</td>\n",
       "      <td>-0.537964</td>\n",
       "      <td>0.303308</td>\n",
       "      <td>0.000000</td>\n",
       "      <td>0.000000</td>\n",
       "      <td>...</td>\n",
       "      <td>-3.165980</td>\n",
       "      <td>0.303286</td>\n",
       "      <td>0.035790</td>\n",
       "      <td>0.000946</td>\n",
       "      <td>0.0045</td>\n",
       "      <td>0.0222</td>\n",
       "      <td>0.0085</td>\n",
       "      <td>0.0089</td>\n",
       "      <td>-0.027373</td>\n",
       "      <td>-0.001555</td>\n",
       "    </tr>\n",
       "    <tr>\n",
       "      <th>16095</th>\n",
       "      <td>-0.991064</td>\n",
       "      <td>0.000000</td>\n",
       "      <td>0.000000</td>\n",
       "      <td>0.00000</td>\n",
       "      <td>-0.961579</td>\n",
       "      <td>0.000000</td>\n",
       "      <td>0.320329</td>\n",
       "      <td>-0.442998</td>\n",
       "      <td>0.106995</td>\n",
       "      <td>0.000000</td>\n",
       "      <td>...</td>\n",
       "      <td>-3.165980</td>\n",
       "      <td>0.303286</td>\n",
       "      <td>0.035790</td>\n",
       "      <td>0.000946</td>\n",
       "      <td>0.0045</td>\n",
       "      <td>0.0222</td>\n",
       "      <td>0.0085</td>\n",
       "      <td>0.0089</td>\n",
       "      <td>-0.027373</td>\n",
       "      <td>-0.001555</td>\n",
       "    </tr>\n",
       "    <tr>\n",
       "      <th>93434</th>\n",
       "      <td>-0.594533</td>\n",
       "      <td>-0.510709</td>\n",
       "      <td>-0.515879</td>\n",
       "      <td>-0.16452</td>\n",
       "      <td>-0.536835</td>\n",
       "      <td>0.461965</td>\n",
       "      <td>-0.268020</td>\n",
       "      <td>-0.629134</td>\n",
       "      <td>0.462327</td>\n",
       "      <td>0.430622</td>\n",
       "      <td>...</td>\n",
       "      <td>-3.165980</td>\n",
       "      <td>0.303286</td>\n",
       "      <td>0.035790</td>\n",
       "      <td>0.000946</td>\n",
       "      <td>0.0045</td>\n",
       "      <td>0.0222</td>\n",
       "      <td>0.0085</td>\n",
       "      <td>0.0089</td>\n",
       "      <td>-0.027373</td>\n",
       "      <td>-0.001555</td>\n",
       "    </tr>\n",
       "  </tbody>\n",
       "</table>\n",
       "<p>747890 rows × 105 columns</p>\n",
       "</div>"
      ],
      "text/plain": [
       "                      mvel1      beta    betasq    chmom    dolvol   idiovol  \\\n",
       "date       permno                                                              \n",
       "2006-06-01 90968  -0.166345  0.000000  0.000000  0.00000 -0.268029  0.000000   \n",
       "           90969  -0.788613  0.000000  0.000000  0.00000 -0.813702  0.000000   \n",
       "           90994   0.516278  0.000000  0.000000  0.00000  0.434195  0.000000   \n",
       "           90993   0.464843  0.000000  0.000000  0.00000  0.926983  0.000000   \n",
       "           90992   0.484763  0.000000  0.000000  0.00000  0.008113  0.000000   \n",
       "...                     ...       ...       ...      ...       ...       ...   \n",
       "2016-12-01 16156   0.239881  0.000000  0.000000  0.00000 -0.233698  0.000000   \n",
       "           16155   0.787629  0.000000  0.000000  0.00000  0.677476  0.000000   \n",
       "           16154  -0.308919  0.000000  0.000000  0.00000 -0.569616  0.000000   \n",
       "           16095  -0.991064  0.000000  0.000000  0.00000 -0.961579  0.000000   \n",
       "           93434  -0.594533 -0.510709 -0.515879 -0.16452 -0.536835  0.461965   \n",
       "\n",
       "                     indmom     mom1m     mom6m    mom12m  ...      ep_y  \\\n",
       "date       permno                                          ...             \n",
       "2006-06-01 90968   0.228631 -0.388831  0.315926  0.000000  ... -2.844356   \n",
       "           90969   0.228631  0.361282 -0.946251  0.000000  ... -2.844356   \n",
       "           90994   0.228631 -0.744273 -0.686364  0.000000  ... -2.844356   \n",
       "           90993   0.228631 -0.898188  0.978317  0.000000  ... -2.844356   \n",
       "           90992   0.513751 -0.148675  0.808215  0.000000  ... -2.844356   \n",
       "...                     ...       ...       ...       ...  ...       ...   \n",
       "2016-12-01 16156   0.320329 -0.722379  0.000000  0.000000  ... -3.165980   \n",
       "           16155   0.320329 -0.598522  0.000000  0.000000  ... -3.165980   \n",
       "           16154  -0.537964  0.303308  0.000000  0.000000  ... -3.165980   \n",
       "           16095   0.320329 -0.442998  0.106995  0.000000  ... -3.165980   \n",
       "           93434  -0.268020 -0.629134  0.462327  0.430622  ... -3.165980   \n",
       "\n",
       "                        b/m  crsp_spvw      svar     tbl     tms     dfy  \\\n",
       "date       permno                                                          \n",
       "2006-06-01 90968   0.314340  -0.028319  0.001355  0.0472  0.0063  0.0080   \n",
       "           90969   0.314340  -0.028319  0.001355  0.0472  0.0063  0.0080   \n",
       "           90994   0.314340  -0.028319  0.001355  0.0472  0.0063  0.0080   \n",
       "           90993   0.314340  -0.028319  0.001355  0.0472  0.0063  0.0080   \n",
       "           90992   0.314340  -0.028319  0.001355  0.0472  0.0063  0.0080   \n",
       "...                     ...        ...       ...     ...     ...     ...   \n",
       "2016-12-01 16156   0.303286   0.035790  0.000946  0.0045  0.0222  0.0085   \n",
       "           16155   0.303286   0.035790  0.000946  0.0045  0.0222  0.0085   \n",
       "           16154   0.303286   0.035790  0.000946  0.0045  0.0222  0.0085   \n",
       "           16095   0.303286   0.035790  0.000946  0.0045  0.0222  0.0085   \n",
       "           93434   0.303286   0.035790  0.000946  0.0045  0.0222  0.0085   \n",
       "\n",
       "                      dfr      ntis      infl  \n",
       "date       permno                              \n",
       "2006-06-01 90968  -0.0030 -0.002657  0.004963  \n",
       "           90969  -0.0030 -0.002657  0.004963  \n",
       "           90994  -0.0030 -0.002657  0.004963  \n",
       "           90993  -0.0030 -0.002657  0.004963  \n",
       "           90992  -0.0030 -0.002657  0.004963  \n",
       "...                   ...       ...       ...  \n",
       "2016-12-01 16156   0.0089 -0.027373 -0.001555  \n",
       "           16155   0.0089 -0.027373 -0.001555  \n",
       "           16154   0.0089 -0.027373 -0.001555  \n",
       "           16095   0.0089 -0.027373 -0.001555  \n",
       "           93434   0.0089 -0.027373 -0.001555  \n",
       "\n",
       "[747890 rows x 105 columns]"
      ]
     },
     "execution_count": 14,
     "metadata": {},
     "output_type": "execute_result"
    }
   ],
   "source": [
    "X_test"
   ]
  },
  {
   "cell_type": "markdown",
   "metadata": {},
   "source": [
    "Keras tuner is used to perform hyperparameter selection. The layout of the code is divided in model specification (keras_model()) and hyperparemeters manager (HypeRegressor())"
   ]
  },
  {
   "cell_type": "code",
   "execution_count": 8,
   "metadata": {
    "id": "_6bgsQRe-SS-"
   },
   "outputs": [],
   "source": [
    "def keras_model(n_layers, units, learning_rate):\n",
    "    # Model definition separated from tuner in order to achieve modularity \n",
    "    # Build model\n",
    "    model = Sequential()\n",
    "    model.add(layers.Input(shape=(105,)))\n",
    "    # Add layers iteratively and assign a units hyperparam selector\n",
    "    for i in range(n_layers):\n",
    "        model.add(layers.Dense(units=units[0][i], activation='relu'))\n",
    "        model.add(layers.Dropout(0.5))\n",
    "    model.add(layers.Dense(1, activation='linear'))\n",
    "    model.compile(\n",
    "        optimizer=keras.optimizers.Adam(learning_rate=learning_rate),\n",
    "        loss='mse')\n",
    "    return model\n",
    "\n",
    "class HyperRegressor(keras_tuner.HyperModel):\n",
    "    def __init__(self, n_layers, *args, **kwargs):\n",
    "        # Pass all arguments except number of layers to parent\n",
    "        self.n_layers = n_layers\n",
    "        super().__init__(*args, **kwargs)\n",
    "\n",
    "    def build(self, hp):\n",
    "        # Hyperparameters choices and ranges definition \n",
    "        # To increase modularity, we declare units choice for each layer in a list \n",
    "        units=[hp.Int(f'units_{i + 1}',min_value=16,max_value=160,step=16) for i in range(self.n_layers)],\n",
    "        learning_rate = hp.Float(\"learning_rate\", min_value=1e-4, max_value=1e-2, sampling=\"log\")\n",
    "        return keras_model(self.n_layers, units, learning_rate)\n",
    "\n",
    "    def fit(self, hp, model, x, y, validation_data, **kwargs):\n",
    "        model.fit(x, y, **kwargs)\n",
    "        x_val, y_val = validation_data\n",
    "        y_pred = model.predict(x_val)\n",
    "        # Return a single float to minimize.\n",
    "        return np.mean((y_pred - y_val)**2)"
   ]
  },
  {
   "cell_type": "code",
   "execution_count": 9,
   "metadata": {
    "id": "zcQMs56h-SS_"
   },
   "outputs": [],
   "source": [
    "########################\n",
    "# CONSTANTS DEFINITION #\n",
    "########################\n",
    "\n",
    "MAX_TRIALS = 10\n",
    "EXECUTION_PER_TRIAL = 3\n",
    "EPOCHS = 8\n",
    "BATCH_SIZE = 256\n",
    "\n",
    "def tune_model(n_layers=2):\n",
    "  # Early stop if loss does not improve after 3 epochs\n",
    "  callback = keras.callbacks.EarlyStopping(monitor='loss', patience=3)\n",
    "  tuner = RandomSearch(\n",
    "        hypermodel=HyperRegressor(n_layers),\n",
    "        max_trials=MAX_TRIALS,\n",
    "        executions_per_trial=EXECUTION_PER_TRIAL,\n",
    "        overwrite=True,\n",
    "        directory='bd_2',\n",
    "        project_name=f'NN_new_{n_layers}'\n",
    "  )\n",
    "  tuner.search(\n",
    "      X_train.values, \n",
    "      y_train.values,\n",
    "      validation_data=(X_validation.values, y_validation.values),\n",
    "      batch_size=BATCH_SIZE,\n",
    "      epochs=EPOCHS,\n",
    "      callbacks=[callback]\n",
    "  )\n",
    "  return tuner"
   ]
  },
  {
   "cell_type": "markdown",
   "metadata": {},
   "source": [
    "Now we proceed to dynamically create 3 different models with varying number of layers and perform hyperparameter selection for each of them."
   ]
  },
  {
   "cell_type": "code",
   "execution_count": 12,
   "metadata": {
    "colab": {
     "base_uri": "https://localhost:8080/"
    },
    "id": "GpUrwzRc-STA",
    "outputId": "37279b8d-7da6-4223-b843-c43910ca1408"
   },
   "outputs": [
    {
     "name": "stdout",
     "output_type": "stream",
     "text": [
      "Trial 10 Complete [00h 09m 28s]\n",
      "default_objective: 0.04740524855275794\n",
      "\n",
      "Best default_objective So Far: 0.04082417058268804\n",
      "Total elapsed time: 01h 34m 14s\n",
      "INFO:tensorflow:Oracle triggered exit\n"
     ]
    }
   ],
   "source": [
    "models = []\n",
    "parameters = []\n",
    "tuners = []\n",
    "for n in range(2,5):\n",
    "    # Tune model for each of model\n",
    "    tuner = tune_model(n)\n",
    "    parameters.append(tuner.get_best_hyperparameters)\n",
    "    models.append(tuner.get_best_models(1)[0])\n",
    "    tuners.append(tuner)"
   ]
  },
  {
   "cell_type": "code",
   "execution_count": 13,
   "metadata": {
    "colab": {
     "base_uri": "https://localhost:8080/"
    },
    "id": "nqljtYWpetKL",
    "outputId": "952c8ad6-e73a-4f62-ca6f-0ad2e65f249c"
   },
   "outputs": [
    {
     "name": "stdout",
     "output_type": "stream",
     "text": [
      "INFO:tensorflow:Assets written to: ram://4cefee27-841d-4536-af97-baa27475d903/assets\n",
      "INFO:tensorflow:Assets written to: ram://96fedd41-dad1-4d05-aea2-d2ce631fd171/assets\n",
      "INFO:tensorflow:Assets written to: ram://b75f643e-f30a-4748-996b-531cb7f81058/assets\n"
     ]
    }
   ],
   "source": [
    "# Save models and tuners\n",
    "with open('data/models.pkl','wb') as f:\n",
    "    pickle.dump(models,f)\n",
    "with open('data/tuners.pkl','wb') as f:\n",
    "    pickle.dump(tuners,f)"
   ]
  },
  {
   "cell_type": "code",
   "execution_count": 49,
   "metadata": {},
   "outputs": [],
   "source": [
    "# Load models and tuner\n",
    "with open('data/models.pkl','rb') as f:\n",
    "    models = pickle.load(f)\n",
    "with open('data/tuners.pkl','rb') as f:\n",
    "    tuners = pickle.load(f)"
   ]
  },
  {
   "cell_type": "code",
   "execution_count": 50,
   "metadata": {
    "colab": {
     "base_uri": "https://localhost:8080/"
    },
    "id": "Ow2WYyMr-STC",
    "outputId": "e6889abb-192f-4efe-e49c-1ff56279ab54"
   },
   "outputs": [
    {
     "name": "stdout",
     "output_type": "stream",
     "text": [
      "{'units_1': 80, 'units_2': 96, 'learning_rate': 0.0002429522836219241}\n",
      "{'units_1': 128, 'units_2': 144, 'units_3': 80, 'learning_rate': 0.00020274044574404226}\n",
      "{'units_1': 64, 'units_2': 48, 'units_3': 160, 'units_4': 112, 'learning_rate': 0.0008569717606115053}\n"
     ]
    }
   ],
   "source": [
    "# Display best hyperparameters for each model\n",
    "for i in range(3):\n",
    "    print(tuners[i].get_best_hyperparameters()[0].values)"
   ]
  },
  {
   "cell_type": "markdown",
   "metadata": {},
   "source": [
    "Due to the computational cost that would entail fitting each model in the tuning process with a high number of epochs, we first perform hyperparameter selection with reduced epochs. Now we will proceed to refit the best model for each neural network with a higher number of epochs (8) to ensure that the model learns adequately."
   ]
  },
  {
   "cell_type": "code",
   "execution_count": 51,
   "metadata": {
    "colab": {
     "base_uri": "https://localhost:8080/"
    },
    "id": "k-_834O5-STB",
    "outputId": "daf82c26-0c93-43eb-e24c-721226e813cf",
    "scrolled": true
   },
   "outputs": [
    {
     "name": "stdout",
     "output_type": "stream",
     "text": [
      "Epoch 1/8\n",
      "9495/9495 [==============================] - 11s 1ms/step - loss: 0.0394\n",
      "Epoch 2/8\n",
      "9495/9495 [==============================] - 10s 1ms/step - loss: 0.0288\n",
      "Epoch 3/8\n",
      "9495/9495 [==============================] - 9s 985us/step - loss: 0.0287\n",
      "Epoch 4/8\n",
      "9495/9495 [==============================] - 9s 956us/step - loss: 0.0286\n",
      "Epoch 5/8\n",
      "9495/9495 [==============================] - 9s 981us/step - loss: 0.0286\n",
      "Epoch 6/8\n",
      "9495/9495 [==============================] - 10s 1ms/step - loss: 0.0286\n",
      "Epoch 7/8\n",
      "9495/9495 [==============================] - 10s 1ms/step - loss: 0.0285\n",
      "Epoch 8/8\n",
      "9495/9495 [==============================] - 9s 982us/step - loss: 0.0285\n",
      "9495/9495 [==============================] - 6s 618us/step - loss: 0.0283\n",
      "2922/2922 [==============================] - 2s 668us/step - loss: 0.0253\n",
      "2192/2192 [==============================] - 1s 616us/step - loss: 0.0397\n",
      "Epoch 1/8\n",
      "9495/9495 [==============================] - 13s 1ms/step - loss: 0.0412\n",
      "Epoch 2/8\n",
      "9495/9495 [==============================] - 14s 1ms/step - loss: 0.0288\n",
      "Epoch 3/8\n",
      "9495/9495 [==============================] - 10s 1ms/step - loss: 0.0287\n",
      "Epoch 4/8\n",
      "9495/9495 [==============================] - 10s 1ms/step - loss: 0.0286\n",
      "Epoch 5/8\n",
      "9495/9495 [==============================] - 11s 1ms/step - loss: 0.0285\n",
      "Epoch 6/8\n",
      "9495/9495 [==============================] - 11s 1ms/step - loss: 0.0285\n",
      "Epoch 7/8\n",
      "9495/9495 [==============================] - 9s 994us/step - loss: 0.0285\n",
      "Epoch 8/8\n",
      "9495/9495 [==============================] - 10s 1ms/step - loss: 0.0284\n",
      "9495/9495 [==============================] - 6s 626us/step - loss: 0.0283\n",
      "2922/2922 [==============================] - 2s 654us/step - loss: 0.0254\n",
      "2192/2192 [==============================] - 1s 644us/step - loss: 0.0397\n",
      "Epoch 1/8\n",
      "9495/9495 [==============================] - 9s 927us/step - loss: 0.0321\n",
      "Epoch 2/8\n",
      "9495/9495 [==============================] - 9s 978us/step - loss: 0.0288\n",
      "Epoch 3/8\n",
      "9495/9495 [==============================] - 10s 1ms/step - loss: 0.0287\n",
      "Epoch 4/8\n",
      "9495/9495 [==============================] - 10s 1ms/step - loss: 0.0287\n",
      "Epoch 5/8\n",
      "9495/9495 [==============================] - 10s 1ms/step - loss: 0.0286\n",
      "Epoch 6/8\n",
      "9495/9495 [==============================] - 12s 1ms/step - loss: 0.0286\n",
      "Epoch 7/8\n",
      "9495/9495 [==============================] - 10s 1ms/step - loss: 0.0286\n",
      "Epoch 8/8\n",
      "9495/9495 [==============================] - 9s 991us/step - loss: 0.0286\n",
      "9495/9495 [==============================] - 6s 666us/step - loss: 0.0284\n",
      "2922/2922 [==============================] - 2s 686us/step - loss: 0.0253\n",
      "2192/2192 [==============================] - 1s 659us/step - loss: 0.0396\n"
     ]
    }
   ],
   "source": [
    "def format_units(buffer_dict):\n",
    "    # Convert units param to a list of units to match processing formatting\n",
    "    units = []\n",
    "    # Check if key is in unit, if it is add to list \n",
    "    for key, value  in buffer_dict.values.items():\n",
    "        if 'units' in key:\n",
    "            units += [value]\n",
    "    # Create new dict with correct format \n",
    "    best_params = {}\n",
    "    best_params['units'] = [units]\n",
    "    best_params['learning_rate'] = buffer_dict['learning_rate']\n",
    "    return best_params\n",
    "\n",
    "models_refitted = []\n",
    "results = {}\n",
    "for i in range(3):\n",
    "    # Build and refit model with best params\n",
    "    callback = keras.callbacks.EarlyStopping(monitor='loss', patience=3)\n",
    "    best_hps = format_units(tuners[i].get_best_hyperparameters()[0])\n",
    "    n_layers = len(best_hps['units']) # Get num of hidden layers\n",
    "    model = keras_model(n_layers, **best_hps) # Rebuild model\n",
    "    model.fit(X_train, y_train, epochs=8, batch_size=256,verbose=True, callbacks=[callback])\n",
    "    models_refitted.append(model)\n",
    "    # Evaluate train, val and test \n",
    "    train_result = model.evaluate(X_train.values,y_train.values,batch_size=256)\n",
    "    test_result = model.evaluate(X_test.values,y_test.values,batch_size=256)\n",
    "    val_result = model.evaluate(X_validation.values,y_validation.values,batch_size=256)\n",
    "    # Save test and train resuls\n",
    "    results[f'NN{i + 1}'] = {'train': train_result, 'test': test_result}"
   ]
  },
  {
   "cell_type": "code",
   "execution_count": 52,
   "metadata": {
    "colab": {
     "base_uri": "https://localhost:8080/"
    },
    "id": "Ywo6kW_j-STC",
    "outputId": "62d58504-ee46-47c5-be12-7db06eebd4f0"
   },
   "outputs": [
    {
     "data": {
      "text/plain": [
       "{'NN1': {'train': 0.028319377452135086, 'test': 0.025298023596405983},\n",
       " 'NN2': {'train': 0.02827419713139534, 'test': 0.02537049725651741},\n",
       " 'NN3': {'train': 0.028368398547172546, 'test': 0.025258518755435944}}"
      ]
     },
     "execution_count": 52,
     "metadata": {},
     "output_type": "execute_result"
    }
   ],
   "source": [
    "# MSE loss for train and test of each neural network.\n",
    "results"
   ]
  },
  {
   "cell_type": "code",
   "execution_count": 53,
   "metadata": {
    "colab": {
     "base_uri": "https://localhost:8080/"
    },
    "id": "NujnDpUp-STD",
    "outputId": "6c1f4d65-88f0-4028-9168-16c58d824fec"
   },
   "outputs": [
    {
     "name": "stdout",
     "output_type": "stream",
     "text": [
      "INFO:tensorflow:Assets written to: ram://15849fbc-9f71-4d18-87ad-1f93f8ee1238/assets\n",
      "INFO:tensorflow:Assets written to: ram://320f13d6-7231-44af-913a-8dc89037d239/assets\n",
      "INFO:tensorflow:Assets written to: ram://7a1873a5-7669-4df8-8757-f7a31fbc3e7e/assets\n"
     ]
    }
   ],
   "source": [
    "# Save the refitted models\n",
    "with open('data/refitted_models_BN.pkl','wb') as f:\n",
    "  pickle.dump(models_refitted,f)"
   ]
  },
  {
   "cell_type": "markdown",
   "metadata": {
    "id": "CP73ewuxc0gT"
   },
   "source": [
    "## 2.Use test data to get an idea of the out of sample performance of each model. Convert the standard MSE metric for out of sample performance to the “R2 out of sample” metric that was discussed in class. Compare your results to those in Gu-Kelly-Xiu and comment on the differences. "
   ]
  },
  {
   "cell_type": "code",
   "execution_count": 54,
   "metadata": {
    "id": "0KZ3qleF-STE"
   },
   "outputs": [],
   "source": [
    "# Load models, tuners and refitted models\n",
    "with open('data/models.pkl','rb') as f:\n",
    "    models = pickle.load(f)\n",
    "with open('data/tuners.pkl','rb') as f:\n",
    "    tuners = pickle.load(f)\n",
    "with open('data/refitted_models_BN.pkl','rb') as f:\n",
    "    models_refitted = pickle.load(f)"
   ]
  },
  {
   "cell_type": "code",
   "execution_count": 13,
   "metadata": {
    "id": "lfCN6eZImqbB"
   },
   "outputs": [],
   "source": [
    "def r_squared(y_pred, y_test):\n",
    "    return 1 - np.sum((y_test - y_pred)**2) / np.sum(y_test**2)"
   ]
  },
  {
   "cell_type": "code",
   "execution_count": 56,
   "metadata": {},
   "outputs": [],
   "source": [
    "rankings = X_test['mvel1'].groupby(['date']).rank()\n",
    "top_X_test = X_test.loc[rankings<=1000,:].values\n",
    "top_y_test = y_test.loc[rankings<=1000,:].values\n",
    "rankings_reverse = X_test['mvel1'].groupby(['date']).rank(ascending=False)\n",
    "bottom_X_test = X_test.loc[rankings_reverse<=1000,:].values\n",
    "bottom_y_test = y_test.loc[rankings_reverse<=1000,:].values"
   ]
  },
  {
   "cell_type": "code",
   "execution_count": 57,
   "metadata": {
    "id": "vRGwEta1c0gU"
   },
   "outputs": [
    {
     "name": "stdout",
     "output_type": "stream",
     "text": [
      "2922/2922 [==============================] - 2s 627us/step\n",
      "497/497 [==============================] - 0s 603us/step\n",
      "497/497 [==============================] - 0s 617us/step\n",
      "2922/2922 [==============================] - 2s 629us/step\n",
      "497/497 [==============================] - 0s 596us/step\n",
      "497/497 [==============================] - 0s 630us/step\n",
      "2922/2922 [==============================] - 2s 615us/step\n",
      "497/497 [==============================] - 0s 601us/step\n",
      "497/497 [==============================] - 0s 811us/step\n"
     ]
    }
   ],
   "source": [
    "R2_oos_df = pd.DataFrame(columns = ['R2_OOS','R2_OOS_top1000','R2_OOS_low1000'],index = ['NN2','NN3','NN4'])\n",
    "for i in range(3):\n",
    "    y_pred_all = models_refitted[i].predict(X_test,batch_size=256).reshape(-1,1)\n",
    "    y_pred_top = models_refitted[i].predict(top_X_test,batch_size=256).reshape(-1,1)\n",
    "    y_pred_bottom = models_refitted[i].predict(bottom_X_test,batch_size=256).reshape(-1,1)\n",
    "    \n",
    "    row = [r_squared(y_pred_all, y_test)[0],\n",
    "           r_squared(y_pred_top, top_y_test),\n",
    "           r_squared(y_pred_bottom, bottom_y_test)]\n",
    "    \n",
    "    R2_oos_df.iloc[i]= row"
   ]
  },
  {
   "cell_type": "code",
   "execution_count": 58,
   "metadata": {
    "colab": {
     "base_uri": "https://localhost:8080/",
     "height": 143
    },
    "id": "FqetXnyy-STE",
    "outputId": "56f3ca8f-c36b-4599-f6e4-47cc2ef6a500"
   },
   "outputs": [
    {
     "data": {
      "text/html": [
       "<div>\n",
       "<style scoped>\n",
       "    .dataframe tbody tr th:only-of-type {\n",
       "        vertical-align: middle;\n",
       "    }\n",
       "\n",
       "    .dataframe tbody tr th {\n",
       "        vertical-align: top;\n",
       "    }\n",
       "\n",
       "    .dataframe thead th {\n",
       "        text-align: right;\n",
       "    }\n",
       "</style>\n",
       "<table border=\"1\" class=\"dataframe\">\n",
       "  <thead>\n",
       "    <tr style=\"text-align: right;\">\n",
       "      <th></th>\n",
       "      <th>R2_OOS</th>\n",
       "      <th>R2_OOS_top1000</th>\n",
       "      <th>R2_OOS_low1000</th>\n",
       "    </tr>\n",
       "  </thead>\n",
       "  <tbody>\n",
       "    <tr>\n",
       "      <th>NN2</th>\n",
       "      <td>0.649373</td>\n",
       "      <td>0.29025</td>\n",
       "      <td>0.983805</td>\n",
       "    </tr>\n",
       "    <tr>\n",
       "      <th>NN3</th>\n",
       "      <td>0.364541</td>\n",
       "      <td>-0.218089</td>\n",
       "      <td>1.043883</td>\n",
       "    </tr>\n",
       "    <tr>\n",
       "      <th>NN4</th>\n",
       "      <td>0.804415</td>\n",
       "      <td>0.383333</td>\n",
       "      <td>1.100982</td>\n",
       "    </tr>\n",
       "  </tbody>\n",
       "</table>\n",
       "</div>"
      ],
      "text/plain": [
       "       R2_OOS R2_OOS_top1000 R2_OOS_low1000\n",
       "NN2  0.649373        0.29025       0.983805\n",
       "NN3  0.364541      -0.218089       1.043883\n",
       "NN4  0.804415       0.383333       1.100982"
      ]
     },
     "execution_count": 58,
     "metadata": {},
     "output_type": "execute_result"
    }
   ],
   "source": [
    "R2_oos_df * 100"
   ]
  },
  {
   "cell_type": "markdown",
   "metadata": {},
   "source": [
    "All our full sample models outperform those NN estimated by Gu-Kelly-Xiu on entire pooled sample. Their best model, NN4, has a r-square of 0.4%. Our best model, NN4, has a 0.8% r-square, twice the performance of NN4 from Gu-Kelly-Xiu.\n",
    "Nonetheless, all our models underperform with the dataset restricted to the top 1000 stocks sorted by market value. On the other hand, our models greatly outperform those of the paper with the test set restricted to the bottom 1000 stocks sorted my market value.<br><br>\n",
    "\n",
    "We cannot draw solid conclusions of the outperformance of our models in full sample size and bottom-1000, because we don't know how the data was collected. Moreover, our testing, validation and train splits differ to those of the paper. Also their models are refitted every year with an incremented training and sample rolled-over validation sample. "
   ]
  },
  {
   "cell_type": "code",
   "execution_count": 60,
   "metadata": {
    "id": "kZRdfWlolRMs"
   },
   "outputs": [],
   "source": [
    "with open('data/r_squared.pkl','wb') as f:\n",
    "    pickle.dump(R2_oos_df,f)"
   ]
  },
  {
   "cell_type": "markdown",
   "metadata": {
    "id": "eV0nT10sc0gU"
   },
   "source": [
    "## 3.Pick the model that performs the best out of sample, and interpret its output by doing the following analysis of variable importance:\n",
    "### a.\tFirst, for all stock characteristics, get variable importance by setting one predictor at a time to zero and finding the decrease in out of sample R2. Show a table of the 10 most important variables according to this measure, and give an economic interpretation. \n"
   ]
  },
  {
   "cell_type": "code",
   "execution_count": 10,
   "metadata": {
    "id": "e4FNMTJvlgxL"
   },
   "outputs": [
    {
     "name": "stderr",
     "output_type": "stream",
     "text": [
      "2022-06-15 17:33:24.691517: I tensorflow/core/platform/cpu_feature_guard.cc:193] This TensorFlow binary is optimized with oneAPI Deep Neural Network Library (oneDNN) to use the following CPU instructions in performance-critical operations:  AVX2 FMA\n",
      "To enable them in other operations, rebuild TensorFlow with the appropriate compiler flags.\n"
     ]
    }
   ],
   "source": [
    "with open('data/refitted_models_BN.pkl','rb') as f:\n",
    "    models_refitted = pickle.load(f)\n",
    "with open('data/r_squared.pkl','rb') as f:\n",
    "    R2_oos_df = pickle.load(f)"
   ]
  },
  {
   "cell_type": "code",
   "execution_count": 11,
   "metadata": {},
   "outputs": [],
   "source": [
    "# from IPython.display import display\n",
    "sub = R2_oos_df[R2_oos_df['R2_OOS'] == R2_oos_df['R2_OOS'].max()].index[0]\n",
    "ind = R2_oos_df.index.tolist().index(sub)\n",
    "best_model = models_refitted[ind]"
   ]
  },
  {
   "cell_type": "code",
   "execution_count": 12,
   "metadata": {
    "colab": {
     "base_uri": "https://localhost:8080/"
    },
    "id": "VDzLErv3la-6",
    "outputId": "1845a8c3-8a17-477e-b1dc-08cc0738b9a7"
   },
   "outputs": [
    {
     "data": {
      "text/plain": [
       "0.8044151721482318"
      ]
     },
     "execution_count": 12,
     "metadata": {},
     "output_type": "execute_result"
    }
   ],
   "source": [
    "best_r_squared = max(R2_oos_df.iloc[:,0])\n",
    "best_r_squared * 100"
   ]
  },
  {
   "cell_type": "code",
   "execution_count": 14,
   "metadata": {
    "colab": {
     "base_uri": "https://localhost:8080/"
    },
    "id": "8OcByPQb-STG",
    "outputId": "13af639f-6184-44ea-c1e6-5fab55ed5246",
    "scrolled": true
   },
   "outputs": [
    {
     "name": "stderr",
     "output_type": "stream",
     "text": [
      "\r",
      "  0%|                                                   | 0/105 [00:00<?, ?it/s]"
     ]
    },
    {
     "name": "stdout",
     "output_type": "stream",
     "text": [
      "2922/2922 [==============================] - 2s 620us/step\n"
     ]
    },
    {
     "name": "stderr",
     "output_type": "stream",
     "text": [
      "\r",
      "  1%|▍                                          | 1/105 [00:04<08:17,  4.78s/it]"
     ]
    },
    {
     "name": "stdout",
     "output_type": "stream",
     "text": [
      "2922/2922 [==============================] - 2s 601us/step\n"
     ]
    },
    {
     "name": "stderr",
     "output_type": "stream",
     "text": [
      "\r",
      "  2%|▊                                          | 2/105 [00:08<07:23,  4.30s/it]"
     ]
    },
    {
     "name": "stdout",
     "output_type": "stream",
     "text": [
      "2922/2922 [==============================] - 2s 631us/step\n"
     ]
    },
    {
     "name": "stderr",
     "output_type": "stream",
     "text": [
      "\r",
      "  3%|█▏                                         | 3/105 [00:13<07:16,  4.28s/it]"
     ]
    },
    {
     "name": "stdout",
     "output_type": "stream",
     "text": [
      "2922/2922 [==============================] - 2s 611us/step\n"
     ]
    },
    {
     "name": "stderr",
     "output_type": "stream",
     "text": [
      "\r",
      "  4%|█▋                                         | 4/105 [00:17<07:09,  4.26s/it]"
     ]
    },
    {
     "name": "stdout",
     "output_type": "stream",
     "text": [
      "2922/2922 [==============================] - 2s 624us/step\n"
     ]
    },
    {
     "name": "stderr",
     "output_type": "stream",
     "text": [
      "\r",
      "  5%|██                                         | 5/105 [00:21<06:56,  4.17s/it]"
     ]
    },
    {
     "name": "stdout",
     "output_type": "stream",
     "text": [
      "2922/2922 [==============================] - 2s 618us/step\n"
     ]
    },
    {
     "name": "stderr",
     "output_type": "stream",
     "text": [
      "\r",
      "  6%|██▍                                        | 6/105 [00:25<06:52,  4.16s/it]"
     ]
    },
    {
     "name": "stdout",
     "output_type": "stream",
     "text": [
      "2922/2922 [==============================] - 2s 617us/step\n"
     ]
    },
    {
     "name": "stderr",
     "output_type": "stream",
     "text": [
      "\r",
      "  7%|██▊                                        | 7/105 [00:30<07:06,  4.35s/it]"
     ]
    },
    {
     "name": "stdout",
     "output_type": "stream",
     "text": [
      "2922/2922 [==============================] - 2s 725us/step\n"
     ]
    },
    {
     "name": "stderr",
     "output_type": "stream",
     "text": [
      "\r",
      "  8%|███▎                                       | 8/105 [00:34<07:02,  4.36s/it]"
     ]
    },
    {
     "name": "stdout",
     "output_type": "stream",
     "text": [
      "2922/2922 [==============================] - 2s 629us/step\n"
     ]
    },
    {
     "name": "stderr",
     "output_type": "stream",
     "text": [
      "\r",
      "  9%|███▋                                       | 9/105 [00:38<06:52,  4.30s/it]"
     ]
    },
    {
     "name": "stdout",
     "output_type": "stream",
     "text": [
      "2922/2922 [==============================] - 2s 691us/step\n"
     ]
    },
    {
     "name": "stderr",
     "output_type": "stream",
     "text": [
      "\r",
      " 10%|████                                      | 10/105 [00:43<06:54,  4.36s/it]"
     ]
    },
    {
     "name": "stdout",
     "output_type": "stream",
     "text": [
      "2922/2922 [==============================] - 2s 601us/step\n"
     ]
    },
    {
     "name": "stderr",
     "output_type": "stream",
     "text": [
      "\r",
      " 10%|████▍                                     | 11/105 [00:47<06:48,  4.34s/it]"
     ]
    },
    {
     "name": "stdout",
     "output_type": "stream",
     "text": [
      "2922/2922 [==============================] - 2s 634us/step\n"
     ]
    },
    {
     "name": "stderr",
     "output_type": "stream",
     "text": [
      "\r",
      " 11%|████▊                                     | 12/105 [00:51<06:41,  4.32s/it]"
     ]
    },
    {
     "name": "stdout",
     "output_type": "stream",
     "text": [
      "2922/2922 [==============================] - 2s 619us/step\n"
     ]
    },
    {
     "name": "stderr",
     "output_type": "stream",
     "text": [
      "\r",
      " 12%|█████▏                                    | 13/105 [00:55<06:32,  4.26s/it]"
     ]
    },
    {
     "name": "stdout",
     "output_type": "stream",
     "text": [
      "2922/2922 [==============================] - 2s 744us/step\n"
     ]
    },
    {
     "name": "stderr",
     "output_type": "stream",
     "text": [
      "\r",
      " 13%|█████▌                                    | 14/105 [01:00<06:47,  4.48s/it]"
     ]
    },
    {
     "name": "stdout",
     "output_type": "stream",
     "text": [
      "2922/2922 [==============================] - 2s 617us/step\n"
     ]
    },
    {
     "name": "stderr",
     "output_type": "stream",
     "text": [
      "\r",
      " 14%|██████                                    | 15/105 [01:05<06:39,  4.44s/it]"
     ]
    },
    {
     "name": "stdout",
     "output_type": "stream",
     "text": [
      "2922/2922 [==============================] - 2s 605us/step\n"
     ]
    },
    {
     "name": "stderr",
     "output_type": "stream",
     "text": [
      "\r",
      " 15%|██████▍                                   | 16/105 [01:09<06:24,  4.32s/it]"
     ]
    },
    {
     "name": "stdout",
     "output_type": "stream",
     "text": [
      "2922/2922 [==============================] - 2s 608us/step\n"
     ]
    },
    {
     "name": "stderr",
     "output_type": "stream",
     "text": [
      "\r",
      " 16%|██████▊                                   | 17/105 [01:13<06:13,  4.24s/it]"
     ]
    },
    {
     "name": "stdout",
     "output_type": "stream",
     "text": [
      "2922/2922 [==============================] - 2s 603us/step\n"
     ]
    },
    {
     "name": "stderr",
     "output_type": "stream",
     "text": [
      "\r",
      " 17%|███████▏                                  | 18/105 [01:17<06:04,  4.19s/it]"
     ]
    },
    {
     "name": "stdout",
     "output_type": "stream",
     "text": [
      "2922/2922 [==============================] - 2s 603us/step\n"
     ]
    },
    {
     "name": "stderr",
     "output_type": "stream",
     "text": [
      "\r",
      " 18%|███████▌                                  | 19/105 [01:21<06:00,  4.19s/it]"
     ]
    },
    {
     "name": "stdout",
     "output_type": "stream",
     "text": [
      "2922/2922 [==============================] - 2s 602us/step\n"
     ]
    },
    {
     "name": "stderr",
     "output_type": "stream",
     "text": [
      "\r",
      " 19%|████████                                  | 20/105 [01:25<05:52,  4.15s/it]"
     ]
    },
    {
     "name": "stdout",
     "output_type": "stream",
     "text": [
      "2922/2922 [==============================] - 2s 607us/step\n"
     ]
    },
    {
     "name": "stderr",
     "output_type": "stream",
     "text": [
      "\r",
      " 20%|████████▍                                 | 21/105 [01:29<05:48,  4.15s/it]"
     ]
    },
    {
     "name": "stdout",
     "output_type": "stream",
     "text": [
      "2922/2922 [==============================] - 2s 608us/step\n"
     ]
    },
    {
     "name": "stderr",
     "output_type": "stream",
     "text": [
      "\r",
      " 21%|████████▊                                 | 22/105 [01:33<05:41,  4.12s/it]"
     ]
    },
    {
     "name": "stdout",
     "output_type": "stream",
     "text": [
      "2922/2922 [==============================] - 2s 615us/step\n"
     ]
    },
    {
     "name": "stderr",
     "output_type": "stream",
     "text": [
      "\r",
      " 22%|█████████▏                                | 23/105 [01:38<05:40,  4.15s/it]"
     ]
    },
    {
     "name": "stdout",
     "output_type": "stream",
     "text": [
      "2922/2922 [==============================] - 2s 605us/step\n"
     ]
    },
    {
     "name": "stderr",
     "output_type": "stream",
     "text": [
      "\r",
      " 23%|█████████▌                                | 24/105 [01:42<05:42,  4.23s/it]"
     ]
    },
    {
     "name": "stdout",
     "output_type": "stream",
     "text": [
      "2922/2922 [==============================] - 2s 601us/step\n"
     ]
    },
    {
     "name": "stderr",
     "output_type": "stream",
     "text": [
      "\r",
      " 24%|██████████                                | 25/105 [01:46<05:37,  4.21s/it]"
     ]
    },
    {
     "name": "stdout",
     "output_type": "stream",
     "text": [
      "2922/2922 [==============================] - 2s 603us/step\n"
     ]
    },
    {
     "name": "stderr",
     "output_type": "stream",
     "text": [
      "\r",
      " 25%|██████████▍                               | 26/105 [01:50<05:29,  4.17s/it]"
     ]
    },
    {
     "name": "stdout",
     "output_type": "stream",
     "text": [
      "2922/2922 [==============================] - 2s 612us/step\n"
     ]
    },
    {
     "name": "stderr",
     "output_type": "stream",
     "text": [
      "\r",
      " 26%|██████████▊                               | 27/105 [01:55<05:28,  4.22s/it]"
     ]
    },
    {
     "name": "stdout",
     "output_type": "stream",
     "text": [
      "2922/2922 [==============================] - 2s 609us/step\n"
     ]
    },
    {
     "name": "stderr",
     "output_type": "stream",
     "text": [
      "\r",
      " 27%|███████████▏                              | 28/105 [01:59<05:20,  4.17s/it]"
     ]
    },
    {
     "name": "stdout",
     "output_type": "stream",
     "text": [
      "2922/2922 [==============================] - 2s 602us/step\n"
     ]
    },
    {
     "name": "stderr",
     "output_type": "stream",
     "text": [
      "\r",
      " 28%|███████████▌                              | 29/105 [02:03<05:32,  4.38s/it]"
     ]
    },
    {
     "name": "stdout",
     "output_type": "stream",
     "text": [
      "2922/2922 [==============================] - 2s 602us/step\n"
     ]
    },
    {
     "name": "stderr",
     "output_type": "stream",
     "text": [
      "\r",
      " 29%|████████████                              | 30/105 [02:07<05:19,  4.26s/it]"
     ]
    },
    {
     "name": "stdout",
     "output_type": "stream",
     "text": [
      "2922/2922 [==============================] - 2s 608us/step\n"
     ]
    },
    {
     "name": "stderr",
     "output_type": "stream",
     "text": [
      "\r",
      " 30%|████████████▍                             | 31/105 [02:12<05:17,  4.29s/it]"
     ]
    },
    {
     "name": "stdout",
     "output_type": "stream",
     "text": [
      "2922/2922 [==============================] - 2s 600us/step\n"
     ]
    },
    {
     "name": "stderr",
     "output_type": "stream",
     "text": [
      "\r",
      " 30%|████████████▊                             | 32/105 [02:16<05:08,  4.22s/it]"
     ]
    },
    {
     "name": "stdout",
     "output_type": "stream",
     "text": [
      "2922/2922 [==============================] - 2s 608us/step\n"
     ]
    },
    {
     "name": "stderr",
     "output_type": "stream",
     "text": [
      "\r",
      " 31%|█████████████▏                            | 33/105 [02:20<05:01,  4.19s/it]"
     ]
    },
    {
     "name": "stdout",
     "output_type": "stream",
     "text": [
      "2922/2922 [==============================] - 2s 612us/step\n"
     ]
    },
    {
     "name": "stderr",
     "output_type": "stream",
     "text": [
      "\r",
      " 32%|█████████████▌                            | 34/105 [02:24<04:54,  4.15s/it]"
     ]
    },
    {
     "name": "stdout",
     "output_type": "stream",
     "text": [
      "2922/2922 [==============================] - 2s 605us/step\n"
     ]
    },
    {
     "name": "stderr",
     "output_type": "stream",
     "text": [
      "\r",
      " 33%|██████████████                            | 35/105 [02:28<04:50,  4.15s/it]"
     ]
    },
    {
     "name": "stdout",
     "output_type": "stream",
     "text": [
      "2922/2922 [==============================] - 2s 602us/step\n"
     ]
    },
    {
     "name": "stderr",
     "output_type": "stream",
     "text": [
      "\r",
      " 34%|██████████████▍                           | 36/105 [02:32<04:46,  4.15s/it]"
     ]
    },
    {
     "name": "stdout",
     "output_type": "stream",
     "text": [
      "2922/2922 [==============================] - 2s 609us/step\n"
     ]
    },
    {
     "name": "stderr",
     "output_type": "stream",
     "text": [
      "\r",
      " 35%|██████████████▊                           | 37/105 [02:37<04:43,  4.17s/it]"
     ]
    },
    {
     "name": "stdout",
     "output_type": "stream",
     "text": [
      "2922/2922 [==============================] - 2s 605us/step\n"
     ]
    },
    {
     "name": "stderr",
     "output_type": "stream",
     "text": [
      "\r",
      " 36%|███████████████▏                          | 38/105 [02:42<05:07,  4.59s/it]"
     ]
    },
    {
     "name": "stdout",
     "output_type": "stream",
     "text": [
      "2922/2922 [==============================] - 2s 595us/step\n"
     ]
    },
    {
     "name": "stderr",
     "output_type": "stream",
     "text": [
      "\r",
      " 37%|███████████████▌                          | 39/105 [02:46<04:46,  4.35s/it]"
     ]
    },
    {
     "name": "stdout",
     "output_type": "stream",
     "text": [
      "2922/2922 [==============================] - 2s 599us/step\n"
     ]
    },
    {
     "name": "stderr",
     "output_type": "stream",
     "text": [
      "\r",
      " 38%|████████████████                          | 40/105 [02:50<04:29,  4.15s/it]"
     ]
    },
    {
     "name": "stdout",
     "output_type": "stream",
     "text": [
      "2922/2922 [==============================] - 2s 601us/step\n"
     ]
    },
    {
     "name": "stderr",
     "output_type": "stream",
     "text": [
      "\r",
      " 39%|████████████████▍                         | 41/105 [02:53<04:16,  4.01s/it]"
     ]
    },
    {
     "name": "stdout",
     "output_type": "stream",
     "text": [
      "2922/2922 [==============================] - 2s 598us/step\n"
     ]
    },
    {
     "name": "stderr",
     "output_type": "stream",
     "text": [
      "\r",
      " 40%|████████████████▊                         | 42/105 [02:57<04:06,  3.92s/it]"
     ]
    },
    {
     "name": "stdout",
     "output_type": "stream",
     "text": [
      "2922/2922 [==============================] - 2s 629us/step\n"
     ]
    },
    {
     "name": "stderr",
     "output_type": "stream",
     "text": [
      "\r",
      " 41%|█████████████████▏                        | 43/105 [03:01<03:59,  3.86s/it]"
     ]
    },
    {
     "name": "stdout",
     "output_type": "stream",
     "text": [
      "2922/2922 [==============================] - 2s 598us/step\n"
     ]
    },
    {
     "name": "stderr",
     "output_type": "stream",
     "text": [
      "\r",
      " 42%|█████████████████▌                        | 44/105 [03:04<03:53,  3.82s/it]"
     ]
    },
    {
     "name": "stdout",
     "output_type": "stream",
     "text": [
      "2922/2922 [==============================] - 3s 908us/step\n"
     ]
    },
    {
     "name": "stderr",
     "output_type": "stream",
     "text": [
      "\r",
      " 43%|██████████████████                        | 45/105 [03:10<04:12,  4.21s/it]"
     ]
    },
    {
     "name": "stdout",
     "output_type": "stream",
     "text": [
      "2922/2922 [==============================] - 3s 997us/step\n"
     ]
    },
    {
     "name": "stderr",
     "output_type": "stream",
     "text": [
      "\r",
      " 44%|██████████████████▍                       | 46/105 [03:15<04:33,  4.64s/it]"
     ]
    },
    {
     "name": "stdout",
     "output_type": "stream",
     "text": [
      "2922/2922 [==============================] - 2s 599us/step\n"
     ]
    },
    {
     "name": "stderr",
     "output_type": "stream",
     "text": [
      "\r",
      " 45%|██████████████████▊                       | 47/105 [03:19<04:14,  4.39s/it]"
     ]
    },
    {
     "name": "stdout",
     "output_type": "stream",
     "text": [
      "2922/2922 [==============================] - 2s 635us/step\n"
     ]
    },
    {
     "name": "stderr",
     "output_type": "stream",
     "text": [
      "\r",
      " 46%|███████████████████▏                      | 48/105 [03:23<04:02,  4.26s/it]"
     ]
    },
    {
     "name": "stdout",
     "output_type": "stream",
     "text": [
      "2922/2922 [==============================] - 2s 680us/step\n"
     ]
    },
    {
     "name": "stderr",
     "output_type": "stream",
     "text": [
      "\r",
      " 47%|███████████████████▌                      | 49/105 [03:27<03:54,  4.19s/it]"
     ]
    },
    {
     "name": "stdout",
     "output_type": "stream",
     "text": [
      "2922/2922 [==============================] - 2s 602us/step\n"
     ]
    },
    {
     "name": "stderr",
     "output_type": "stream",
     "text": [
      "\r",
      " 48%|████████████████████                      | 50/105 [03:31<03:43,  4.06s/it]"
     ]
    },
    {
     "name": "stdout",
     "output_type": "stream",
     "text": [
      "2922/2922 [==============================] - 2s 599us/step\n"
     ]
    },
    {
     "name": "stderr",
     "output_type": "stream",
     "text": [
      "\r",
      " 49%|████████████████████▍                     | 51/105 [03:35<03:34,  3.98s/it]"
     ]
    },
    {
     "name": "stdout",
     "output_type": "stream",
     "text": [
      "2922/2922 [==============================] - 2s 609us/step\n"
     ]
    },
    {
     "name": "stderr",
     "output_type": "stream",
     "text": [
      "\r",
      " 50%|████████████████████▊                     | 52/105 [03:39<03:33,  4.02s/it]"
     ]
    },
    {
     "name": "stdout",
     "output_type": "stream",
     "text": [
      "2922/2922 [==============================] - 2s 620us/step\n"
     ]
    },
    {
     "name": "stderr",
     "output_type": "stream",
     "text": [
      "\r",
      " 50%|█████████████████████▏                    | 53/105 [03:43<03:34,  4.13s/it]"
     ]
    },
    {
     "name": "stdout",
     "output_type": "stream",
     "text": [
      "2922/2922 [==============================] - 2s 600us/step\n"
     ]
    },
    {
     "name": "stderr",
     "output_type": "stream",
     "text": [
      "\r",
      " 51%|█████████████████████▌                    | 54/105 [03:47<03:30,  4.13s/it]"
     ]
    },
    {
     "name": "stdout",
     "output_type": "stream",
     "text": [
      "2922/2922 [==============================] - 2s 622us/step\n"
     ]
    },
    {
     "name": "stderr",
     "output_type": "stream",
     "text": [
      "\r",
      " 52%|██████████████████████                    | 55/105 [03:51<03:27,  4.15s/it]"
     ]
    },
    {
     "name": "stdout",
     "output_type": "stream",
     "text": [
      "2922/2922 [==============================] - 2s 603us/step\n"
     ]
    },
    {
     "name": "stderr",
     "output_type": "stream",
     "text": [
      "\r",
      " 53%|██████████████████████▍                   | 56/105 [03:55<03:19,  4.08s/it]"
     ]
    },
    {
     "name": "stdout",
     "output_type": "stream",
     "text": [
      "2922/2922 [==============================] - 2s 608us/step\n"
     ]
    },
    {
     "name": "stderr",
     "output_type": "stream",
     "text": [
      "\r",
      " 54%|██████████████████████▊                   | 57/105 [03:59<03:14,  4.05s/it]"
     ]
    },
    {
     "name": "stdout",
     "output_type": "stream",
     "text": [
      "2922/2922 [==============================] - 2s 598us/step\n"
     ]
    },
    {
     "name": "stderr",
     "output_type": "stream",
     "text": [
      "\r",
      " 55%|███████████████████████▏                  | 58/105 [04:03<03:09,  4.04s/it]"
     ]
    },
    {
     "name": "stdout",
     "output_type": "stream",
     "text": [
      "2922/2922 [==============================] - 2s 608us/step\n"
     ]
    },
    {
     "name": "stderr",
     "output_type": "stream",
     "text": [
      "\r",
      " 56%|███████████████████████▌                  | 59/105 [04:07<03:06,  4.06s/it]"
     ]
    },
    {
     "name": "stdout",
     "output_type": "stream",
     "text": [
      "2922/2922 [==============================] - 2s 602us/step\n"
     ]
    },
    {
     "name": "stderr",
     "output_type": "stream",
     "text": [
      "\r",
      " 57%|████████████████████████                  | 60/105 [04:11<03:03,  4.07s/it]"
     ]
    },
    {
     "name": "stdout",
     "output_type": "stream",
     "text": [
      "2922/2922 [==============================] - 2s 635us/step\n"
     ]
    },
    {
     "name": "stderr",
     "output_type": "stream",
     "text": [
      "\r",
      " 58%|████████████████████████▍                 | 61/105 [04:16<03:06,  4.24s/it]"
     ]
    },
    {
     "name": "stdout",
     "output_type": "stream",
     "text": [
      "2922/2922 [==============================] - 2s 602us/step\n"
     ]
    },
    {
     "name": "stderr",
     "output_type": "stream",
     "text": [
      "\r",
      " 59%|████████████████████████▊                 | 62/105 [04:20<02:58,  4.15s/it]"
     ]
    },
    {
     "name": "stdout",
     "output_type": "stream",
     "text": [
      "2922/2922 [==============================] - 2s 598us/step\n"
     ]
    },
    {
     "name": "stderr",
     "output_type": "stream",
     "text": [
      "\r",
      " 60%|█████████████████████████▏                | 63/105 [04:24<02:50,  4.07s/it]"
     ]
    },
    {
     "name": "stdout",
     "output_type": "stream",
     "text": [
      "2922/2922 [==============================] - 2s 617us/step\n"
     ]
    },
    {
     "name": "stderr",
     "output_type": "stream",
     "text": [
      "\r",
      " 61%|█████████████████████████▌                | 64/105 [04:28<02:45,  4.04s/it]"
     ]
    },
    {
     "name": "stdout",
     "output_type": "stream",
     "text": [
      "2922/2922 [==============================] - 2s 601us/step\n"
     ]
    },
    {
     "name": "stderr",
     "output_type": "stream",
     "text": [
      "\r",
      " 62%|██████████████████████████                | 65/105 [04:32<02:40,  4.00s/it]"
     ]
    },
    {
     "name": "stdout",
     "output_type": "stream",
     "text": [
      "2922/2922 [==============================] - 2s 597us/step\n"
     ]
    },
    {
     "name": "stderr",
     "output_type": "stream",
     "text": [
      "\r",
      " 63%|██████████████████████████▍               | 66/105 [04:37<02:46,  4.27s/it]"
     ]
    },
    {
     "name": "stdout",
     "output_type": "stream",
     "text": [
      "2922/2922 [==============================] - 2s 601us/step\n"
     ]
    },
    {
     "name": "stderr",
     "output_type": "stream",
     "text": [
      "\r",
      " 64%|██████████████████████████▊               | 67/105 [04:40<02:36,  4.11s/it]"
     ]
    },
    {
     "name": "stdout",
     "output_type": "stream",
     "text": [
      "2922/2922 [==============================] - 2s 602us/step\n"
     ]
    },
    {
     "name": "stderr",
     "output_type": "stream",
     "text": [
      "\r",
      " 65%|███████████████████████████▏              | 68/105 [04:44<02:27,  3.99s/it]"
     ]
    },
    {
     "name": "stdout",
     "output_type": "stream",
     "text": [
      "2922/2922 [==============================] - 2s 595us/step\n"
     ]
    },
    {
     "name": "stderr",
     "output_type": "stream",
     "text": [
      "\r",
      " 66%|███████████████████████████▌              | 69/105 [04:48<02:21,  3.92s/it]"
     ]
    },
    {
     "name": "stdout",
     "output_type": "stream",
     "text": [
      "2922/2922 [==============================] - 2s 599us/step\n"
     ]
    },
    {
     "name": "stderr",
     "output_type": "stream",
     "text": [
      "\r",
      " 67%|████████████████████████████              | 70/105 [04:52<02:15,  3.86s/it]"
     ]
    },
    {
     "name": "stdout",
     "output_type": "stream",
     "text": [
      "2922/2922 [==============================] - 2s 597us/step\n"
     ]
    },
    {
     "name": "stderr",
     "output_type": "stream",
     "text": [
      "\r",
      " 68%|████████████████████████████▍             | 71/105 [04:55<02:10,  3.83s/it]"
     ]
    },
    {
     "name": "stdout",
     "output_type": "stream",
     "text": [
      "2922/2922 [==============================] - 2s 608us/step\n"
     ]
    },
    {
     "name": "stderr",
     "output_type": "stream",
     "text": [
      "\r",
      " 69%|████████████████████████████▊             | 72/105 [04:59<02:05,  3.81s/it]"
     ]
    },
    {
     "name": "stdout",
     "output_type": "stream",
     "text": [
      "2922/2922 [==============================] - 2s 604us/step\n"
     ]
    },
    {
     "name": "stderr",
     "output_type": "stream",
     "text": [
      "\r",
      " 70%|█████████████████████████████▏            | 73/105 [05:03<02:01,  3.80s/it]"
     ]
    },
    {
     "name": "stdout",
     "output_type": "stream",
     "text": [
      "2922/2922 [==============================] - 2s 598us/step\n"
     ]
    },
    {
     "name": "stderr",
     "output_type": "stream",
     "text": [
      "\r",
      " 70%|█████████████████████████████▌            | 74/105 [05:07<01:57,  3.79s/it]"
     ]
    },
    {
     "name": "stdout",
     "output_type": "stream",
     "text": [
      "2922/2922 [==============================] - 2s 599us/step\n"
     ]
    },
    {
     "name": "stderr",
     "output_type": "stream",
     "text": [
      "\r",
      " 71%|██████████████████████████████            | 75/105 [05:10<01:53,  3.78s/it]"
     ]
    },
    {
     "name": "stdout",
     "output_type": "stream",
     "text": [
      "2922/2922 [==============================] - 2s 604us/step\n"
     ]
    },
    {
     "name": "stderr",
     "output_type": "stream",
     "text": [
      "\r",
      " 72%|██████████████████████████████▍           | 76/105 [05:14<01:49,  3.78s/it]"
     ]
    },
    {
     "name": "stdout",
     "output_type": "stream",
     "text": [
      "2922/2922 [==============================] - 2s 603us/step\n"
     ]
    },
    {
     "name": "stderr",
     "output_type": "stream",
     "text": [
      "\r",
      " 73%|██████████████████████████████▊           | 77/105 [05:18<01:45,  3.77s/it]"
     ]
    },
    {
     "name": "stdout",
     "output_type": "stream",
     "text": [
      "2922/2922 [==============================] - 2s 608us/step\n"
     ]
    },
    {
     "name": "stderr",
     "output_type": "stream",
     "text": [
      "\r",
      " 74%|███████████████████████████████▏          | 78/105 [05:22<01:42,  3.78s/it]"
     ]
    },
    {
     "name": "stdout",
     "output_type": "stream",
     "text": [
      "2922/2922 [==============================] - 2s 615us/step\n"
     ]
    },
    {
     "name": "stderr",
     "output_type": "stream",
     "text": [
      "\r",
      " 75%|███████████████████████████████▌          | 79/105 [05:26<01:38,  3.78s/it]"
     ]
    },
    {
     "name": "stdout",
     "output_type": "stream",
     "text": [
      "2922/2922 [==============================] - 2s 620us/step\n"
     ]
    },
    {
     "name": "stderr",
     "output_type": "stream",
     "text": [
      "\r",
      " 76%|████████████████████████████████          | 80/105 [05:29<01:35,  3.80s/it]"
     ]
    },
    {
     "name": "stdout",
     "output_type": "stream",
     "text": [
      "2922/2922 [==============================] - 2s 597us/step\n"
     ]
    },
    {
     "name": "stderr",
     "output_type": "stream",
     "text": [
      "\r",
      " 77%|████████████████████████████████▍         | 81/105 [05:33<01:31,  3.81s/it]"
     ]
    },
    {
     "name": "stdout",
     "output_type": "stream",
     "text": [
      "2922/2922 [==============================] - 2s 600us/step\n"
     ]
    },
    {
     "name": "stderr",
     "output_type": "stream",
     "text": [
      "\r",
      " 78%|████████████████████████████████▊         | 82/105 [05:37<01:28,  3.86s/it]"
     ]
    },
    {
     "name": "stdout",
     "output_type": "stream",
     "text": [
      "2922/2922 [==============================] - 2s 602us/step\n"
     ]
    },
    {
     "name": "stderr",
     "output_type": "stream",
     "text": [
      "\r",
      " 79%|█████████████████████████████████▏        | 83/105 [05:41<01:26,  3.95s/it]"
     ]
    },
    {
     "name": "stdout",
     "output_type": "stream",
     "text": [
      "2922/2922 [==============================] - 2s 623us/step\n"
     ]
    },
    {
     "name": "stderr",
     "output_type": "stream",
     "text": [
      "\r",
      " 80%|█████████████████████████████████▌        | 84/105 [05:45<01:23,  3.99s/it]"
     ]
    },
    {
     "name": "stdout",
     "output_type": "stream",
     "text": [
      "2922/2922 [==============================] - 2s 598us/step\n"
     ]
    },
    {
     "name": "stderr",
     "output_type": "stream",
     "text": [
      "\r",
      " 81%|██████████████████████████████████        | 85/105 [05:50<01:20,  4.02s/it]"
     ]
    },
    {
     "name": "stdout",
     "output_type": "stream",
     "text": [
      "2922/2922 [==============================] - 2s 720us/step\n"
     ]
    },
    {
     "name": "stderr",
     "output_type": "stream",
     "text": [
      "\r",
      " 82%|██████████████████████████████████▍       | 86/105 [05:56<01:29,  4.71s/it]"
     ]
    },
    {
     "name": "stdout",
     "output_type": "stream",
     "text": [
      "2922/2922 [==============================] - 2s 610us/step\n"
     ]
    },
    {
     "name": "stderr",
     "output_type": "stream",
     "text": [
      "\r",
      " 83%|██████████████████████████████████▊       | 87/105 [06:00<01:20,  4.49s/it]"
     ]
    },
    {
     "name": "stdout",
     "output_type": "stream",
     "text": [
      "2922/2922 [==============================] - 2s 598us/step\n"
     ]
    },
    {
     "name": "stderr",
     "output_type": "stream",
     "text": [
      "\r",
      " 84%|███████████████████████████████████▏      | 88/105 [06:04<01:12,  4.28s/it]"
     ]
    },
    {
     "name": "stdout",
     "output_type": "stream",
     "text": [
      "2922/2922 [==============================] - 2s 597us/step\n"
     ]
    },
    {
     "name": "stderr",
     "output_type": "stream",
     "text": [
      "\r",
      " 85%|███████████████████████████████████▌      | 89/105 [06:07<01:06,  4.14s/it]"
     ]
    },
    {
     "name": "stdout",
     "output_type": "stream",
     "text": [
      "2922/2922 [==============================] - 2s 612us/step\n"
     ]
    },
    {
     "name": "stderr",
     "output_type": "stream",
     "text": [
      "\r",
      " 86%|████████████████████████████████████      | 90/105 [06:11<01:00,  4.05s/it]"
     ]
    },
    {
     "name": "stdout",
     "output_type": "stream",
     "text": [
      "2922/2922 [==============================] - 2s 678us/step\n"
     ]
    },
    {
     "name": "stderr",
     "output_type": "stream",
     "text": [
      "\r",
      " 87%|████████████████████████████████████▍     | 91/105 [06:15<00:56,  4.03s/it]"
     ]
    },
    {
     "name": "stdout",
     "output_type": "stream",
     "text": [
      "2922/2922 [==============================] - 2s 608us/step\n"
     ]
    },
    {
     "name": "stderr",
     "output_type": "stream",
     "text": [
      "\r",
      " 88%|████████████████████████████████████▊     | 92/105 [06:20<00:53,  4.09s/it]"
     ]
    },
    {
     "name": "stdout",
     "output_type": "stream",
     "text": [
      "2922/2922 [==============================] - 2s 596us/step\n"
     ]
    },
    {
     "name": "stderr",
     "output_type": "stream",
     "text": [
      "\r",
      " 89%|█████████████████████████████████████▏    | 93/105 [06:23<00:48,  4.04s/it]"
     ]
    },
    {
     "name": "stdout",
     "output_type": "stream",
     "text": [
      "2922/2922 [==============================] - 2s 600us/step\n"
     ]
    },
    {
     "name": "stderr",
     "output_type": "stream",
     "text": [
      "\r",
      " 90%|█████████████████████████████████████▌    | 94/105 [06:27<00:44,  4.01s/it]"
     ]
    },
    {
     "name": "stdout",
     "output_type": "stream",
     "text": [
      "2922/2922 [==============================] - 2s 605us/step\n"
     ]
    },
    {
     "name": "stderr",
     "output_type": "stream",
     "text": [
      "\r",
      " 90%|██████████████████████████████████████    | 95/105 [06:31<00:40,  4.01s/it]"
     ]
    },
    {
     "name": "stdout",
     "output_type": "stream",
     "text": [
      "2922/2922 [==============================] - 2s 619us/step\n"
     ]
    },
    {
     "name": "stderr",
     "output_type": "stream",
     "text": [
      "\r",
      " 91%|██████████████████████████████████████▍   | 96/105 [06:36<00:36,  4.06s/it]"
     ]
    },
    {
     "name": "stdout",
     "output_type": "stream",
     "text": [
      "2922/2922 [==============================] - 2s 601us/step\n"
     ]
    },
    {
     "name": "stderr",
     "output_type": "stream",
     "text": [
      "\r",
      " 92%|██████████████████████████████████████▊   | 97/105 [06:41<00:35,  4.45s/it]"
     ]
    },
    {
     "name": "stdout",
     "output_type": "stream",
     "text": [
      "2922/2922 [==============================] - 2s 595us/step\n"
     ]
    },
    {
     "name": "stderr",
     "output_type": "stream",
     "text": [
      "\r",
      " 93%|███████████████████████████████████████▏  | 98/105 [06:45<00:29,  4.22s/it]"
     ]
    },
    {
     "name": "stdout",
     "output_type": "stream",
     "text": [
      "2922/2922 [==============================] - 2s 595us/step\n"
     ]
    },
    {
     "name": "stderr",
     "output_type": "stream",
     "text": [
      "\r",
      " 94%|███████████████████████████████████████▌  | 99/105 [06:48<00:24,  4.06s/it]"
     ]
    },
    {
     "name": "stdout",
     "output_type": "stream",
     "text": [
      "2922/2922 [==============================] - 2s 595us/step\n"
     ]
    },
    {
     "name": "stderr",
     "output_type": "stream",
     "text": [
      "\r",
      " 95%|███████████████████████████████████████  | 100/105 [06:52<00:19,  3.95s/it]"
     ]
    },
    {
     "name": "stdout",
     "output_type": "stream",
     "text": [
      "2922/2922 [==============================] - 2s 599us/step\n"
     ]
    },
    {
     "name": "stderr",
     "output_type": "stream",
     "text": [
      "\r",
      " 96%|███████████████████████████████████████▍ | 101/105 [06:56<00:15,  3.88s/it]"
     ]
    },
    {
     "name": "stdout",
     "output_type": "stream",
     "text": [
      "2922/2922 [==============================] - 2s 616us/step\n"
     ]
    },
    {
     "name": "stderr",
     "output_type": "stream",
     "text": [
      "\r",
      " 97%|███████████████████████████████████████▊ | 102/105 [07:00<00:11,  3.85s/it]"
     ]
    },
    {
     "name": "stdout",
     "output_type": "stream",
     "text": [
      "2922/2922 [==============================] - 2s 600us/step\n"
     ]
    },
    {
     "name": "stderr",
     "output_type": "stream",
     "text": [
      "\r",
      " 98%|████████████████████████████████████████▏| 103/105 [07:03<00:07,  3.80s/it]"
     ]
    },
    {
     "name": "stdout",
     "output_type": "stream",
     "text": [
      "2922/2922 [==============================] - 2s 599us/step\n"
     ]
    },
    {
     "name": "stderr",
     "output_type": "stream",
     "text": [
      "\r",
      " 99%|████████████████████████████████████████▌| 104/105 [07:07<00:03,  3.79s/it]"
     ]
    },
    {
     "name": "stdout",
     "output_type": "stream",
     "text": [
      "2922/2922 [==============================] - 2s 597us/step\n"
     ]
    },
    {
     "name": "stderr",
     "output_type": "stream",
     "text": [
      "100%|█████████████████████████████████████████| 105/105 [07:11<00:00,  4.11s/it]\n"
     ]
    }
   ],
   "source": [
    "feature_importance = {}\n",
    "for column_name in tqdm(X_train.columns):\n",
    "    X_tmp = X_test.copy()\n",
    "    X_tmp[column_name] = 0\n",
    "    y_pred_temp = best_model.predict(X_tmp, batch_size=256).reshape(-1,1)\n",
    "    feature_importance[column_name] = best_r_squared - r_squared(y_pred_temp, y_test)[0]\n"
   ]
  },
  {
   "cell_type": "code",
   "execution_count": 15,
   "metadata": {},
   "outputs": [
    {
     "data": {
      "text/plain": [
       "array(['cfp', 'stdacc', 'zerotrade', 'turn', 'tbl', 'std_dolvol', 'b/m',\n",
       "       'crsp_spvw', 'ep_y', 'dp'], dtype=object)"
      ]
     },
     "execution_count": 15,
     "metadata": {},
     "output_type": "execute_result"
    }
   ],
   "source": [
    "importance_df = pd.DataFrame.from_dict(feature_importance, orient='index', columns=['magnitude'])\n",
    "# Retrieve 10 most significant\n",
    "df_10 = importance_df.sort_values('magnitude').iloc[-10:,]\n",
    "# Display most significant features\n",
    "df_10.index.values"
   ]
  },
  {
   "cell_type": "code",
   "execution_count": 16,
   "metadata": {
    "id": "Lh8WKrOaSNBN"
   },
   "outputs": [
    {
     "data": {
      "image/png": "[encoded data removed]",
      "text/plain": [
       "<Figure size 1440x360 with 1 Axes>"
      ]
     },
     "metadata": {
      "needs_background": "light"
     },
     "output_type": "display_data"
    }
   ],
   "source": [
    "# Display chart\n",
    "plt.figure(figsize=(20,5))\n",
    "plt.barh(np.arange(len(df_10)),df_10.magnitude.values)\n",
    "plt.yticks(np.arange(len(df_10)),df_10.index.values)\n",
    "plt.title('Feature Importance',size=16)\n",
    "plt.show()"
   ]
  },
  {
   "cell_type": "markdown",
   "metadata": {},
   "source": [
    "We could not infer the exact meaning of dp. We have looked into the data specification in the annex of the paper and could not find any coinding with dp. We suspect that it could be dividend to price factor. <br><br>\n",
    "The other most significant factors are e/p, b/m, crsp_spvw and st_dolvol. The first three factors are well-known macro factors. These results suggest that all most of the explainability of the model is dominated by macro factors."
   ]
  },
  {
   "cell_type": "markdown",
   "metadata": {
    "id": "Sc-gagOLc0gV"
   },
   "source": [
    "### b.\tSecond, get a measure of the joint importance of all our “macro predictors” (i.e., those taken from Welch and Goyal 2008), by setting them all to zero and finding the decrease in out of sample R2. Comment on how important macroeconomic variables are relative to stock characteristics in predicting returns. "
   ]
  },
  {
   "cell_type": "code",
   "execution_count": 21,
   "metadata": {},
   "outputs": [
    {
     "data": {
      "text/plain": [
       "Index(['dp', 'ep_y', 'b/m', 'crsp_spvw', 'svar', 'tbl', 'tms', 'dfy', 'dfr',\n",
       "       'ntis', 'infl'],\n",
       "      dtype='object')"
      ]
     },
     "execution_count": 21,
     "metadata": {},
     "output_type": "execute_result"
    }
   ],
   "source": [
    "X_train.columns[-11:]"
   ]
  },
  {
   "cell_type": "code",
   "execution_count": 22,
   "metadata": {
    "scrolled": true
   },
   "outputs": [
    {
     "name": "stderr",
     "output_type": "stream",
     "text": [
      "\r",
      "  0%|                                                    | 0/11 [00:00<?, ?it/s]"
     ]
    },
    {
     "name": "stdout",
     "output_type": "stream",
     "text": [
      "2922/2922 [==============================] - 2s 611us/step\n"
     ]
    },
    {
     "name": "stderr",
     "output_type": "stream",
     "text": [
      "\r",
      "  9%|████                                        | 1/11 [00:03<00:39,  3.93s/it]"
     ]
    },
    {
     "name": "stdout",
     "output_type": "stream",
     "text": [
      "2922/2922 [==============================] - 2s 614us/step\n"
     ]
    },
    {
     "name": "stderr",
     "output_type": "stream",
     "text": [
      "\r",
      " 18%|████████                                    | 2/11 [00:07<00:35,  3.93s/it]"
     ]
    },
    {
     "name": "stdout",
     "output_type": "stream",
     "text": [
      "2922/2922 [==============================] - 2s 601us/step\n"
     ]
    },
    {
     "name": "stderr",
     "output_type": "stream",
     "text": [
      "\r",
      " 27%|████████████                                | 3/11 [00:11<00:31,  3.90s/it]"
     ]
    },
    {
     "name": "stdout",
     "output_type": "stream",
     "text": [
      "2922/2922 [==============================] - 2s 603us/step\n"
     ]
    },
    {
     "name": "stderr",
     "output_type": "stream",
     "text": [
      "\r",
      " 36%|████████████████                            | 4/11 [00:15<00:27,  3.94s/it]"
     ]
    },
    {
     "name": "stdout",
     "output_type": "stream",
     "text": [
      "2922/2922 [==============================] - 2s 601us/step\n"
     ]
    },
    {
     "name": "stderr",
     "output_type": "stream",
     "text": [
      "\r",
      " 45%|████████████████████                        | 5/11 [00:19<00:23,  3.95s/it]"
     ]
    },
    {
     "name": "stdout",
     "output_type": "stream",
     "text": [
      "2922/2922 [==============================] - 2s 606us/step\n"
     ]
    },
    {
     "name": "stderr",
     "output_type": "stream",
     "text": [
      "\r",
      " 55%|████████████████████████                    | 6/11 [00:23<00:19,  3.98s/it]"
     ]
    },
    {
     "name": "stdout",
     "output_type": "stream",
     "text": [
      "2922/2922 [==============================] - 2s 598us/step\n"
     ]
    },
    {
     "name": "stderr",
     "output_type": "stream",
     "text": [
      "\r",
      " 64%|████████████████████████████                | 7/11 [00:27<00:15,  3.98s/it]"
     ]
    },
    {
     "name": "stdout",
     "output_type": "stream",
     "text": [
      "2922/2922 [==============================] - 2s 616us/step\n"
     ]
    },
    {
     "name": "stderr",
     "output_type": "stream",
     "text": [
      "\r",
      " 73%|████████████████████████████████            | 8/11 [00:31<00:11,  3.99s/it]"
     ]
    },
    {
     "name": "stdout",
     "output_type": "stream",
     "text": [
      "2922/2922 [==============================] - 2s 602us/step\n"
     ]
    },
    {
     "name": "stderr",
     "output_type": "stream",
     "text": [
      "\r",
      " 82%|████████████████████████████████████        | 9/11 [00:35<00:08,  4.04s/it]"
     ]
    },
    {
     "name": "stdout",
     "output_type": "stream",
     "text": [
      "2922/2922 [==============================] - 2s 623us/step\n"
     ]
    },
    {
     "name": "stderr",
     "output_type": "stream",
     "text": [
      "\r",
      " 91%|███████████████████████████████████████    | 10/11 [00:40<00:04,  4.12s/it]"
     ]
    },
    {
     "name": "stdout",
     "output_type": "stream",
     "text": [
      "2922/2922 [==============================] - 2s 621us/step\n"
     ]
    },
    {
     "name": "stderr",
     "output_type": "stream",
     "text": [
      "100%|███████████████████████████████████████████| 11/11 [00:44<00:00,  4.03s/it]\n"
     ]
    }
   ],
   "source": [
    "feature_importance = {}\n",
    "for column_name in tqdm(X_train.columns[-11:]):\n",
    "    X_tmp = X_test.copy()\n",
    "    X_tmp[column_name] = 0\n",
    "    y_pred_temp = best_model.predict(X_tmp, batch_size=256).reshape(-1,1)\n",
    "    feature_importance[column_name] = best_r_squared - r_squared(y_pred_temp, y_test)[0]"
   ]
  },
  {
   "cell_type": "code",
   "execution_count": 23,
   "metadata": {},
   "outputs": [],
   "source": [
    "importance_df = pd.DataFrame.from_dict(feature_importance, orient='index', columns=['magnitude'])\n",
    "importance_df = importance_df.sort_values(by=['magnitude'])"
   ]
  },
  {
   "cell_type": "code",
   "execution_count": 24,
   "metadata": {},
   "outputs": [
    {
     "data": {
      "image/png": "[encoded data removed]",
      "text/plain": [
       "<Figure size 1440x360 with 1 Axes>"
      ]
     },
     "metadata": {
      "needs_background": "light"
     },
     "output_type": "display_data"
    }
   ],
   "source": [
    "# Display chart\n",
    "plt.figure(figsize=(20,5))\n",
    "plt.barh(np.arange(len(importance_df)),importance_df.magnitude.values)\n",
    "plt.yticks(np.arange(len(importance_df)),importance_df.index.values)\n",
    "plt.title('Feature Importance',size=16)\n",
    "plt.show()"
   ]
  },
  {
   "cell_type": "markdown",
   "metadata": {},
   "source": [
    "As presented in (b), the macro factors seem to capture much of the explainability of our model. DP, e/p, crspvw and b/m seem to be the most significant. In fact, as previously shown, they dominate the top ten score on variable predictability of all the variables (stock + macro)."
   ]
  },
  {
   "cell_type": "markdown",
   "metadata": {
    "id": "AX8kVzNQc0gV"
   },
   "source": [
    "c.\tRepeat the two steps above, but by using a measure of the sensitivity of predictions to each input variable, as outlined in the lectures."
   ]
  },
  {
   "cell_type": "markdown",
   "metadata": {},
   "source": [
    "**Due to the huge amount of variables, sensitivity analysis of only the top 10 most significant variables displayed in (a) will be carried out.**"
   ]
  },
  {
   "cell_type": "code",
   "execution_count": 25,
   "metadata": {
    "scrolled": true
   },
   "outputs": [
    {
     "name": "stdout",
     "output_type": "stream",
     "text": [
      "Computing feature importance...\n"
     ]
    },
    {
     "name": "stderr",
     "output_type": "stream",
     "text": [
      "\r",
      "  0%|                                                    | 0/10 [00:00<?, ?it/s]"
     ]
    },
    {
     "name": "stdout",
     "output_type": "stream",
     "text": [
      "2922/2922 [==============================] - 2s 645us/step\n"
     ]
    },
    {
     "name": "stderr",
     "output_type": "stream",
     "text": [
      "\r",
      " 10%|████▍                                       | 1/10 [00:44<06:44, 44.94s/it]"
     ]
    },
    {
     "name": "stdout",
     "output_type": "stream",
     "text": [
      "2922/2922 [==============================] - 2s 589us/step\n"
     ]
    },
    {
     "name": "stderr",
     "output_type": "stream",
     "text": [
      "\r",
      " 20%|████████▊                                   | 2/10 [01:25<05:40, 42.55s/it]"
     ]
    },
    {
     "name": "stdout",
     "output_type": "stream",
     "text": [
      "2922/2922 [==============================] - 2s 729us/step\n"
     ]
    },
    {
     "name": "stderr",
     "output_type": "stream",
     "text": [
      "\r",
      " 30%|█████████████▏                              | 3/10 [02:08<04:58, 42.62s/it]"
     ]
    },
    {
     "name": "stdout",
     "output_type": "stream",
     "text": [
      "2922/2922 [==============================] - 2s 581us/step\n"
     ]
    },
    {
     "name": "stderr",
     "output_type": "stream",
     "text": [
      "\r",
      " 40%|█████████████████▌                          | 4/10 [02:50<04:13, 42.32s/it]"
     ]
    },
    {
     "name": "stdout",
     "output_type": "stream",
     "text": [
      "2922/2922 [==============================] - 2s 586us/step\n"
     ]
    },
    {
     "name": "stderr",
     "output_type": "stream",
     "text": [
      "\r",
      " 50%|██████████████████████                      | 5/10 [03:32<03:31, 42.30s/it]"
     ]
    },
    {
     "name": "stdout",
     "output_type": "stream",
     "text": [
      "2922/2922 [==============================] - 2s 797us/step\n"
     ]
    },
    {
     "name": "stderr",
     "output_type": "stream",
     "text": [
      "\r",
      " 60%|██████████████████████████▍                 | 6/10 [04:20<02:57, 44.31s/it]"
     ]
    },
    {
     "name": "stdout",
     "output_type": "stream",
     "text": [
      "2922/2922 [==============================] - 2s 601us/step\n"
     ]
    },
    {
     "name": "stderr",
     "output_type": "stream",
     "text": [
      "\r",
      " 70%|██████████████████████████████▊             | 7/10 [05:09<02:17, 45.84s/it]"
     ]
    },
    {
     "name": "stdout",
     "output_type": "stream",
     "text": [
      "2922/2922 [==============================] - 2s 617us/step\n"
     ]
    },
    {
     "name": "stderr",
     "output_type": "stream",
     "text": [
      "\r",
      " 80%|███████████████████████████████████▏        | 8/10 [05:57<01:32, 46.31s/it]"
     ]
    },
    {
     "name": "stdout",
     "output_type": "stream",
     "text": [
      "2922/2922 [==============================] - 2s 651us/step\n"
     ]
    },
    {
     "name": "stderr",
     "output_type": "stream",
     "text": [
      "\r",
      " 90%|███████████████████████████████████████▌    | 9/10 [06:44<00:46, 46.57s/it]"
     ]
    },
    {
     "name": "stdout",
     "output_type": "stream",
     "text": [
      "2922/2922 [==============================] - 2s 632us/step\n"
     ]
    },
    {
     "name": "stderr",
     "output_type": "stream",
     "text": [
      "100%|███████████████████████████████████████████| 10/10 [07:29<00:00, 44.97s/it]\n"
     ]
    }
   ],
   "source": [
    "results = []\n",
    "print('Computing feature importance...')\n",
    "for feature in tqdm(df_10.index.values):\n",
    "    tmp = X_test.loc[:,feature].copy()\n",
    "    median = X_test.median()\n",
    "    X_temp = pd.DataFrame(index=X_test.index,columns=X_test.columns)\n",
    "    X_temp.fillna(median,inplace=True)\n",
    "    X_temp.loc[:,feature] = tmp\n",
    "    y_preds = best_model.predict(X_temp.values,batch_size=256).reshape(-1,1) \n",
    "    results.append({'feature':tmp.values.reshape(1,-1)[0],'pred_return':y_preds.reshape(1,-1)[0]})  "
   ]
  },
  {
   "cell_type": "code",
   "execution_count": 26,
   "metadata": {},
   "outputs": [
    {
     "data": {
      "image/png": "[encoded data removed]",
      "text/plain": [
       "<Figure size 720x360 with 1 Axes>"
      ]
     },
     "metadata": {
      "needs_background": "light"
     },
     "output_type": "display_data"
    },
    {
     "data": {
      "image/png": "[encoded data removed]",
      "text/plain": [
       "<Figure size 720x360 with 1 Axes>"
      ]
     },
     "metadata": {
      "needs_background": "light"
     },
     "output_type": "display_data"
    },
    {
     "data": {
      "image/png": "[encoded data removed]",
      "text/plain": [
       "<Figure size 720x360 with 1 Axes>"
      ]
     },
     "metadata": {
      "needs_background": "light"
     },
     "output_type": "display_data"
    },
    {
     "data": {
      "image/png": "[encoded data removed]",
      "text/plain": [
       "<Figure size 720x360 with 1 Axes>"
      ]
     },
     "metadata": {
      "needs_background": "light"
     },
     "output_type": "display_data"
    },
    {
     "data": {
      "image/png": "[encoded data removed]",
      "text/plain": [
       "<Figure size 720x360 with 1 Axes>"
      ]
     },
     "metadata": {
      "needs_background": "light"
     },
     "output_type": "display_data"
    },
    {
     "data": {
      "image/png": "[encoded data removed]",
      "text/plain": [
       "<Figure size 720x360 with 1 Axes>"
      ]
     },
     "metadata": {
      "needs_background": "light"
     },
     "output_type": "display_data"
    },
    {
     "data": {
      "image/png": "[encoded data removed]",
      "text/plain": [
       "<Figure size 720x360 with 1 Axes>"
      ]
     },
     "metadata": {
      "needs_background": "light"
     },
     "output_type": "display_data"
    },
    {
     "data": {
      "image/png": "[encoded data removed]",
      "text/plain": [
       "<Figure size 720x360 with 1 Axes>"
      ]
     },
     "metadata": {
      "needs_background": "light"
     },
     "output_type": "display_data"
    },
    {
     "data": {
      "image/png": "[encoded data removed]",
      "text/plain": [
       "<Figure size 720x360 with 1 Axes>"
      ]
     },
     "metadata": {
      "needs_background": "light"
     },
     "output_type": "display_data"
    },
    {
     "data": {
      "image/png": "[encoded data removed]",
      "text/plain": [
       "<Figure size 720x360 with 1 Axes>"
      ]
     },
     "metadata": {
      "needs_background": "light"
     },
     "output_type": "display_data"
    }
   ],
   "source": [
    "features = df_10.index.values\n",
    "for i in range(len(results)):\n",
    "    result = results[i]\n",
    "    tmp_df = pd.DataFrame(result,index = np.arange(len(result['feature'])))\n",
    "    tmp_df.sort_values(by=['feature'],inplace=True)\n",
    "    plt.figure(figsize=(10,5))\n",
    "    plt.title(f'{features[i]} Feature Importance',size=16)\n",
    "    plt.plot(tmp_df.feature,tmp_df.pred_return)\n",
    "    plt.show()"
   ]
  },
  {
   "cell_type": "markdown",
   "metadata": {
    "id": "bfTmKAXRc0gV"
   },
   "source": [
    "### 4.Fit a penalised linear model (LASSO) to the same data, using validation data to pick the best penalty (e.g., you can use the “sklearn” package in Python to do this easily). Compare its test data performance to the neural network. "
   ]
  },
  {
   "cell_type": "code",
   "execution_count": 77,
   "metadata": {
    "id": "yOkXRm3Oc0gW"
   },
   "outputs": [],
   "source": [
    "import seaborn as sns\n",
    "from sklearn.metrics import r2_score, get_scorer\n",
    "from sklearn.linear_model import Lasso, LassoCV\n",
    "from sklearn.model_selection import KFold, RepeatedKFold, GridSearchCV, cross_validate, train_test_split"
   ]
  },
  {
   "cell_type": "code",
   "execution_count": 78,
   "metadata": {},
   "outputs": [],
   "source": [
    "#because lasso need too much memory, we have to reduce the size of train data\n",
    "X_cv_reduced, x_tmp, y_cv_reduced, y_tmp = train_test_split(X,y,test_size=0.7,shuffle=True)"
   ]
  },
  {
   "cell_type": "code",
   "execution_count": 79,
   "metadata": {},
   "outputs": [
    {
     "name": "stdout",
     "output_type": "stream",
     "text": [
      "Fitting 15 folds for each of 4 candidates, totalling 60 fits\n",
      "[CV 1/15; 1/4] START alpha=0.1..................................................\n",
      "[CV 1/15; 1/4] END ..................alpha=0.1;, score=-0.029 total time=   5.2s\n",
      "[CV 2/15; 1/4] START alpha=0.1..................................................\n",
      "[CV 2/15; 1/4] END ..................alpha=0.1;, score=-0.030 total time=   3.4s\n",
      "[CV 3/15; 1/4] START alpha=0.1..................................................\n",
      "[CV 3/15; 1/4] END ..................alpha=0.1;, score=-0.030 total time=   3.3s\n",
      "[CV 4/15; 1/4] START alpha=0.1..................................................\n",
      "[CV 4/15; 1/4] END ..................alpha=0.1;, score=-0.030 total time=   3.3s\n",
      "[CV 5/15; 1/4] START alpha=0.1..................................................\n",
      "[CV 5/15; 1/4] END ..................alpha=0.1;, score=-0.030 total time=   3.2s\n",
      "[CV 6/15; 1/4] START alpha=0.1..................................................\n",
      "[CV 6/15; 1/4] END ..................alpha=0.1;, score=-0.030 total time=   3.5s\n",
      "[CV 7/15; 1/4] START alpha=0.1..................................................\n",
      "[CV 7/15; 1/4] END ..................alpha=0.1;, score=-0.031 total time=   3.5s\n",
      "[CV 8/15; 1/4] START alpha=0.1..................................................\n",
      "[CV 8/15; 1/4] END ..................alpha=0.1;, score=-0.029 total time=   3.5s\n",
      "[CV 9/15; 1/4] START alpha=0.1..................................................\n",
      "[CV 9/15; 1/4] END ..................alpha=0.1;, score=-0.029 total time=   3.4s\n",
      "[CV 10/15; 1/4] START alpha=0.1.................................................\n",
      "[CV 10/15; 1/4] END .................alpha=0.1;, score=-0.029 total time=   4.0s\n",
      "[CV 11/15; 1/4] START alpha=0.1.................................................\n",
      "[CV 11/15; 1/4] END .................alpha=0.1;, score=-0.028 total time=   3.6s\n",
      "[CV 12/15; 1/4] START alpha=0.1.................................................\n",
      "[CV 12/15; 1/4] END .................alpha=0.1;, score=-0.029 total time=   3.4s\n",
      "[CV 13/15; 1/4] START alpha=0.1.................................................\n",
      "[CV 13/15; 1/4] END .................alpha=0.1;, score=-0.029 total time=   3.3s\n",
      "[CV 14/15; 1/4] START alpha=0.1.................................................\n",
      "[CV 14/15; 1/4] END .................alpha=0.1;, score=-0.032 total time=   3.3s\n",
      "[CV 15/15; 1/4] START alpha=0.1.................................................\n",
      "[CV 15/15; 1/4] END .................alpha=0.1;, score=-0.032 total time=   3.5s\n",
      "[CV 1/15; 2/4] START alpha=0.7333333333333333...................................\n",
      "[CV 1/15; 2/4] END ...alpha=0.7333333333333333;, score=-0.029 total time=   3.5s\n",
      "[CV 2/15; 2/4] START alpha=0.7333333333333333...................................\n",
      "[CV 2/15; 2/4] END ...alpha=0.7333333333333333;, score=-0.030 total time=   3.7s\n",
      "[CV 3/15; 2/4] START alpha=0.7333333333333333...................................\n",
      "[CV 3/15; 2/4] END ...alpha=0.7333333333333333;, score=-0.030 total time=   3.6s\n",
      "[CV 4/15; 2/4] START alpha=0.7333333333333333...................................\n",
      "[CV 4/15; 2/4] END ...alpha=0.7333333333333333;, score=-0.030 total time=   3.6s\n",
      "[CV 5/15; 2/4] START alpha=0.7333333333333333...................................\n",
      "[CV 5/15; 2/4] END ...alpha=0.7333333333333333;, score=-0.030 total time=   3.3s\n",
      "[CV 6/15; 2/4] START alpha=0.7333333333333333...................................\n",
      "[CV 6/15; 2/4] END ...alpha=0.7333333333333333;, score=-0.030 total time=   3.6s\n",
      "[CV 7/15; 2/4] START alpha=0.7333333333333333...................................\n",
      "[CV 7/15; 2/4] END ...alpha=0.7333333333333333;, score=-0.031 total time=   3.6s\n",
      "[CV 8/15; 2/4] START alpha=0.7333333333333333...................................\n",
      "[CV 8/15; 2/4] END ...alpha=0.7333333333333333;, score=-0.029 total time=   3.3s\n",
      "[CV 9/15; 2/4] START alpha=0.7333333333333333...................................\n",
      "[CV 9/15; 2/4] END ...alpha=0.7333333333333333;, score=-0.029 total time=   3.5s\n",
      "[CV 10/15; 2/4] START alpha=0.7333333333333333..................................\n",
      "[CV 10/15; 2/4] END ..alpha=0.7333333333333333;, score=-0.029 total time=   3.2s\n",
      "[CV 11/15; 2/4] START alpha=0.7333333333333333..................................\n",
      "[CV 11/15; 2/4] END ..alpha=0.7333333333333333;, score=-0.028 total time=   3.2s\n",
      "[CV 12/15; 2/4] START alpha=0.7333333333333333..................................\n",
      "[CV 12/15; 2/4] END ..alpha=0.7333333333333333;, score=-0.029 total time=   3.2s\n",
      "[CV 13/15; 2/4] START alpha=0.7333333333333333..................................\n",
      "[CV 13/15; 2/4] END ..alpha=0.7333333333333333;, score=-0.029 total time=   3.2s\n",
      "[CV 14/15; 2/4] START alpha=0.7333333333333333..................................\n",
      "[CV 14/15; 2/4] END ..alpha=0.7333333333333333;, score=-0.032 total time=   3.2s\n",
      "[CV 15/15; 2/4] START alpha=0.7333333333333333..................................\n",
      "[CV 15/15; 2/4] END ..alpha=0.7333333333333333;, score=-0.032 total time=   3.2s\n",
      "[CV 1/15; 3/4] START alpha=1.3666666666666667...................................\n",
      "[CV 1/15; 3/4] END ...alpha=1.3666666666666667;, score=-0.029 total time=   3.3s\n",
      "[CV 2/15; 3/4] START alpha=1.3666666666666667...................................\n",
      "[CV 2/15; 3/4] END ...alpha=1.3666666666666667;, score=-0.030 total time=   3.2s\n",
      "[CV 3/15; 3/4] START alpha=1.3666666666666667...................................\n",
      "[CV 3/15; 3/4] END ...alpha=1.3666666666666667;, score=-0.030 total time=   3.3s\n",
      "[CV 4/15; 3/4] START alpha=1.3666666666666667...................................\n",
      "[CV 4/15; 3/4] END ...alpha=1.3666666666666667;, score=-0.030 total time=   3.3s\n",
      "[CV 5/15; 3/4] START alpha=1.3666666666666667...................................\n",
      "[CV 5/15; 3/4] END ...alpha=1.3666666666666667;, score=-0.030 total time=   3.3s\n",
      "[CV 6/15; 3/4] START alpha=1.3666666666666667...................................\n",
      "[CV 6/15; 3/4] END ...alpha=1.3666666666666667;, score=-0.030 total time=   3.2s\n",
      "[CV 7/15; 3/4] START alpha=1.3666666666666667...................................\n",
      "[CV 7/15; 3/4] END ...alpha=1.3666666666666667;, score=-0.031 total time=   3.2s\n",
      "[CV 8/15; 3/4] START alpha=1.3666666666666667...................................\n",
      "[CV 8/15; 3/4] END ...alpha=1.3666666666666667;, score=-0.029 total time=   3.3s\n",
      "[CV 9/15; 3/4] START alpha=1.3666666666666667...................................\n",
      "[CV 9/15; 3/4] END ...alpha=1.3666666666666667;, score=-0.029 total time=   3.4s\n",
      "[CV 10/15; 3/4] START alpha=1.3666666666666667..................................\n",
      "[CV 10/15; 3/4] END ..alpha=1.3666666666666667;, score=-0.029 total time=   3.3s\n",
      "[CV 11/15; 3/4] START alpha=1.3666666666666667..................................\n",
      "[CV 11/15; 3/4] END ..alpha=1.3666666666666667;, score=-0.028 total time=   3.4s\n",
      "[CV 12/15; 3/4] START alpha=1.3666666666666667..................................\n",
      "[CV 12/15; 3/4] END ..alpha=1.3666666666666667;, score=-0.029 total time=   3.4s\n",
      "[CV 13/15; 3/4] START alpha=1.3666666666666667..................................\n",
      "[CV 13/15; 3/4] END ..alpha=1.3666666666666667;, score=-0.029 total time=   3.4s\n",
      "[CV 14/15; 3/4] START alpha=1.3666666666666667..................................\n",
      "[CV 14/15; 3/4] END ..alpha=1.3666666666666667;, score=-0.032 total time=   3.3s\n",
      "[CV 15/15; 3/4] START alpha=1.3666666666666667..................................\n",
      "[CV 15/15; 3/4] END ..alpha=1.3666666666666667;, score=-0.032 total time=   3.3s\n",
      "[CV 1/15; 4/4] START alpha=2.0..................................................\n",
      "[CV 1/15; 4/4] END ..................alpha=2.0;, score=-0.029 total time=   3.4s\n",
      "[CV 2/15; 4/4] START alpha=2.0..................................................\n",
      "[CV 2/15; 4/4] END ..................alpha=2.0;, score=-0.030 total time=   3.3s\n",
      "[CV 3/15; 4/4] START alpha=2.0..................................................\n",
      "[CV 3/15; 4/4] END ..................alpha=2.0;, score=-0.030 total time=   3.4s\n",
      "[CV 4/15; 4/4] START alpha=2.0..................................................\n",
      "[CV 4/15; 4/4] END ..................alpha=2.0;, score=-0.030 total time=   3.4s\n",
      "[CV 5/15; 4/4] START alpha=2.0..................................................\n",
      "[CV 5/15; 4/4] END ..................alpha=2.0;, score=-0.030 total time=   3.3s\n",
      "[CV 6/15; 4/4] START alpha=2.0..................................................\n"
     ]
    },
    {
     "name": "stdout",
     "output_type": "stream",
     "text": [
      "[CV 6/15; 4/4] END ..................alpha=2.0;, score=-0.030 total time=   3.3s\n",
      "[CV 7/15; 4/4] START alpha=2.0..................................................\n",
      "[CV 7/15; 4/4] END ..................alpha=2.0;, score=-0.031 total time=   3.3s\n",
      "[CV 8/15; 4/4] START alpha=2.0..................................................\n",
      "[CV 8/15; 4/4] END ..................alpha=2.0;, score=-0.029 total time=   3.3s\n",
      "[CV 9/15; 4/4] START alpha=2.0..................................................\n",
      "[CV 9/15; 4/4] END ..................alpha=2.0;, score=-0.029 total time=   3.4s\n",
      "[CV 10/15; 4/4] START alpha=2.0.................................................\n",
      "[CV 10/15; 4/4] END .................alpha=2.0;, score=-0.029 total time=   3.4s\n",
      "[CV 11/15; 4/4] START alpha=2.0.................................................\n",
      "[CV 11/15; 4/4] END .................alpha=2.0;, score=-0.028 total time=   3.3s\n",
      "[CV 12/15; 4/4] START alpha=2.0.................................................\n",
      "[CV 12/15; 4/4] END .................alpha=2.0;, score=-0.029 total time=   3.3s\n",
      "[CV 13/15; 4/4] START alpha=2.0.................................................\n",
      "[CV 13/15; 4/4] END .................alpha=2.0;, score=-0.029 total time=   3.3s\n",
      "[CV 14/15; 4/4] START alpha=2.0.................................................\n",
      "[CV 14/15; 4/4] END .................alpha=2.0;, score=-0.032 total time=   3.3s\n",
      "[CV 15/15; 4/4] START alpha=2.0.................................................\n",
      "[CV 15/15; 4/4] END .................alpha=2.0;, score=-0.032 total time=   3.3s\n",
      "MSE: -0.02982\n",
      "Config: {'alpha': 0.1}\n"
     ]
    }
   ],
   "source": [
    "cv = RepeatedKFold(n_splits=5, n_repeats=3, random_state=1)\n",
    "lasso = Lasso()\n",
    "grid = {'alpha': np.linspace(0.1,2,4)}\n",
    "\n",
    "gscv = GridSearchCV(lasso, grid, scoring='neg_mean_squared_error',cv=cv, verbose=10)\n",
    "results = gscv.fit(X_cv_reduced.values, y_cv_reduced.values)\n",
    "print('MSE: %.5f' % results.best_score_)\n",
    "print('Config: %s' % results.best_params_)"
   ]
  },
  {
   "cell_type": "code",
   "execution_count": 80,
   "metadata": {},
   "outputs": [],
   "source": [
    "best_model = gscv.best_estimator_\n",
    "y_pred = best_model.predict(X_test.values).reshape(-1,1)\n",
    "y_pred_top = best_model.predict(top_X_test).reshape(-1,1)\n",
    "y_pred_bottom = best_model.predict(bottom_X_test).reshape(-1,1)\n",
    "R2_oos_LASSO = pd.DataFrame(columns = ['R2_OOS','R2_OOS_top1000','R2_OOS_low1000'],index = ['LASSO'])\n",
    "R2_oos_LASSO.iloc[0,0] = r_squared(y_pred,y_test.values)\n",
    "R2_oos_LASSO.iloc[0,1] = r_squared(y_pred_top,top_y_test)\n",
    "R2_oos_LASSO.iloc[0,2] = r_squared(y_pred_bottom,bottom_y_test)"
   ]
  },
  {
   "cell_type": "code",
   "execution_count": 81,
   "metadata": {},
   "outputs": [
    {
     "data": {
      "text/html": [
       "<div>\n",
       "<style scoped>\n",
       "    .dataframe tbody tr th:only-of-type {\n",
       "        vertical-align: middle;\n",
       "    }\n",
       "\n",
       "    .dataframe tbody tr th {\n",
       "        vertical-align: top;\n",
       "    }\n",
       "\n",
       "    .dataframe thead th {\n",
       "        text-align: right;\n",
       "    }\n",
       "</style>\n",
       "<table border=\"1\" class=\"dataframe\">\n",
       "  <thead>\n",
       "    <tr style=\"text-align: right;\">\n",
       "      <th></th>\n",
       "      <th>R2_OOS</th>\n",
       "      <th>R2_OOS_top1000</th>\n",
       "      <th>R2_OOS_low1000</th>\n",
       "    </tr>\n",
       "  </thead>\n",
       "  <tbody>\n",
       "    <tr>\n",
       "      <th>LASSO</th>\n",
       "      <td>0.128561</td>\n",
       "      <td>0.124777</td>\n",
       "      <td>0.508</td>\n",
       "    </tr>\n",
       "  </tbody>\n",
       "</table>\n",
       "</div>"
      ],
      "text/plain": [
       "         R2_OOS R2_OOS_top1000 R2_OOS_low1000\n",
       "LASSO  0.128561       0.124777          0.508"
      ]
     },
     "execution_count": 81,
     "metadata": {},
     "output_type": "execute_result"
    }
   ],
   "source": [
    "R2_oos_LASSO*100"
   ]
  },
  {
   "cell_type": "markdown",
   "metadata": {},
   "source": [
    "Although the results show a reasonable performance compared to the null, the LASSO undeperform our best model NN4 in full, top-1000 and bottom-1000 sample. This suggest that the linear models, despite performing l1 penalization, fail to capture the nonlinear nature of our data. It would be interesting to evaluate NN4 against different non-linear alternatives. "
   ]
  },
  {
   "cell_type": "markdown",
   "metadata": {
    "id": "OqsoN75nc0gW"
   },
   "source": [
    "**5.Suppose somebody tells you to collect 10 more micro or macro variables that can predict returns and are not in our current dataset. How would you choose those variables, based on the intuitions you have gained in this project?**"
   ]
  },
  {
   "cell_type": "markdown",
   "metadata": {},
   "source": [
    "When collecting 10 more micro or macro variables that are not already included in our\n",
    "current dataset, we can start from the overall feature importance found in previous\n",
    "question. For example, we find that the factors which have the highest feature importance\n",
    "are macro factors. This suggests that when we search for new factors, it will be best to focus\n",
    "on macro factors. We can do this by first sourcing a large number of macro variables to\n",
    "which run a selection process on, the best method of this is to see for which variables we\n",
    "have the best/cleanest readily-accessible data for when sourcing public data or data\n",
    "provided by an institution. This will allow for more accurate performance results within the\n",
    "data.<br><br>\n",
    "It is important to consider variable importance and marginal relationships in all models\n",
    "tested. Considering this allows us to gauge the relationship between our new variables and\n",
    "the future returns. Our selection process can be the same as Gu, Kelly and Xiu, a multiple\n",
    "staged process which aims to test importance, influence, marginal relationship and\n",
    "robustness. We can also go through our own unique process; the important thing is to make\n",
    "sure that we test for variable importance within each model and compare performance\n",
    "using multiple measures.<br><br>\n",
    "As a measure of performance within our selection process, we can use the same criteria\n",
    "used by Gu, Kelly and Xiu (2019) and use a two-fold ranking system, measuring the\n",
    "reduction of R^2 when setting the values of a single predictor to 0 and holding the rest\n",
    "constant. Second, measure the sum of squared partial derivatives (SSD). Using two or more\n",
    "performance measures allow us to measure performance of each predictor while allowing\n",
    "to test the measures against one another to make sure they are in agreeance and\n",
    "calculating correctly.<br><br>\n",
    "We can make out marginal relations between returns and each characteristic, to help\n",
    "visualise first-order impact of covariates. For each method, when we can calculate the\n",
    "reduction in R^2 from setting all values of a given predictor to zero within each training\n",
    "sample. Taking the average of these into a single importance measure for each predictor\n",
    "will allow for more accurate results. Variable importance in each model is normalised to\n",
    "sum to 1, which will allow for relative importance to be measured between the variables for\n",
    "every model. This not only allows us to find the best 10 new variables that can predict\n",
    "returns, but also allows us to measure their performance against our already existing\n",
    "variables.<br><br>\n",
    "If our new variables are of momentum and reversal categories then we would specially see\n",
    "their influence on the linear models, due to being skewed towards these categories. Nonlinear\n",
    "models such as, trees and neural networks, are less skewed and will show us a better\n",
    "representation of these variables amongst the rest of the variables. If possible, testing using\n",
    "both linear and non-linear models is important because each have their benefits and tell us\n",
    "something unique about the data.<br><br>\n",
    "It would be a good idea to use placebo characteristics independent of future returns, to test\n",
    "for robustness of our models, these are dummy variables are generated to randomly and\n",
    "should show no correlation with returns. The inclusion of these show that most influential\n",
    "characteristics are unaffected by these noise variables, and that the placebo variables are\n",
    "among the least important variables (rightly so). This will allow us to make sure that our\n",
    "new variables are not influenced by other forces that do not have anything to do with\n",
    "return."
   ]
  }
 ],
 "metadata": {
  "accelerator": "TPU",
  "colab": {
   "background_execution": "on",
   "collapsed_sections": [],
   "history_visible": true,
   "include_colab_link": true,
   "machine_shape": "hm",
   "name": "bd_2.ipynb",
   "provenance": []
  },
  "kernelspec": {
   "display_name": "Python 3 (ipykernel)",
   "language": "python",
   "name": "python3"
  },
  "language_info": {
   "codemirror_mode": {
    "name": "ipython",
    "version": 3
   },
   "file_extension": ".py",
   "mimetype": "text/x-python",
   "name": "python",
   "nbconvert_exporter": "python",
   "pygments_lexer": "ipython3",
   "version": "3.9.12"
  },
  "varInspector": {
   "cols": {
    "lenName": 16,
    "lenType": 16,
    "lenVar": 40
   },
   "kernels_config": {
    "python": {
     "delete_cmd_postfix": "",
     "delete_cmd_prefix": "del ",
     "library": "var_list.py",
     "varRefreshCmd": "print(var_dic_list())"
    },
    "r": {
     "delete_cmd_postfix": ") ",
     "delete_cmd_prefix": "rm(",
     "library": "var_list.r",
     "varRefreshCmd": "cat(var_dic_list()) "
    }
   },
   "oldHeight": 123,
   "position": {
    "height": "377px",
    "left": "553px",
    "right": "20px",
    "top": "104px",
    "width": "602px"
   },
   "types_to_exclude": [
    "module",
    "function",
    "builtin_function_or_method",
    "instance",
    "_Feature"
   ],
   "varInspector_section_display": "block",
   "window_display": false
  }
 },
 "nbformat": 4,
 "nbformat_minor": 1
}
